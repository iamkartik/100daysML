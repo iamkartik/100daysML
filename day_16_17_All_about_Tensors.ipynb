{
  "nbformat": 4,
  "nbformat_minor": 0,
  "metadata": {
    "colab": {
      "name": "All about Tensors.ipynb",
      "version": "0.3.2",
      "provenance": []
    },
    "kernelspec": {
      "name": "python3",
      "display_name": "Python 3"
    },
    "accelerator": "GPU"
  },
  "cells": [
    {
      "metadata": {
        "id": "Xf3cWbZBO7X0",
        "colab_type": "text"
      },
      "cell_type": "markdown",
      "source": [
        "This notebook is a hands on version of the deeplizard ' Deep Learning with Pytorch ' playlist. \n",
        "\n",
        "Using it to understand tesnors , in order to get a better  understanding of how to maipulate tensors  to create custom models . eg using a combo of CNN and LSTM for image captioning . "
      ]
    },
    {
      "metadata": {
        "id": "so5s2uXFM4q2",
        "colab_type": "code",
        "colab": {}
      },
      "cell_type": "code",
      "source": [
        "!pip3 install torch torchvision"
      ],
      "execution_count": 0,
      "outputs": []
    },
    {
      "metadata": {
        "id": "9vWGSmedIIz6",
        "colab_type": "text"
      },
      "cell_type": "markdown",
      "source": [
        "###Tensors"
      ]
    },
    {
      "metadata": {
        "id": "-y7ULSLHOUO0",
        "colab_type": "text"
      },
      "cell_type": "markdown",
      "source": [
        "Tensors and index :\n",
        "\n",
        "    index req             CS                     Math\n",
        "\n",
        "    0                    number                scalar\n",
        "\n",
        "    1                    array                 vector\n",
        "\n",
        "    2                    2d- array             matrix\n",
        "\n",
        "    n                    nd-array              nd-tensor\n",
        "\n",
        "\n",
        "here index req specifies how many indices are required to access a particular element of a tensor"
      ]
    },
    {
      "metadata": {
        "id": "VKlLXThXbUSD",
        "colab_type": "code",
        "colab": {}
      },
      "cell_type": "code",
      "source": [
        "import numpy as np"
      ],
      "execution_count": 0,
      "outputs": []
    },
    {
      "metadata": {
        "id": "XOODRw8Wbg-V",
        "colab_type": "code",
        "colab": {
          "base_uri": "https://localhost:8080/",
          "height": 34
        },
        "outputId": "de79de5f-9c4c-44c7-ec5d-d8889ad52607"
      },
      "cell_type": "code",
      "source": [
        "# 1d - array - one index req\n",
        "data = np.array([13,22,49,50,38])\n",
        "print(data[2])"
      ],
      "execution_count": 3,
      "outputs": [
        {
          "output_type": "stream",
          "text": [
            "49\n"
          ],
          "name": "stdout"
        }
      ]
    },
    {
      "metadata": {
        "id": "cxYVzwvMbrcU",
        "colab_type": "code",
        "colab": {
          "base_uri": "https://localhost:8080/",
          "height": 34
        },
        "outputId": "d96d4cb6-fd45-4df1-e176-18760ec66a83"
      },
      "cell_type": "code",
      "source": [
        "# 2d - matrix - 2 indices req\n",
        "data = np.array([[11,23,34],\n",
        "               [29,12,40],\n",
        "               [58,39,20],\n",
        "               [15,12,90]])\n",
        "\n",
        "print(data[1][2])"
      ],
      "execution_count": 5,
      "outputs": [
        {
          "output_type": "stream",
          "text": [
            "40\n"
          ],
          "name": "stdout"
        }
      ]
    },
    {
      "metadata": {
        "id": "iFbL0LyJcF2y",
        "colab_type": "code",
        "colab": {
          "base_uri": "https://localhost:8080/",
          "height": 34
        },
        "outputId": "0fc7eb0d-3ad3-4e05-a8db-194b7a10da3c"
      },
      "cell_type": "code",
      "source": [
        "# 3d-tensor - 3 indices req\n",
        "data = np.array([\n",
        "                  [\n",
        "                    [11,22,33,21],\n",
        "                    [98,12,34,1],\n",
        "                    [28,12,34,54]\n",
        "                  ],\n",
        "                  [\n",
        "                    [14,92,43,9],\n",
        "                    [37,45,84,2],\n",
        "                    [19,57,31,35]\n",
        "                  ]\n",
        "                ])\n",
        "# 2 matrix od 3 rows and 2 cols\n",
        "print(data.shape)"
      ],
      "execution_count": 8,
      "outputs": [
        {
          "output_type": "stream",
          "text": [
            "(2, 3, 4)\n"
          ],
          "name": "stdout"
        }
      ]
    },
    {
      "metadata": {
        "id": "b24NVYg1facw",
        "colab_type": "code",
        "colab": {
          "base_uri": "https://localhost:8080/",
          "height": 34
        },
        "outputId": "dbc0c25e-19fa-423a-9a71-0c6ebc00c504"
      },
      "cell_type": "code",
      "source": [
        "print(data[1][2][0])"
      ],
      "execution_count": 9,
      "outputs": [
        {
          "output_type": "stream",
          "text": [
            "19\n"
          ],
          "name": "stdout"
        }
      ]
    },
    {
      "metadata": {
        "id": "brtl5hlQf0lR",
        "colab_type": "code",
        "colab": {
          "base_uri": "https://localhost:8080/",
          "height": 34
        },
        "outputId": "5c100a12-5187-4ea1-d697-906f0069c06e"
      },
      "cell_type": "code",
      "source": [
        "# 4d tensor \n",
        "\n",
        "data = np.array([\n",
        "                  [\n",
        "                      [\n",
        "                        [11,22,33,21],\n",
        "                        [98,12,34,1],\n",
        "                        [28,12,34,54]\n",
        "                      ],\n",
        "                      [\n",
        "                        [14,92,43,9],\n",
        "                        [37,45,84,2],\n",
        "                        [19,57,31,35]\n",
        "                      ]\n",
        "                  ],\n",
        "                  [\n",
        "                      [\n",
        "                        [23,22,30,31],\n",
        "                        [9,13,24,12],\n",
        "                        [8,14,34,5]\n",
        "                      ],\n",
        "                      [\n",
        "                        [54,32,4,9],\n",
        "                        [47,49,94,20],\n",
        "                        [99,77,33,3]\n",
        "                      ]\n",
        "                  ],\n",
        "                  [\n",
        "                      [\n",
        "                        [21,2,3,41],\n",
        "                        [93,13,23,32],\n",
        "                        [0,4,35,53]\n",
        "                      ],\n",
        "                      [\n",
        "                        [52,22,4,9],\n",
        "                        [57,43,99,30],\n",
        "                        [99,77,33,32]\n",
        "                      ]\n",
        "                  ]\n",
        "                  \n",
        "                ])\n",
        "\n",
        "# 3 axis each having 2 tensors each with each tensor being of shape 3rows 4cols\n",
        "print(data.shape)"
      ],
      "execution_count": 11,
      "outputs": [
        {
          "output_type": "stream",
          "text": [
            "(3, 2, 3, 4)\n"
          ],
          "name": "stdout"
        }
      ]
    },
    {
      "metadata": {
        "id": "bgbuIXz9gkTF",
        "colab_type": "code",
        "colab": {
          "base_uri": "https://localhost:8080/",
          "height": 34
        },
        "outputId": "f009dc50-7218-4283-8cc0-08ad5b9d402c"
      },
      "cell_type": "code",
      "source": [
        "# second axis -> first tensor -> third row -> second col = 14\n",
        "print(data[1][0][2][1])"
      ],
      "execution_count": 13,
      "outputs": [
        {
          "output_type": "stream",
          "text": [
            "14\n"
          ],
          "name": "stdout"
        }
      ]
    },
    {
      "metadata": {
        "id": "Qev3byv4hJd9",
        "colab_type": "text"
      },
      "cell_type": "markdown",
      "source": [
        "Tensor differs from dimensions of vecctor in vector space . The dimension of tensor does not tell us hoe many components exist within tensor.\n",
        "\n",
        "If we have a 3d tensor from a 3d euclidean space , we have an ordered triple with 3 components (x,y,z)\n",
        "\n",
        "A 3d tensor however can have many more than 3 components . eg the 2d tensor has 9 components \n",
        "\n",
        "        data = np.array([\n",
        "                  [12,34,21],\n",
        "                  [35,56,75],\n",
        "                  [23,45,67]\n",
        "                ])"
      ]
    },
    {
      "metadata": {
        "id": "fZuklStDiUUy",
        "colab_type": "text"
      },
      "cell_type": "markdown",
      "source": [
        "### Rank , Axes and Shape of Tensor\n",
        "\n",
        "Shape of a tensor contains all info about rank, axis and length of tensor"
      ]
    },
    {
      "metadata": {
        "id": "eOsG6-D1tJSU",
        "colab_type": "text"
      },
      "cell_type": "markdown",
      "source": [
        "Rank -> Axes -> Shape \n",
        "\n",
        "all related to indices"
      ]
    },
    {
      "metadata": {
        "id": "p6_ObrT5tTGd",
        "colab_type": "text"
      },
      "cell_type": "markdown",
      "source": [
        "Rank of a Tensor \n",
        "\n",
        "**Rank refers to the number of dimensions present within the tensor.** Eg Rank 2 tensor implies :\n",
        "  \n",
        "  Matrix\n",
        "  \n",
        "  2D Array\n",
        "  \n",
        "  2D tensor\n",
        "  \n",
        " **Rank of a tensor tells how many indexes are required to access a specific element within the tensor .**\n",
        " \n",
        " "
      ]
    },
    {
      "metadata": {
        "id": "Fhv9hnsB4vq4",
        "colab_type": "text"
      },
      "cell_type": "markdown",
      "source": [
        "Axes Of A Tensor \n",
        "\n",
        "**Axis of a tenso is a specific dimension of a tensor.**\n",
        "\n",
        "Eg - tensor of rank = 2 has 2 dimensions or 2 axes\n",
        "\n",
        "Elements are said to run along an axis, the running is constrained by the length of each axis.\n",
        "\n",
        "** Length of an Axis ** - tells us how many indexes are available along each axis\n"
      ]
    },
    {
      "metadata": {
        "id": "LvIkZQpy6X34",
        "colab_type": "code",
        "colab": {}
      },
      "cell_type": "code",
      "source": [
        "import torch"
      ],
      "execution_count": 0,
      "outputs": []
    },
    {
      "metadata": {
        "id": "7ynD9MV45e82",
        "colab_type": "code",
        "colab": {}
      },
      "cell_type": "code",
      "source": [
        "\n",
        "# Eg Tensor t has length 3 along first axis \n",
        "# and length 4 along second axis\n",
        "\n",
        "t = torch.tensor([\n",
        "    [25,39,19,89],\n",
        "    [23,11,90,42],\n",
        "    [43,28,79,24],\n",
        "]);\n"
      ],
      "execution_count": 0,
      "outputs": []
    },
    {
      "metadata": {
        "id": "9t70nc9b6lSz",
        "colab_type": "text"
      },
      "cell_type": "markdown",
      "source": [
        "Thus can access three index positions along the first axis\n",
        "\n",
        "t[0]\n",
        "\n",
        "t[1]\n",
        "\n",
        "t[2]\n",
        "\n",
        "and can access four index positions along the second axis\n",
        "\n",
        "t[0][0] ,  t[1][0] , t[2][0]\n",
        "\n",
        "t[0][1] , t[1][1] ,t[2][1] ,\n",
        "\n",
        "t[0][2] ,t[1][2] ,t[2][2]\n",
        "\n",
        "t[0][3] ,t[1][3] ,t[2][3] "
      ]
    },
    {
      "metadata": {
        "id": "c100N4XS7eT9",
        "colab_type": "code",
        "colab": {
          "base_uri": "https://localhost:8080/",
          "height": 34
        },
        "outputId": "9512cd30-5a5e-48c2-d3b5-925447e23ff1"
      },
      "cell_type": "code",
      "source": [
        "# acessing along the first axis gives a 1d tensor\n",
        "t[1]"
      ],
      "execution_count": 5,
      "outputs": [
        {
          "output_type": "execute_result",
          "data": {
            "text/plain": [
              "tensor([23, 11, 90, 42])"
            ]
          },
          "metadata": {
            "tags": []
          },
          "execution_count": 5
        }
      ]
    },
    {
      "metadata": {
        "id": "ODJ2ExpwDZAu",
        "colab_type": "code",
        "colab": {
          "base_uri": "https://localhost:8080/",
          "height": 34
        },
        "outputId": "fe45c405-2123-45cf-c9be-d77e3d48f9b8"
      },
      "cell_type": "code",
      "source": [
        "# accessing along first and second tensor gives a 0d tensor\n",
        "t[1][2]"
      ],
      "execution_count": 6,
      "outputs": [
        {
          "output_type": "execute_result",
          "data": {
            "text/plain": [
              "tensor(90)"
            ]
          },
          "metadata": {
            "tags": []
          },
          "execution_count": 6
        }
      ]
    },
    {
      "metadata": {
        "id": "cfhmV8olDkIw",
        "colab_type": "code",
        "colab": {
          "base_uri": "https://localhost:8080/",
          "height": 34
        },
        "outputId": "dd31f011-2f40-42b0-d774-8ad5e1aa1f11"
      },
      "cell_type": "code",
      "source": [
        "# only accessing the second axis or second col\n",
        "t[:,1]"
      ],
      "execution_count": 8,
      "outputs": [
        {
          "output_type": "execute_result",
          "data": {
            "text/plain": [
              "tensor([39, 11, 28])"
            ]
          },
          "metadata": {
            "tags": []
          },
          "execution_count": 8
        }
      ]
    },
    {
      "metadata": {
        "id": "WWbHJHVxDsSS",
        "colab_type": "text"
      },
      "cell_type": "markdown",
      "source": [
        "** The element of the last axis are numbers t[1][2]. Every other axis will contain n-dimensional array t[1] **"
      ]
    },
    {
      "metadata": {
        "id": "YRy8jFoKEIv9",
        "colab_type": "text"
      },
      "cell_type": "markdown",
      "source": [
        "Shape of a Tensor\n",
        "\n",
        "** shape is determined by the length of each axis , if we know the shape then we know the length of each axis => how many indexes are available**"
      ]
    },
    {
      "metadata": {
        "id": "uUdOEL44Eg0_",
        "colab_type": "code",
        "colab": {
          "base_uri": "https://localhost:8080/",
          "height": 34
        },
        "outputId": "cc8065f5-e2be-44a4-96de-026c3cc130f8"
      },
      "cell_type": "code",
      "source": [
        "t.shape"
      ],
      "execution_count": 9,
      "outputs": [
        {
          "output_type": "execute_result",
          "data": {
            "text/plain": [
              "torch.Size([3, 4])"
            ]
          },
          "metadata": {
            "tags": []
          },
          "execution_count": 9
        }
      ]
    },
    {
      "metadata": {
        "id": "5ydP_YznFJwT",
        "colab_type": "code",
        "colab": {
          "base_uri": "https://localhost:8080/",
          "height": 34
        },
        "outputId": "6bd83c0f-ac96-4347-f764-62a78eab5649"
      },
      "cell_type": "code",
      "source": [
        "# shape of first axis\n",
        "t.shape[0]"
      ],
      "execution_count": 10,
      "outputs": [
        {
          "output_type": "execute_result",
          "data": {
            "text/plain": [
              "3"
            ]
          },
          "metadata": {
            "tags": []
          },
          "execution_count": 10
        }
      ]
    },
    {
      "metadata": {
        "id": "p-kxi9g4FSch",
        "colab_type": "text"
      },
      "cell_type": "markdown",
      "source": [
        "*** Rank - No of dimensions ***\n",
        "\n",
        "*** Axis  - Specific dimension ***\n",
        "\n",
        "*** Shape - Length along each axis ***"
      ]
    },
    {
      "metadata": {
        "id": "W4R5XHy7F6a-",
        "colab_type": "text"
      },
      "cell_type": "markdown",
      "source": [
        "Reshaping Tensor"
      ]
    },
    {
      "metadata": {
        "id": "OnLq5eBsF_nw",
        "colab_type": "text"
      },
      "cell_type": "markdown",
      "source": [
        "Reshaping  tesnsor does not change the underlying data of the tensor. It only modifies the way it is stored/represented/ grouped\n",
        "\n",
        "It changes the shape ( length along each axis ) but maintains the same data underneath.\n",
        "\n"
      ]
    },
    {
      "metadata": {
        "id": "-L9_cyDSGPWT",
        "colab_type": "text"
      },
      "cell_type": "markdown",
      "source": [
        "Eg .\n",
        "\n",
        "Shape - 1x6\n",
        "\n",
        "[1,2,3,4,5,6]\n",
        "\n",
        "Shape - 6 x 1\n",
        "\n",
        "[ 1,   \n",
        " 2,   \n",
        " 3,   \n",
        " 4,   \n",
        " 5,   \n",
        " 6 ]  \n",
        " \n",
        " Shape - 2 x 3\n",
        " \n",
        "  [  [1,2,3],  \n",
        "     [4,5,6]  ]\n",
        "     \n",
        " Shape - 3 x2\n",
        " \n",
        " [ [1,2],  \n",
        "   [3,4],  \n",
        "   [5.6]  ]"
      ]
    },
    {
      "metadata": {
        "id": "OtIVaVmpHUIH",
        "colab_type": "text"
      },
      "cell_type": "markdown",
      "source": [
        "** -1 implies as long as necessary **"
      ]
    },
    {
      "metadata": {
        "id": "VsAAQ6PdHbGL",
        "colab_type": "code",
        "colab": {
          "base_uri": "https://localhost:8080/",
          "height": 34
        },
        "outputId": "85830856-3388-4325-fb15-80cb8e759920"
      },
      "cell_type": "code",
      "source": [
        "# ony one dimension given\n",
        "t.reshape(1,-1)"
      ],
      "execution_count": 11,
      "outputs": [
        {
          "output_type": "execute_result",
          "data": {
            "text/plain": [
              "tensor([[25, 39, 19, 89, 23, 11, 90, 42, 43, 28, 79, 24]])"
            ]
          },
          "metadata": {
            "tags": []
          },
          "execution_count": 11
        }
      ]
    },
    {
      "metadata": {
        "id": "rg5-bgPAHebh",
        "colab_type": "code",
        "colab": {
          "base_uri": "https://localhost:8080/",
          "height": 34
        },
        "outputId": "9d9439cb-f52a-4d9d-8654-7272af0602c6"
      },
      "cell_type": "code",
      "source": [
        "t.shape"
      ],
      "execution_count": 12,
      "outputs": [
        {
          "output_type": "execute_result",
          "data": {
            "text/plain": [
              "torch.Size([3, 4])"
            ]
          },
          "metadata": {
            "tags": []
          },
          "execution_count": 12
        }
      ]
    },
    {
      "metadata": {
        "id": "82Zyhs4qHkXx",
        "colab_type": "code",
        "colab": {
          "base_uri": "https://localhost:8080/",
          "height": 86
        },
        "outputId": "c34aaf99-e224-46e3-b6c0-64373e53deda"
      },
      "cell_type": "code",
      "source": [
        "t.reshape(4,3)"
      ],
      "execution_count": 13,
      "outputs": [
        {
          "output_type": "execute_result",
          "data": {
            "text/plain": [
              "tensor([[25, 39, 19],\n",
              "        [89, 23, 11],\n",
              "        [90, 42, 43],\n",
              "        [28, 79, 24]])"
            ]
          },
          "metadata": {
            "tags": []
          },
          "execution_count": 13
        }
      ]
    },
    {
      "metadata": {
        "id": "FKwMVGnUHnE1",
        "colab_type": "code",
        "colab": {
          "base_uri": "https://localhost:8080/",
          "height": 104
        },
        "outputId": "19eaa749-a634-4489-9923-da14d18e57e9"
      },
      "cell_type": "code",
      "source": [
        "# increasing the rank - 3d tensor\n",
        "t.reshape(2,2,3)"
      ],
      "execution_count": 14,
      "outputs": [
        {
          "output_type": "execute_result",
          "data": {
            "text/plain": [
              "tensor([[[25, 39, 19],\n",
              "         [89, 23, 11]],\n",
              "\n",
              "        [[90, 42, 43],\n",
              "         [28, 79, 24]]])"
            ]
          },
          "metadata": {
            "tags": []
          },
          "execution_count": 14
        }
      ]
    },
    {
      "metadata": {
        "id": "G8l6SxSfHtHA",
        "colab_type": "code",
        "colab": {
          "base_uri": "https://localhost:8080/",
          "height": 139
        },
        "outputId": "8f2d16d3-4cde-4da7-cd22-e9bef86a1f58"
      },
      "cell_type": "code",
      "source": [
        "# 4d tensor\n",
        "t.reshape(1,2,3,2)"
      ],
      "execution_count": 15,
      "outputs": [
        {
          "output_type": "execute_result",
          "data": {
            "text/plain": [
              "tensor([[[[25, 39],\n",
              "          [19, 89],\n",
              "          [23, 11]],\n",
              "\n",
              "         [[90, 42],\n",
              "          [43, 28],\n",
              "          [79, 24]]]])"
            ]
          },
          "metadata": {
            "tags": []
          },
          "execution_count": 15
        }
      ]
    },
    {
      "metadata": {
        "id": "s3wQLxgcHxUR",
        "colab_type": "code",
        "colab": {}
      },
      "cell_type": "code",
      "source": [
        ""
      ],
      "execution_count": 0,
      "outputs": []
    },
    {
      "metadata": {
        "id": "cmVl3GTyDLCv",
        "colab_type": "text"
      },
      "cell_type": "markdown",
      "source": [
        "### CNN Tensor Input "
      ]
    },
    {
      "metadata": {
        "id": "VJ9bFDLRDU0y",
        "colab_type": "text"
      },
      "cell_type": "markdown",
      "source": [
        "Shape of a tensor encodes all info about axes , rank and length\n",
        "\n",
        "\n",
        "In case of Image tensor it is a Rank 4  tensor with shape [ batch_size , image_channel, height, width]\n",
        "\n",
        "HxW = 28x28 or 224x224\n",
        "\n",
        "image_channel = 1 in greyscale and 3 in RGB\n",
        "\n",
        "channel , height , width represent one single image - [ channel, height,width]\n",
        "\n",
        "eg - [3,28,28 ] colored image with 3 channel RGB , to access red go to [0][23][10] red pixel value at width =10 and height=23\n",
        "\n",
        "batch_size - allows us to work with multiple images at the same time . Eg - access green pixel from second image in batch at height =20 and width =15\n",
        "\n",
        "t[2][1][20][15]\n"
      ]
    },
    {
      "metadata": {
        "id": "NyXI-WxG2C_3",
        "colab_type": "text"
      },
      "cell_type": "markdown",
      "source": [
        "** Convolution ** - changes the shape and underlying data inside a tensor\n",
        "\n",
        "It changes the height,width and color channels inside the tensor\n",
        "\n",
        "3 filters will output 3 channels after a convolution ( even for a greyscale image )\n",
        "\n",
        "One image is passed by 3 filters each producing a feature map\n",
        "\n",
        "[1,1,28,28]  --> [1,3,28,28] ( feature maps )\n",
        "\n",
        "Feature Map -> filter channel + input color channel  ( the output channels created from the convolutions)"
      ]
    },
    {
      "metadata": {
        "id": "IF-T8D2q2qIN",
        "colab_type": "text"
      },
      "cell_type": "markdown",
      "source": [
        "### Pytorch Tensors"
      ]
    },
    {
      "metadata": {
        "id": "E9460j4I3gvu",
        "colab_type": "code",
        "colab": {}
      },
      "cell_type": "code",
      "source": [
        "import torch \n",
        "import numpy as np"
      ],
      "execution_count": 0,
      "outputs": []
    },
    {
      "metadata": {
        "id": "bkQx5t54oJHM",
        "colab_type": "code",
        "colab": {
          "base_uri": "https://localhost:8080/",
          "height": 34
        },
        "outputId": "c3ea1a7b-81cd-42bd-fe11-28be2e17aeec"
      },
      "cell_type": "code",
      "source": [
        "# Create an empty tensor\n",
        "t = torch.Tensor()\n",
        "type(t)"
      ],
      "execution_count": 5,
      "outputs": [
        {
          "output_type": "execute_result",
          "data": {
            "text/plain": [
              "torch.Tensor"
            ]
          },
          "metadata": {
            "tags": []
          },
          "execution_count": 5
        }
      ]
    },
    {
      "metadata": {
        "id": "l0OeBBv8oO10",
        "colab_type": "code",
        "colab": {
          "base_uri": "https://localhost:8080/",
          "height": 69
        },
        "outputId": "87d46ae5-e977-4117-ac1e-22cb1c103bb8"
      },
      "cell_type": "code",
      "source": [
        "# default type is torch.float32\n",
        "print(t.dtype)\n",
        "# default device is cpu\n",
        "print(t.device)\n",
        "# default layout is strided\n",
        "print(t.layout)"
      ],
      "execution_count": 6,
      "outputs": [
        {
          "output_type": "stream",
          "text": [
            "torch.float32\n",
            "cpu\n",
            "torch.strided\n"
          ],
          "name": "stdout"
        }
      ]
    },
    {
      "metadata": {
        "id": "m0mv9wbdpQJJ",
        "colab_type": "text"
      },
      "cell_type": "markdown",
      "source": [
        "** Each tensor dtype has a cpu and gpu version and both are not compatible with each other , thus any calculation must occur between tensors of same dtype **\n",
        "\n",
        "Eg - dtype = ** torch.float32  ->  torch.FloatTensor (cpu )  & torch.cuda.FloatTensor (gpu) **"
      ]
    },
    {
      "metadata": {
        "id": "p8768hmyvlOQ",
        "colab_type": "code",
        "colab": {
          "base_uri": "https://localhost:8080/",
          "height": 34
        },
        "outputId": "b1354782-5df4-47ba-babc-8717d67abb3b"
      },
      "cell_type": "code",
      "source": [
        "# creating a gpu device\n",
        "# 0 is the index of gpu. In multi gpu systems it can take more values\n",
        "\n",
        "device = torch.device('cuda:0')\n",
        "device"
      ],
      "execution_count": 8,
      "outputs": [
        {
          "output_type": "execute_result",
          "data": {
            "text/plain": [
              "device(type='cuda', index=0)"
            ]
          },
          "metadata": {
            "tags": []
          },
          "execution_count": 8
        }
      ]
    },
    {
      "metadata": {
        "id": "DgSEPZ8dvutt",
        "colab_type": "text"
      },
      "cell_type": "markdown",
      "source": [
        "** Takeaways **\n",
        "\n",
        "* Tensor contain data of a uniform type ( dtype )\n",
        "* Tensor computations between tensors depend on dtype and device "
      ]
    },
    {
      "metadata": {
        "id": "l0zqatwnwL3B",
        "colab_type": "text"
      },
      "cell_type": "markdown",
      "source": [
        "There are 4 ways of creating torch tensors"
      ]
    },
    {
      "metadata": {
        "id": "lKy7PHBbwSg7",
        "colab_type": "code",
        "colab": {
          "base_uri": "https://localhost:8080/",
          "height": 34
        },
        "outputId": "6a7fae49-2b66-4eb7-d1b9-c14a41893e2d"
      },
      "cell_type": "code",
      "source": [
        "data = np.array([1,2,3])\n",
        "type(data)"
      ],
      "execution_count": 9,
      "outputs": [
        {
          "output_type": "execute_result",
          "data": {
            "text/plain": [
              "numpy.ndarray"
            ]
          },
          "metadata": {
            "tags": []
          },
          "execution_count": 9
        }
      ]
    },
    {
      "metadata": {
        "id": "ug9jFzX9wWVj",
        "colab_type": "code",
        "colab": {
          "base_uri": "https://localhost:8080/",
          "height": 34
        },
        "outputId": "25afe9eb-aaaf-40db-e898-eda3a8c18918"
      },
      "cell_type": "code",
      "source": [
        "# First is class method (capital Tensor ), it defaults the data to float\n",
        "t1 = torch.Tensor(data);t1"
      ],
      "execution_count": 10,
      "outputs": [
        {
          "output_type": "execute_result",
          "data": {
            "text/plain": [
              "tensor([1., 2., 3.])"
            ]
          },
          "metadata": {
            "tags": []
          },
          "execution_count": 10
        }
      ]
    },
    {
      "metadata": {
        "id": "Pj91rP2Vwhfg",
        "colab_type": "code",
        "colab": {
          "base_uri": "https://localhost:8080/",
          "height": 34
        },
        "outputId": "37ded171-51b1-418a-8095-e7ad54d0a736"
      },
      "cell_type": "code",
      "source": [
        "# second is the functional version ( lowercase tensor ), it keeps the data as it is \n",
        "t2 = torch.tensor(data);t2"
      ],
      "execution_count": 11,
      "outputs": [
        {
          "output_type": "execute_result",
          "data": {
            "text/plain": [
              "tensor([1, 2, 3])"
            ]
          },
          "metadata": {
            "tags": []
          },
          "execution_count": 11
        }
      ]
    },
    {
      "metadata": {
        "id": "3BwwiyN9wygb",
        "colab_type": "code",
        "colab": {
          "base_uri": "https://localhost:8080/",
          "height": 34
        },
        "outputId": "48917400-a588-4fec-9cc2-ec6323901a60"
      },
      "cell_type": "code",
      "source": [
        "# third is a method to create tensor , it also keeps the data type same\n",
        "t3 = torch.as_tensor(data);t3"
      ],
      "execution_count": 12,
      "outputs": [
        {
          "output_type": "execute_result",
          "data": {
            "text/plain": [
              "tensor([1, 2, 3])"
            ]
          },
          "metadata": {
            "tags": []
          },
          "execution_count": 12
        }
      ]
    },
    {
      "metadata": {
        "id": "xtYmOPqqw-qL",
        "colab_type": "code",
        "colab": {
          "base_uri": "https://localhost:8080/",
          "height": 34
        },
        "outputId": "998660c4-2fe6-4cfa-e084-e0c685cf3ff8"
      },
      "cell_type": "code",
      "source": [
        "# forth is another method to convert numpy arrays to tensors , keeping the same data type\n",
        "t4 = torch.from_numpy(data);t4"
      ],
      "execution_count": 13,
      "outputs": [
        {
          "output_type": "execute_result",
          "data": {
            "text/plain": [
              "tensor([1, 2, 3])"
            ]
          },
          "metadata": {
            "tags": []
          },
          "execution_count": 13
        }
      ]
    },
    {
      "metadata": {
        "id": "kPp3wkCNxKT9",
        "colab_type": "text"
      },
      "cell_type": "markdown",
      "source": [
        "Other methods of initializing tensors such as identity, ones ,zero and random"
      ]
    },
    {
      "metadata": {
        "id": "KUWRuCymxWHr",
        "colab_type": "code",
        "colab": {
          "base_uri": "https://localhost:8080/",
          "height": 69
        },
        "outputId": "8d3dca45-439a-4978-b1a7-47b95a5e7cdd"
      },
      "cell_type": "code",
      "source": [
        "# create an identity tensor , returns a 2D tensor with n rows and cols\n",
        "t1 = torch.eye(3);t1"
      ],
      "execution_count": 14,
      "outputs": [
        {
          "output_type": "execute_result",
          "data": {
            "text/plain": [
              "tensor([[1., 0., 0.],\n",
              "        [0., 1., 0.],\n",
              "        [0., 0., 1.]])"
            ]
          },
          "metadata": {
            "tags": []
          },
          "execution_count": 14
        }
      ]
    },
    {
      "metadata": {
        "id": "EabG1wFWxoWr",
        "colab_type": "code",
        "colab": {
          "base_uri": "https://localhost:8080/",
          "height": 104
        },
        "outputId": "0bfcff1c-2aa4-4622-af81-11155e127e20"
      },
      "cell_type": "code",
      "source": [
        "# create a tensor of ones , takes a shape of tensor\n",
        "t2 = torch.ones([2,2,2]);t2"
      ],
      "execution_count": 16,
      "outputs": [
        {
          "output_type": "execute_result",
          "data": {
            "text/plain": [
              "tensor([[[1., 1.],\n",
              "         [1., 1.]],\n",
              "\n",
              "        [[1., 1.],\n",
              "         [1., 1.]]])"
            ]
          },
          "metadata": {
            "tags": []
          },
          "execution_count": 16
        }
      ]
    },
    {
      "metadata": {
        "id": "ISYqG-Swx3F3",
        "colab_type": "code",
        "colab": {
          "base_uri": "https://localhost:8080/",
          "height": 139
        },
        "outputId": "f0f5a74c-1231-4d56-8b1a-e1cbc534af2a"
      },
      "cell_type": "code",
      "source": [
        "# Create a tensor of zeros , takes a shape as input \n",
        "t3 = torch.zeros([2,3,2]);t3"
      ],
      "execution_count": 18,
      "outputs": [
        {
          "output_type": "execute_result",
          "data": {
            "text/plain": [
              "tensor([[[0., 0.],\n",
              "         [0., 0.],\n",
              "         [0., 0.]],\n",
              "\n",
              "        [[0., 0.],\n",
              "         [0., 0.],\n",
              "         [0., 0.]]])"
            ]
          },
          "metadata": {
            "tags": []
          },
          "execution_count": 18
        }
      ]
    },
    {
      "metadata": {
        "id": "LWCgaVRyyBpz",
        "colab_type": "code",
        "colab": {
          "base_uri": "https://localhost:8080/",
          "height": 139
        },
        "outputId": "d615c90e-25cb-4d55-ed3e-b55fa2a94f48"
      },
      "cell_type": "code",
      "source": [
        "# Create a tensor of random values , takes a shape as input\n",
        "t4 = torch.rand([2,3,4]);t4"
      ],
      "execution_count": 20,
      "outputs": [
        {
          "output_type": "execute_result",
          "data": {
            "text/plain": [
              "tensor([[[0.2023, 0.0633, 0.9448, 0.2953],\n",
              "         [0.8125, 0.2100, 0.3645, 0.5333],\n",
              "         [0.2097, 0.3086, 0.3539, 0.1787]],\n",
              "\n",
              "        [[0.5748, 0.2957, 0.9695, 0.2538],\n",
              "         [0.6716, 0.8465, 0.2034, 0.0762],\n",
              "         [0.6287, 0.5249, 0.9280, 0.2362]]])"
            ]
          },
          "metadata": {
            "tags": []
          },
          "execution_count": 20
        }
      ]
    },
    {
      "metadata": {
        "id": "GfGQvdXuyNa2",
        "colab_type": "code",
        "colab": {}
      },
      "cell_type": "code",
      "source": [
        ""
      ],
      "execution_count": 0,
      "outputs": []
    },
    {
      "metadata": {
        "id": "FWnRdU8kyXdJ",
        "colab_type": "text"
      },
      "cell_type": "markdown",
      "source": [
        "### Pytorch Tensors : Best options "
      ]
    },
    {
      "metadata": {
        "id": "JdnaEM5CycRA",
        "colab_type": "text"
      },
      "cell_type": "markdown",
      "source": [
        "Differences in tensor creation \n",
        "\n",
        "torch.Tensor ( ) is a constructor of torch.Tensor class \n",
        "\n",
        "torch.tensor() is a factory function that constructs torch.Tensor objecrs and returns to the caller\n",
        "\n",
        "** Factory functions can return a objects of varying prototype or class ** \n",
        "\n",
        "thus the tensor function has more configuration options like dtype etc."
      ]
    },
    {
      "metadata": {
        "id": "KiNZcW8198R3",
        "colab_type": "code",
        "colab": {
          "base_uri": "https://localhost:8080/",
          "height": 34
        },
        "outputId": "e0d85cf1-0f56-482d-a731-acad36f84f51"
      },
      "cell_type": "code",
      "source": [
        "# default dtype is the one that is created by the constructor\n",
        "torch.get_default_dtype()"
      ],
      "execution_count": 22,
      "outputs": [
        {
          "output_type": "execute_result",
          "data": {
            "text/plain": [
              "torch.float32"
            ]
          },
          "metadata": {
            "tags": []
          },
          "execution_count": 22
        }
      ]
    },
    {
      "metadata": {
        "id": "hMD8JjMB9-9u",
        "colab_type": "code",
        "colab": {
          "base_uri": "https://localhost:8080/",
          "height": 34
        },
        "outputId": "65f9682b-ea59-4be9-e51e-52a03eac55de"
      },
      "cell_type": "code",
      "source": [
        "# factory functions can do type inference ie dtype is inferred based on the incoming data\n",
        "data = np.array([1,2,3])\n",
        "torch.tensor(data).dtype"
      ],
      "execution_count": 24,
      "outputs": [
        {
          "output_type": "execute_result",
          "data": {
            "text/plain": [
              "torch.int64"
            ]
          },
          "metadata": {
            "tags": []
          },
          "execution_count": 24
        }
      ]
    },
    {
      "metadata": {
        "id": "5neS1L_l-fz2",
        "colab_type": "code",
        "colab": {
          "base_uri": "https://localhost:8080/",
          "height": 34
        },
        "outputId": "d73b11da-0a01-4185-fac0-d5abe4bc320d"
      },
      "cell_type": "code",
      "source": [
        "# can also provide a dtype in the function\n",
        "torch.tensor(data,dtype=torch.float64)"
      ],
      "execution_count": 25,
      "outputs": [
        {
          "output_type": "execute_result",
          "data": {
            "text/plain": [
              "tensor([1., 2., 3.], dtype=torch.float64)"
            ]
          },
          "metadata": {
            "tags": []
          },
          "execution_count": 25
        }
      ]
    },
    {
      "metadata": {
        "id": "Qe8FNvhw-t96",
        "colab_type": "text"
      },
      "cell_type": "markdown",
      "source": [
        "** Sharing Memory for performance : Copy vs Share **\n",
        "\n",
        "      Share Data                Copy Data\n",
        "      torch.as_tensor()         torch.Tensor()\n",
        "      torch.from_numpy()        torch.tensor()\n",
        "      \n",
        "torch.as_tensor and torch.from_numpy both share the memory location with the underlying data . If the parent data is changed , then the tensor will also change."
      ]
    },
    {
      "metadata": {
        "id": "Pk1usiX1_fI5",
        "colab_type": "code",
        "colab": {}
      },
      "cell_type": "code",
      "source": [
        "data = np.array([1,2,3])\n",
        "\n",
        "t1 = torch.Tensor(data)\n",
        "t2 = torch.tensor(data)\n",
        "t3 = torch.as_tensor(data)\n",
        "t4 = torch.from_numpy(data)"
      ],
      "execution_count": 0,
      "outputs": []
    },
    {
      "metadata": {
        "id": "7FusHHhh_uKe",
        "colab_type": "code",
        "colab": {
          "base_uri": "https://localhost:8080/",
          "height": 34
        },
        "outputId": "6631a0c4-f43f-4837-dcd1-e5dec09cd7ae"
      },
      "cell_type": "code",
      "source": [
        "t1,t2,t3,t4"
      ],
      "execution_count": 28,
      "outputs": [
        {
          "output_type": "execute_result",
          "data": {
            "text/plain": [
              "(tensor([1., 2., 3.]), tensor([1, 2, 3]), tensor([1, 2, 3]), tensor([1, 2, 3]))"
            ]
          },
          "metadata": {
            "tags": []
          },
          "execution_count": 28
        }
      ]
    },
    {
      "metadata": {
        "id": "XlsUbyLO_z_t",
        "colab_type": "code",
        "colab": {}
      },
      "cell_type": "code",
      "source": [
        "# changing data \n",
        "data[0] = 5\n",
        "data[1] = 4\n",
        "data[2] = 9\n"
      ],
      "execution_count": 0,
      "outputs": []
    },
    {
      "metadata": {
        "id": "iGuaDZwB_8zZ",
        "colab_type": "code",
        "colab": {
          "base_uri": "https://localhost:8080/",
          "height": 34
        },
        "outputId": "3b39eb6d-82b6-4090-bca1-4c46fcda2da8"
      },
      "cell_type": "code",
      "source": [
        "t1,t2,t3,t4"
      ],
      "execution_count": 30,
      "outputs": [
        {
          "output_type": "execute_result",
          "data": {
            "text/plain": [
              "(tensor([1., 2., 3.]), tensor([1, 2, 3]), tensor([5, 4, 9]), tensor([5, 4, 9]))"
            ]
          },
          "metadata": {
            "tags": []
          },
          "execution_count": 30
        }
      ]
    },
    {
      "metadata": {
        "id": "ksqRiG65_-yI",
        "colab_type": "text"
      },
      "cell_type": "markdown",
      "source": [
        " Choosing b/w      *torch.Tensor*     and        *torch.tensor*      ->      **torch.tensor** as better customization \n",
        " \n",
        " Choosing b/w    *torch.as_tensor *  and  * torch.from_numpy*  -> **torch.as_tensor**  as it can also take in lists as inputs while from_numpy can only work  with numpy arrays"
      ]
    },
    {
      "metadata": {
        "id": "bsq-BySNAUGH",
        "colab_type": "text"
      },
      "cell_type": "markdown",
      "source": [
        "** Important Caveats **\n",
        "\n",
        "* numpy.ndarray objects are allocated on CPU , the as_tensor function must copy data from CPU to GPU when GPU is being used\n",
        "* Memory sharing of as_tensor does not work with built in Python data structures like lists\n",
        "* The as_tensor call requires developer knowledge of the sharing feature.\n",
        "* Performance improvement will be greater when there are lot of back and forth operations b/w numpy.ndarray and tensor objects. For single load operations , performance gain will be not much."
      ]
    },
    {
      "metadata": {
        "id": "GKfsCgcPCEk7",
        "colab_type": "text"
      },
      "cell_type": "markdown",
      "source": [
        "### Flatten , Reshape ,Squeeze and Concat"
      ]
    },
    {
      "metadata": {
        "id": "EIxweMSECUx0",
        "colab_type": "code",
        "colab": {}
      },
      "cell_type": "code",
      "source": [
        "import torch"
      ],
      "execution_count": 0,
      "outputs": []
    },
    {
      "metadata": {
        "id": "box93lpN7wjM",
        "colab_type": "text"
      },
      "cell_type": "markdown",
      "source": [
        "** Tensor operation types: **\n",
        "\n",
        "* Reshaping (important)\n",
        "* Element-wise\n",
        "* Reduction\n",
        "* Access\n",
        "  \n"
      ]
    },
    {
      "metadata": {
        "id": "OjhVU8qyAlsS",
        "colab_type": "code",
        "colab": {}
      },
      "cell_type": "code",
      "source": [
        "# reshaping\n",
        "\n",
        "t = torch.tensor([\n",
        "    [1,2,3,4],\n",
        "    [5,6,7,8],\n",
        "    [9,10,11,12]\n",
        "],dtype=torch.float32)"
      ],
      "execution_count": 0,
      "outputs": []
    },
    {
      "metadata": {
        "id": "19yoEdTdA9TI",
        "colab_type": "code",
        "colab": {
          "base_uri": "https://localhost:8080/",
          "height": 34
        },
        "outputId": "575c644b-1b94-488e-fcbd-0fbb5c409712"
      },
      "cell_type": "code",
      "source": [
        "# Determine the shape of the tensor \n",
        "t.shape"
      ],
      "execution_count": 4,
      "outputs": [
        {
          "output_type": "execute_result",
          "data": {
            "text/plain": [
              "torch.Size([3, 4])"
            ]
          },
          "metadata": {
            "tags": []
          },
          "execution_count": 4
        }
      ]
    },
    {
      "metadata": {
        "id": "Y6vLGyW0CIfV",
        "colab_type": "code",
        "colab": {
          "base_uri": "https://localhost:8080/",
          "height": 34
        },
        "outputId": "fd784d69-c196-45ff-c1a3-a79fdf64ab90"
      },
      "cell_type": "code",
      "source": [
        "# also can use size() to determine shape\n",
        "t.size()"
      ],
      "execution_count": 5,
      "outputs": [
        {
          "output_type": "execute_result",
          "data": {
            "text/plain": [
              "torch.Size([3, 4])"
            ]
          },
          "metadata": {
            "tags": []
          },
          "execution_count": 5
        }
      ]
    },
    {
      "metadata": {
        "id": "TsVYulcKCN1-",
        "colab_type": "text"
      },
      "cell_type": "markdown",
      "source": [
        "** Rank of tensor = no. of axis = length of shape **"
      ]
    },
    {
      "metadata": {
        "id": "wHf7q-a8CnWg",
        "colab_type": "code",
        "colab": {
          "base_uri": "https://localhost:8080/",
          "height": 34
        },
        "outputId": "8f490b7f-1f93-4e94-b796-aff3c96d108f"
      },
      "cell_type": "code",
      "source": [
        "# rank of this tensor =2\n",
        "len(t.shape)"
      ],
      "execution_count": 6,
      "outputs": [
        {
          "output_type": "execute_result",
          "data": {
            "text/plain": [
              "2"
            ]
          },
          "metadata": {
            "tags": []
          },
          "execution_count": 6
        }
      ]
    },
    {
      "metadata": {
        "id": "zY4lWJkVCrqc",
        "colab_type": "text"
      },
      "cell_type": "markdown",
      "source": [
        "** Number of elements in tensor = product of shape values **"
      ]
    },
    {
      "metadata": {
        "id": "8LPPgX7vC7dz",
        "colab_type": "code",
        "colab": {
          "base_uri": "https://localhost:8080/",
          "height": 34
        },
        "outputId": "3f634801-819b-4490-8736-ac2079661b06"
      },
      "cell_type": "code",
      "source": [
        "# creating a tensor of the shape object \n",
        "# returning the product of it\n",
        "torch.tensor(t.shape).prod()"
      ],
      "execution_count": 7,
      "outputs": [
        {
          "output_type": "execute_result",
          "data": {
            "text/plain": [
              "tensor(12)"
            ]
          },
          "metadata": {
            "tags": []
          },
          "execution_count": 7
        }
      ]
    },
    {
      "metadata": {
        "id": "HbnOR80dDH9Y",
        "colab_type": "code",
        "colab": {
          "base_uri": "https://localhost:8080/",
          "height": 34
        },
        "outputId": "240b48d3-efe8-4ec7-9bbd-1b6a8430a406"
      },
      "cell_type": "code",
      "source": [
        "# There is a dedicated function numel for it as well\n",
        "# number of elements\n",
        "t.numel()"
      ],
      "execution_count": 8,
      "outputs": [
        {
          "output_type": "execute_result",
          "data": {
            "text/plain": [
              "12"
            ]
          },
          "metadata": {
            "tags": []
          },
          "execution_count": 8
        }
      ]
    },
    {
      "metadata": {
        "id": "g-RrygIMDSVZ",
        "colab_type": "text"
      },
      "cell_type": "markdown",
      "source": [
        " #### Reshaping only changes the shape of the tensor but the underlying data remains the same \n",
        "\n",
        "All reshapes of same rank for tensor t  ( must be a factor of 12 )"
      ]
    },
    {
      "metadata": {
        "id": "P9mFeX9xDbnH",
        "colab_type": "code",
        "colab": {
          "base_uri": "https://localhost:8080/",
          "height": 34
        },
        "outputId": "2c841951-7a7c-477d-ee92-8afde32ff1da"
      },
      "cell_type": "code",
      "source": [
        "t.reshape([1,12])"
      ],
      "execution_count": 9,
      "outputs": [
        {
          "output_type": "execute_result",
          "data": {
            "text/plain": [
              "tensor([[ 1.,  2.,  3.,  4.,  5.,  6.,  7.,  8.,  9., 10., 11., 12.]])"
            ]
          },
          "metadata": {
            "tags": []
          },
          "execution_count": 9
        }
      ]
    },
    {
      "metadata": {
        "id": "v4RFHLq0De19",
        "colab_type": "code",
        "colab": {
          "base_uri": "https://localhost:8080/",
          "height": 52
        },
        "outputId": "bfc8028c-51f6-475f-c6e8-63152fa5d909"
      },
      "cell_type": "code",
      "source": [
        "t.reshape([2,6])"
      ],
      "execution_count": 10,
      "outputs": [
        {
          "output_type": "execute_result",
          "data": {
            "text/plain": [
              "tensor([[ 1.,  2.,  3.,  4.,  5.,  6.],\n",
              "        [ 7.,  8.,  9., 10., 11., 12.]])"
            ]
          },
          "metadata": {
            "tags": []
          },
          "execution_count": 10
        }
      ]
    },
    {
      "metadata": {
        "id": "HGHnUWntDpoI",
        "colab_type": "code",
        "colab": {
          "base_uri": "https://localhost:8080/",
          "height": 69
        },
        "outputId": "19efdcd1-f46a-425b-9059-0c105923d501"
      },
      "cell_type": "code",
      "source": [
        "t.reshape([3,4])"
      ],
      "execution_count": 11,
      "outputs": [
        {
          "output_type": "execute_result",
          "data": {
            "text/plain": [
              "tensor([[ 1.,  2.,  3.,  4.],\n",
              "        [ 5.,  6.,  7.,  8.],\n",
              "        [ 9., 10., 11., 12.]])"
            ]
          },
          "metadata": {
            "tags": []
          },
          "execution_count": 11
        }
      ]
    },
    {
      "metadata": {
        "id": "s12gVgsVDs45",
        "colab_type": "code",
        "colab": {
          "base_uri": "https://localhost:8080/",
          "height": 86
        },
        "outputId": "c4d9b010-8b68-444a-ccd3-641876727170"
      },
      "cell_type": "code",
      "source": [
        "t.reshape([4,3])"
      ],
      "execution_count": 12,
      "outputs": [
        {
          "output_type": "execute_result",
          "data": {
            "text/plain": [
              "tensor([[ 1.,  2.,  3.],\n",
              "        [ 4.,  5.,  6.],\n",
              "        [ 7.,  8.,  9.],\n",
              "        [10., 11., 12.]])"
            ]
          },
          "metadata": {
            "tags": []
          },
          "execution_count": 12
        }
      ]
    },
    {
      "metadata": {
        "id": "Bhb0AHMxDvpK",
        "colab_type": "code",
        "colab": {
          "base_uri": "https://localhost:8080/",
          "height": 121
        },
        "outputId": "3f2c944c-99a9-4c4c-963a-15eb1d389358"
      },
      "cell_type": "code",
      "source": [
        "t.reshape([6,2])"
      ],
      "execution_count": 13,
      "outputs": [
        {
          "output_type": "execute_result",
          "data": {
            "text/plain": [
              "tensor([[ 1.,  2.],\n",
              "        [ 3.,  4.],\n",
              "        [ 5.,  6.],\n",
              "        [ 7.,  8.],\n",
              "        [ 9., 10.],\n",
              "        [11., 12.]])"
            ]
          },
          "metadata": {
            "tags": []
          },
          "execution_count": 13
        }
      ]
    },
    {
      "metadata": {
        "id": "2Cv2rgC5DyE6",
        "colab_type": "code",
        "colab": {
          "base_uri": "https://localhost:8080/",
          "height": 225
        },
        "outputId": "19801b34-f5cf-4719-9d35-a06684ef1ccd"
      },
      "cell_type": "code",
      "source": [
        "t.reshape([12,1])"
      ],
      "execution_count": 14,
      "outputs": [
        {
          "output_type": "execute_result",
          "data": {
            "text/plain": [
              "tensor([[ 1.],\n",
              "        [ 2.],\n",
              "        [ 3.],\n",
              "        [ 4.],\n",
              "        [ 5.],\n",
              "        [ 6.],\n",
              "        [ 7.],\n",
              "        [ 8.],\n",
              "        [ 9.],\n",
              "        [10.],\n",
              "        [11.],\n",
              "        [12.]])"
            ]
          },
          "metadata": {
            "tags": []
          },
          "execution_count": 14
        }
      ]
    },
    {
      "metadata": {
        "id": "hbocuIqzD1sw",
        "colab_type": "text"
      },
      "cell_type": "markdown",
      "source": [
        "** Can also increase the rank of the tensor , but the number of elements should be 12 **"
      ]
    },
    {
      "metadata": {
        "id": "z1fL8ExhEBfr",
        "colab_type": "code",
        "colab": {
          "base_uri": "https://localhost:8080/",
          "height": 139
        },
        "outputId": "a42d8f90-324b-493e-bcfe-845dc20e54ec"
      },
      "cell_type": "code",
      "source": [
        "t.reshape([2,3,2])"
      ],
      "execution_count": 15,
      "outputs": [
        {
          "output_type": "execute_result",
          "data": {
            "text/plain": [
              "tensor([[[ 1.,  2.],\n",
              "         [ 3.,  4.],\n",
              "         [ 5.,  6.]],\n",
              "\n",
              "        [[ 7.,  8.],\n",
              "         [ 9., 10.],\n",
              "         [11., 12.]]])"
            ]
          },
          "metadata": {
            "tags": []
          },
          "execution_count": 15
        }
      ]
    },
    {
      "metadata": {
        "id": "SI_cTHxOEEHp",
        "colab_type": "text"
      },
      "cell_type": "markdown",
      "source": [
        "#### Changing shape by sqeezing and unsqueezing"
      ]
    },
    {
      "metadata": {
        "id": "nkpT-aMkEQax",
        "colab_type": "text"
      },
      "cell_type": "markdown",
      "source": [
        "** Squeezing ** - removes the dimensions or axes that have a length of 1\n",
        "\n",
        "** Unsqueezing ** - adds a dimension with length of one "
      ]
    },
    {
      "metadata": {
        "id": "1p_hCzU9EjDY",
        "colab_type": "code",
        "colab": {
          "base_uri": "https://localhost:8080/",
          "height": 69
        },
        "outputId": "f5db10f6-2170-4a7c-9520-f6a8031612a6"
      },
      "cell_type": "code",
      "source": [
        "t"
      ],
      "execution_count": 16,
      "outputs": [
        {
          "output_type": "execute_result",
          "data": {
            "text/plain": [
              "tensor([[ 1.,  2.,  3.,  4.],\n",
              "        [ 5.,  6.,  7.,  8.],\n",
              "        [ 9., 10., 11., 12.]])"
            ]
          },
          "metadata": {
            "tags": []
          },
          "execution_count": 16
        }
      ]
    },
    {
      "metadata": {
        "id": "yic1QF5iEkzj",
        "colab_type": "code",
        "colab": {
          "base_uri": "https://localhost:8080/",
          "height": 72
        },
        "outputId": "b7254da4-5bf7-4b7b-f8a3-114d326fb889"
      },
      "cell_type": "code",
      "source": [
        "t.reshape([1,12]) , t.reshape([1,12]).shape"
      ],
      "execution_count": 18,
      "outputs": [
        {
          "output_type": "execute_result",
          "data": {
            "text/plain": [
              "(tensor([[ 1.,  2.,  3.,  4.,  5.,  6.,  7.,  8.,  9., 10., 11., 12.]]),\n",
              " torch.Size([1, 12]))"
            ]
          },
          "metadata": {
            "tags": []
          },
          "execution_count": 18
        }
      ]
    },
    {
      "metadata": {
        "id": "8S3Bote4EpL_",
        "colab_type": "code",
        "colab": {
          "base_uri": "https://localhost:8080/",
          "height": 69
        },
        "outputId": "355f171d-6152-443c-de19-411a79f68e24"
      },
      "cell_type": "code",
      "source": [
        "# no effect as all all axes >1\n",
        "t.reshape([3,4]).squeeze()"
      ],
      "execution_count": 19,
      "outputs": [
        {
          "output_type": "execute_result",
          "data": {
            "text/plain": [
              "tensor([[ 1.,  2.,  3.,  4.],\n",
              "        [ 5.,  6.,  7.,  8.],\n",
              "        [ 9., 10., 11., 12.]])"
            ]
          },
          "metadata": {
            "tags": []
          },
          "execution_count": 19
        }
      ]
    },
    {
      "metadata": {
        "id": "AxjqyWeCE153",
        "colab_type": "code",
        "colab": {
          "base_uri": "https://localhost:8080/",
          "height": 52
        },
        "outputId": "c44243ee-fc09-4218-9545-a2673a18f158"
      },
      "cell_type": "code",
      "source": [
        "# removes one axis -> look at the number of []\n",
        "t.reshape([1,12]).squeeze() , t.reshape([1,12]).squeeze().shape"
      ],
      "execution_count": 20,
      "outputs": [
        {
          "output_type": "execute_result",
          "data": {
            "text/plain": [
              "(tensor([ 1.,  2.,  3.,  4.,  5.,  6.,  7.,  8.,  9., 10., 11., 12.]),\n",
              " torch.Size([12]))"
            ]
          },
          "metadata": {
            "tags": []
          },
          "execution_count": 20
        }
      ]
    },
    {
      "metadata": {
        "id": "Ysfqt7GeFEha",
        "colab_type": "code",
        "colab": {
          "base_uri": "https://localhost:8080/",
          "height": 69
        },
        "outputId": "e7bb80ca-af73-4b2d-9d42-3ea68c3c019e"
      },
      "cell_type": "code",
      "source": [
        "# Unsqueeze \n",
        "# needs a dimension where to add a new dimension to\n",
        "t.reshape([3,4]).unsqueeze(dim=0)"
      ],
      "execution_count": 22,
      "outputs": [
        {
          "output_type": "execute_result",
          "data": {
            "text/plain": [
              "tensor([[[ 1.,  2.,  3.,  4.],\n",
              "         [ 5.,  6.,  7.,  8.],\n",
              "         [ 9., 10., 11., 12.]]])"
            ]
          },
          "metadata": {
            "tags": []
          },
          "execution_count": 22
        }
      ]
    },
    {
      "metadata": {
        "id": "QcsKHx6BFbzu",
        "colab_type": "code",
        "colab": {
          "base_uri": "https://localhost:8080/",
          "height": 260
        },
        "outputId": "a1f31a6e-01d4-41c6-ef99-4bc8b4f887d5"
      },
      "cell_type": "code",
      "source": [
        "# added a dimension to the lowermost value\n",
        "t.reshape([3,4]).unsqueeze(dim=2)"
      ],
      "execution_count": 26,
      "outputs": [
        {
          "output_type": "execute_result",
          "data": {
            "text/plain": [
              "tensor([[[ 1.],\n",
              "         [ 2.],\n",
              "         [ 3.],\n",
              "         [ 4.]],\n",
              "\n",
              "        [[ 5.],\n",
              "         [ 6.],\n",
              "         [ 7.],\n",
              "         [ 8.]],\n",
              "\n",
              "        [[ 9.],\n",
              "         [10.],\n",
              "         [11.],\n",
              "         [12.]]])"
            ]
          },
          "metadata": {
            "tags": []
          },
          "execution_count": 26
        }
      ]
    },
    {
      "metadata": {
        "id": "SfcxUIyeFkSx",
        "colab_type": "code",
        "colab": {
          "base_uri": "https://localhost:8080/",
          "height": 469
        },
        "outputId": "844762b0-427f-4fff-a72a-611594622453"
      },
      "cell_type": "code",
      "source": [
        "# whole list inside []\n",
        "print(t.reshape([1,12]).squeeze().unsqueeze(dim=-2))\n",
        "# each element inside a []\n",
        "print(t.reshape([1,12]).squeeze().unsqueeze(dim=-1))\n",
        "# whole list inside []\n",
        "print(t.reshape([1,12]).squeeze().unsqueeze(dim=-2))\n",
        "# each element inside a []\n",
        "print(t.reshape([1,12]).squeeze().unsqueeze(dim=-1))\n"
      ],
      "execution_count": 32,
      "outputs": [
        {
          "output_type": "stream",
          "text": [
            "tensor([[ 1.,  2.,  3.,  4.,  5.,  6.,  7.,  8.,  9., 10., 11., 12.]])\n",
            "tensor([[ 1.],\n",
            "        [ 2.],\n",
            "        [ 3.],\n",
            "        [ 4.],\n",
            "        [ 5.],\n",
            "        [ 6.],\n",
            "        [ 7.],\n",
            "        [ 8.],\n",
            "        [ 9.],\n",
            "        [10.],\n",
            "        [11.],\n",
            "        [12.]])\n",
            "tensor([[ 1.,  2.,  3.,  4.,  5.,  6.,  7.,  8.,  9., 10., 11., 12.]])\n",
            "tensor([[ 1.],\n",
            "        [ 2.],\n",
            "        [ 3.],\n",
            "        [ 4.],\n",
            "        [ 5.],\n",
            "        [ 6.],\n",
            "        [ 7.],\n",
            "        [ 8.],\n",
            "        [ 9.],\n",
            "        [10.],\n",
            "        [11.],\n",
            "        [12.]])\n"
          ],
          "name": "stdout"
        }
      ]
    },
    {
      "metadata": {
        "id": "DBeXp204GB6x",
        "colab_type": "text"
      },
      "cell_type": "markdown",
      "source": [
        "#### Flatten - to remove all dimensions except for one "
      ]
    },
    {
      "metadata": {
        "id": "Grnzt_nzGqJQ",
        "colab_type": "text"
      },
      "cell_type": "markdown",
      "source": [
        "** if passed -1 as a second argument , converts the tensor into a single long tensor **"
      ]
    },
    {
      "metadata": {
        "id": "CMWD6fzrG2Rb",
        "colab_type": "code",
        "colab": {
          "base_uri": "https://localhost:8080/",
          "height": 34
        },
        "outputId": "f33621ba-8ab2-4e2d-a202-194956f807a7"
      },
      "cell_type": "code",
      "source": [
        "t.reshape(1,-1)"
      ],
      "execution_count": 33,
      "outputs": [
        {
          "output_type": "execute_result",
          "data": {
            "text/plain": [
              "tensor([[ 1.,  2.,  3.,  4.,  5.,  6.,  7.,  8.,  9., 10., 11., 12.]])"
            ]
          },
          "metadata": {
            "tags": []
          },
          "execution_count": 33
        }
      ]
    },
    {
      "metadata": {
        "id": "6GXFeWAyG4Qp",
        "colab_type": "code",
        "colab": {
          "base_uri": "https://localhost:8080/",
          "height": 34
        },
        "outputId": "832d7105-d4d1-44a4-b666-64038ef4f310"
      },
      "cell_type": "code",
      "source": [
        "# Still have 2 [] , to remove one and create a 1d tensor use squeeze\n",
        "t.reshape(1,-1).squeeze()"
      ],
      "execution_count": 34,
      "outputs": [
        {
          "output_type": "execute_result",
          "data": {
            "text/plain": [
              "tensor([ 1.,  2.,  3.,  4.,  5.,  6.,  7.,  8.,  9., 10., 11., 12.])"
            ]
          },
          "metadata": {
            "tags": []
          },
          "execution_count": 34
        }
      ]
    },
    {
      "metadata": {
        "id": "_v4YsaaYHC8k",
        "colab_type": "code",
        "colab": {}
      },
      "cell_type": "code",
      "source": [
        "def flatten(t):\n",
        "  t = t.reshape(1,-1)\n",
        "  t = t.squeeze()\n",
        "  return t"
      ],
      "execution_count": 0,
      "outputs": []
    },
    {
      "metadata": {
        "id": "pZGoWwhIHSzU",
        "colab_type": "code",
        "colab": {}
      },
      "cell_type": "code",
      "source": [
        "temp = torch.ones([2,3,4])"
      ],
      "execution_count": 0,
      "outputs": []
    },
    {
      "metadata": {
        "id": "E5Qay4TjHXYZ",
        "colab_type": "code",
        "colab": {
          "base_uri": "https://localhost:8080/",
          "height": 139
        },
        "outputId": "81a35c0a-8869-42df-ec6e-46e12a4b8858"
      },
      "cell_type": "code",
      "source": [
        "temp"
      ],
      "execution_count": 37,
      "outputs": [
        {
          "output_type": "execute_result",
          "data": {
            "text/plain": [
              "tensor([[[1., 1., 1., 1.],\n",
              "         [1., 1., 1., 1.],\n",
              "         [1., 1., 1., 1.]],\n",
              "\n",
              "        [[1., 1., 1., 1.],\n",
              "         [1., 1., 1., 1.],\n",
              "         [1., 1., 1., 1.]]])"
            ]
          },
          "metadata": {
            "tags": []
          },
          "execution_count": 37
        }
      ]
    },
    {
      "metadata": {
        "id": "OaYTn0CuHYIy",
        "colab_type": "code",
        "colab": {
          "base_uri": "https://localhost:8080/",
          "height": 72
        },
        "outputId": "860465d5-dda1-40e6-94d2-894f0b474790"
      },
      "cell_type": "code",
      "source": [
        "flatten(temp)"
      ],
      "execution_count": 38,
      "outputs": [
        {
          "output_type": "execute_result",
          "data": {
            "text/plain": [
              "tensor([1., 1., 1., 1., 1., 1., 1., 1., 1., 1., 1., 1., 1., 1., 1., 1., 1., 1.,\n",
              "        1., 1., 1., 1., 1., 1.])"
            ]
          },
          "metadata": {
            "tags": []
          },
          "execution_count": 38
        }
      ]
    },
    {
      "metadata": {
        "id": "naCc5rKWHbFE",
        "colab_type": "text"
      },
      "cell_type": "markdown",
      "source": [
        "** Flatten is used in CNN to get to final fully connected layers ** \n",
        "\n",
        "Can also flatten only specific parts of tensor eg have a tensor of shape [2,1,28,28] ( batch of 2 ; 28x28 greyscale images )\n",
        "\n",
        "Specifically flatten to [2,1,784] -> [2,784]"
      ]
    },
    {
      "metadata": {
        "id": "VtkDi5IIH6kR",
        "colab_type": "text"
      },
      "cell_type": "markdown",
      "source": [
        "#### Concatenating Tensors \n",
        "\n",
        "Using cat() method . The dim given determines how the tensors are concatenate "
      ]
    },
    {
      "metadata": {
        "id": "FuZJQJthH_SO",
        "colab_type": "code",
        "colab": {}
      },
      "cell_type": "code",
      "source": [
        "t1 = torch.tensor([\n",
        "    [1,2],\n",
        "    [3,4]\n",
        "],dtype=torch.float32)\n",
        "\n",
        "t2 = torch.tensor([\n",
        "    [5,6],\n",
        "    [7,8]\n",
        "],dtype=torch.float32)"
      ],
      "execution_count": 0,
      "outputs": []
    },
    {
      "metadata": {
        "id": "nCR1WJo7IZQj",
        "colab_type": "code",
        "colab": {
          "base_uri": "https://localhost:8080/",
          "height": 86
        },
        "outputId": "38cf0d67-a5f0-4296-b466-943a34a7abe2"
      },
      "cell_type": "code",
      "source": [
        "# Concatinating row wise axis =0 t2 comes below t1\n",
        "torch.cat((t1,t2),dim=0)"
      ],
      "execution_count": 47,
      "outputs": [
        {
          "output_type": "execute_result",
          "data": {
            "text/plain": [
              "tensor([[1., 2.],\n",
              "        [3., 4.],\n",
              "        [5., 6.],\n",
              "        [7., 8.]])"
            ]
          },
          "metadata": {
            "tags": []
          },
          "execution_count": 47
        }
      ]
    },
    {
      "metadata": {
        "id": "BEoyDfVxIkSE",
        "colab_type": "code",
        "colab": {
          "base_uri": "https://localhost:8080/",
          "height": 52
        },
        "outputId": "83958b21-bb69-45df-95c6-0431516250c4"
      },
      "cell_type": "code",
      "source": [
        "# Concatinating column wise axis =1 , t2 comes aside t1\n",
        "torch.cat((t1,t2),dim=1)"
      ],
      "execution_count": 48,
      "outputs": [
        {
          "output_type": "execute_result",
          "data": {
            "text/plain": [
              "tensor([[1., 2., 5., 6.],\n",
              "        [3., 4., 7., 8.]])"
            ]
          },
          "metadata": {
            "tags": []
          },
          "execution_count": 48
        }
      ]
    },
    {
      "metadata": {
        "id": "7iJMQ1dYIufC",
        "colab_type": "code",
        "colab": {
          "base_uri": "https://localhost:8080/",
          "height": 34
        },
        "outputId": "a029f297-de6f-4742-d6f1-addc042ffd1f"
      },
      "cell_type": "code",
      "source": [
        "# Checking the shapes of the two operations \n",
        "torch.cat((t1,t2),dim=0).shape , torch.cat((t1,t2),dim=1).shape"
      ],
      "execution_count": 49,
      "outputs": [
        {
          "output_type": "execute_result",
          "data": {
            "text/plain": [
              "(torch.Size([4, 2]), torch.Size([2, 4]))"
            ]
          },
          "metadata": {
            "tags": []
          },
          "execution_count": 49
        }
      ]
    },
    {
      "metadata": {
        "id": "JyLB7RcQI5F1",
        "colab_type": "code",
        "colab": {
          "base_uri": "https://localhost:8080/",
          "height": 156
        },
        "outputId": "a8acb72d-f4e8-4d69-b5cd-a3759c50866c"
      },
      "cell_type": "code",
      "source": [
        "# Testing higher rank tensors \n",
        "t3 = torch.ones([3,2,2])\n",
        "t3"
      ],
      "execution_count": 50,
      "outputs": [
        {
          "output_type": "execute_result",
          "data": {
            "text/plain": [
              "tensor([[[1., 1.],\n",
              "         [1., 1.]],\n",
              "\n",
              "        [[1., 1.],\n",
              "         [1., 1.]],\n",
              "\n",
              "        [[1., 1.],\n",
              "         [1., 1.]]])"
            ]
          },
          "metadata": {
            "tags": []
          },
          "execution_count": 50
        }
      ]
    },
    {
      "metadata": {
        "id": "GGxyEX6cJFZp",
        "colab_type": "code",
        "colab": {
          "base_uri": "https://localhost:8080/",
          "height": 186
        },
        "outputId": "874cede2-c3cd-4312-f501-f641a4fd3786"
      },
      "cell_type": "code",
      "source": [
        "# incompatible as no of dimensions do not match\n",
        "torch.cat((t3,t1),dim=2)"
      ],
      "execution_count": 53,
      "outputs": [
        {
          "output_type": "error",
          "ename": "RuntimeError",
          "evalue": "ignored",
          "traceback": [
            "\u001b[0;31m---------------------------------------------------------------------------\u001b[0m",
            "\u001b[0;31mRuntimeError\u001b[0m                              Traceback (most recent call last)",
            "\u001b[0;32m<ipython-input-53-5f87c786276c>\u001b[0m in \u001b[0;36m<module>\u001b[0;34m()\u001b[0m\n\u001b[0;32m----> 1\u001b[0;31m \u001b[0mtorch\u001b[0m\u001b[0;34m.\u001b[0m\u001b[0mcat\u001b[0m\u001b[0;34m(\u001b[0m\u001b[0;34m(\u001b[0m\u001b[0mt3\u001b[0m\u001b[0;34m,\u001b[0m\u001b[0mt1\u001b[0m\u001b[0;34m)\u001b[0m\u001b[0;34m,\u001b[0m\u001b[0mdim\u001b[0m\u001b[0;34m=\u001b[0m\u001b[0;36m2\u001b[0m\u001b[0;34m)\u001b[0m\u001b[0;34m\u001b[0m\u001b[0m\n\u001b[0m",
            "\u001b[0;31mRuntimeError\u001b[0m: invalid argument 0: Tensors must have same number of dimensions: got 3 and 2 at /pytorch/aten/src/TH/generic/THTensorMath.cpp:3607"
          ]
        }
      ]
    },
    {
      "metadata": {
        "id": "t70St2LLJLr1",
        "colab_type": "code",
        "colab": {}
      },
      "cell_type": "code",
      "source": [
        "# can be done with a view\n",
        "x = torch.rand(2, 400, 1, 1)\n",
        "y = torch.rand(2, 400, 2, 2)\n",
        "z = torch.rand(2, 400, 4, 4)\n",
        "x = x.view(x.size(0), -1)\n",
        "y = y.view(y.size(0), -1)\n",
        "z = z.view(z.size(0), -1)\n",
        "\n",
        "out = torch.cat([x, y, z], dim=1)"
      ],
      "execution_count": 0,
      "outputs": []
    },
    {
      "metadata": {
        "id": "pYTyBxHKKJ80",
        "colab_type": "code",
        "colab": {
          "base_uri": "https://localhost:8080/",
          "height": 34
        },
        "outputId": "2c48c95c-a371-4c79-dd2f-96fe938b7daf"
      },
      "cell_type": "code",
      "source": [
        "out.shape, x.size(0)"
      ],
      "execution_count": 56,
      "outputs": [
        {
          "output_type": "execute_result",
          "data": {
            "text/plain": [
              "(torch.Size([2, 8400]), 2)"
            ]
          },
          "metadata": {
            "tags": []
          },
          "execution_count": 56
        }
      ]
    },
    {
      "metadata": {
        "id": "cKhPjHnBKLYl",
        "colab_type": "text"
      },
      "cell_type": "markdown",
      "source": [
        "### Tensor Flattening for CNN\n",
        "\n",
        "Flattening a specific axis in a tensor"
      ]
    },
    {
      "metadata": {
        "id": "DAi2ipLsRMuH",
        "colab_type": "code",
        "colab": {}
      },
      "cell_type": "code",
      "source": [
        "import torch\n",
        "\n",
        "# Eg a bunch of 4x4 images \n",
        "\n",
        "t1 = torch.tensor([[\n",
        "    [1,1,1,1],\n",
        "    [1,1,1,1],\n",
        "    [1,1,1,1],\n",
        "    [1,1,1,1]\n",
        "]])\n",
        "\n",
        "t2 = torch.tensor([[\n",
        "    [2,2,2,2],\n",
        "    [2,2,2,2],\n",
        "    [2,2,2,2],\n",
        "    [2,2,2,2]\n",
        "]])\n",
        "\n",
        "t3 = torch.tensor([[\n",
        "    [3,3,3,3],\n",
        "    [3,3,3,3],\n",
        "    [3,3,3,3],\n",
        "    [3,3,3,3]\n",
        "]])"
      ],
      "execution_count": 0,
      "outputs": []
    },
    {
      "metadata": {
        "id": "-OyVI8V-Vbyk",
        "colab_type": "text"
      },
      "cell_type": "markdown",
      "source": [
        "Create  a stack of these images using **torch.stack**"
      ]
    },
    {
      "metadata": {
        "id": "XdK6q27SVk7t",
        "colab_type": "code",
        "colab": {
          "base_uri": "https://localhost:8080/",
          "height": 34
        },
        "outputId": "318aa262-7990-4343-e0a3-851c9ff10097"
      },
      "cell_type": "code",
      "source": [
        "t = torch.stack((t1,t2,t3))\n",
        "\n",
        "t.shape"
      ],
      "execution_count": 4,
      "outputs": [
        {
          "output_type": "execute_result",
          "data": {
            "text/plain": [
              "torch.Size([3, 1, 4, 4])"
            ]
          },
          "metadata": {
            "tags": []
          },
          "execution_count": 4
        }
      ]
    },
    {
      "metadata": {
        "id": "nNSDv5bHVrqP",
        "colab_type": "text"
      },
      "cell_type": "markdown",
      "source": [
        "The tensor is now a batch of 3 greyscale images , each of width=4 and height=4\n",
        "\n",
        "\n",
        "\n",
        "    [ Batch\n",
        "      [ Channel\n",
        "         [ Height\n",
        "            Width[1, 1, 1, 1],\n",
        "            [1, 1, 1, 1],\n",
        "            [1, 1, 1, 1],\n",
        "            [1, 1, 1, 1]\n",
        "        ]\n",
        "    ],\n",
        "    [\n",
        "        [\n",
        "            [2, 2, 2, 2],\n",
        "            [2, 2, 2, 2],\n",
        "            [2, 2, 2, 2],\n",
        "            [2, 2, 2, 2]\n",
        "        ]\n",
        "    ],\n",
        "    [\n",
        "        [\n",
        "            [3, 3, 3, 3],\n",
        "            [3, 3, 3, 3],\n",
        "            [3, 3, 3, 3],\n",
        "            [3, 3, 3, 3]\n",
        "        ]\n",
        "    ]\n",
        "]"
      ]
    },
    {
      "metadata": {
        "id": "HR9ym2rTWAUt",
        "colab_type": "code",
        "colab": {
          "base_uri": "https://localhost:8080/",
          "height": 295
        },
        "outputId": "6e9eac71-9b27-4b60-fd7a-3f5748ec4f01"
      },
      "cell_type": "code",
      "source": [
        "t"
      ],
      "execution_count": 5,
      "outputs": [
        {
          "output_type": "execute_result",
          "data": {
            "text/plain": [
              "tensor([[[[1, 1, 1, 1],\n",
              "          [1, 1, 1, 1],\n",
              "          [1, 1, 1, 1],\n",
              "          [1, 1, 1, 1]]],\n",
              "\n",
              "\n",
              "        [[[2, 2, 2, 2],\n",
              "          [2, 2, 2, 2],\n",
              "          [2, 2, 2, 2],\n",
              "          [2, 2, 2, 2]]],\n",
              "\n",
              "\n",
              "        [[[3, 3, 3, 3],\n",
              "          [3, 3, 3, 3],\n",
              "          [3, 3, 3, 3],\n",
              "          [3, 3, 3, 3]]]])"
            ]
          },
          "metadata": {
            "tags": []
          },
          "execution_count": 5
        }
      ]
    },
    {
      "metadata": {
        "id": "m7yoJi0mWaJK",
        "colab_type": "code",
        "colab": {
          "base_uri": "https://localhost:8080/",
          "height": 86
        },
        "outputId": "95764aa1-f4c1-449e-f674-73d2e6765c38"
      },
      "cell_type": "code",
      "source": [
        "# Accessing first image \n",
        "t[0]"
      ],
      "execution_count": 6,
      "outputs": [
        {
          "output_type": "execute_result",
          "data": {
            "text/plain": [
              "tensor([[[1, 1, 1, 1],\n",
              "         [1, 1, 1, 1],\n",
              "         [1, 1, 1, 1],\n",
              "         [1, 1, 1, 1]]])"
            ]
          },
          "metadata": {
            "tags": []
          },
          "execution_count": 6
        }
      ]
    },
    {
      "metadata": {
        "id": "WyU42rx6WvLU",
        "colab_type": "code",
        "colab": {
          "base_uri": "https://localhost:8080/",
          "height": 86
        },
        "outputId": "0df4f14c-6f73-4de9-d6bb-f9b570bab151"
      },
      "cell_type": "code",
      "source": [
        "# Accessing first color channel of first image \n",
        "t[0][0]"
      ],
      "execution_count": 7,
      "outputs": [
        {
          "output_type": "execute_result",
          "data": {
            "text/plain": [
              "tensor([[1, 1, 1, 1],\n",
              "        [1, 1, 1, 1],\n",
              "        [1, 1, 1, 1],\n",
              "        [1, 1, 1, 1]])"
            ]
          },
          "metadata": {
            "tags": []
          },
          "execution_count": 7
        }
      ]
    },
    {
      "metadata": {
        "id": "VRxjRF9MW2Ig",
        "colab_type": "code",
        "colab": {
          "base_uri": "https://localhost:8080/",
          "height": 34
        },
        "outputId": "e073a1c3-3686-4c04-ed37-4c04dcff229b"
      },
      "cell_type": "code",
      "source": [
        "#Accessing first row of first color channel of first image \n",
        "t[0][0][0]"
      ],
      "execution_count": 8,
      "outputs": [
        {
          "output_type": "execute_result",
          "data": {
            "text/plain": [
              "tensor([1, 1, 1, 1])"
            ]
          },
          "metadata": {
            "tags": []
          },
          "execution_count": 8
        }
      ]
    },
    {
      "metadata": {
        "id": "-rrj2fPvW9Y8",
        "colab_type": "code",
        "colab": {
          "base_uri": "https://localhost:8080/",
          "height": 34
        },
        "outputId": "0e8c4a4d-6897-484a-d3ab-facd354569ef"
      },
      "cell_type": "code",
      "source": [
        "# Accessing first pixel value of first row of first color channel of first image \n",
        "t[0][0][0][0]"
      ],
      "execution_count": 9,
      "outputs": [
        {
          "output_type": "execute_result",
          "data": {
            "text/plain": [
              "tensor(1)"
            ]
          },
          "metadata": {
            "tags": []
          },
          "execution_count": 9
        }
      ]
    },
    {
      "metadata": {
        "id": "sFtbBvGQXEyc",
        "colab_type": "text"
      },
      "cell_type": "markdown",
      "source": [
        "#### Flattening the tensor batch"
      ]
    },
    {
      "metadata": {
        "id": "PowoxqYCXJvU",
        "colab_type": "code",
        "colab": {
          "base_uri": "https://localhost:8080/",
          "height": 72
        },
        "outputId": "d4c09893-9cf3-4b00-894a-b16b90f3976c"
      },
      "cell_type": "code",
      "source": [
        "# Using reshape \n",
        "t.reshape(1,-1)[0]"
      ],
      "execution_count": 10,
      "outputs": [
        {
          "output_type": "execute_result",
          "data": {
            "text/plain": [
              "tensor([1, 1, 1, 1, 1, 1, 1, 1, 1, 1, 1, 1, 1, 1, 1, 1, 2, 2, 2, 2, 2, 2, 2, 2,\n",
              "        2, 2, 2, 2, 2, 2, 2, 2, 3, 3, 3, 3, 3, 3, 3, 3, 3, 3, 3, 3, 3, 3, 3, 3])"
            ]
          },
          "metadata": {
            "tags": []
          },
          "execution_count": 10
        }
      ]
    },
    {
      "metadata": {
        "id": "BtL4wWv9XRwb",
        "colab_type": "code",
        "colab": {
          "base_uri": "https://localhost:8080/",
          "height": 72
        },
        "outputId": "2aacb41a-af21-4a65-ce9f-a9dc0d1348de"
      },
      "cell_type": "code",
      "source": [
        "# Using reshape with one param\n",
        "t.reshape(-1)"
      ],
      "execution_count": 11,
      "outputs": [
        {
          "output_type": "execute_result",
          "data": {
            "text/plain": [
              "tensor([1, 1, 1, 1, 1, 1, 1, 1, 1, 1, 1, 1, 1, 1, 1, 1, 2, 2, 2, 2, 2, 2, 2, 2,\n",
              "        2, 2, 2, 2, 2, 2, 2, 2, 3, 3, 3, 3, 3, 3, 3, 3, 3, 3, 3, 3, 3, 3, 3, 3])"
            ]
          },
          "metadata": {
            "tags": []
          },
          "execution_count": 11
        }
      ]
    },
    {
      "metadata": {
        "id": "6Ns5rCBbXYhR",
        "colab_type": "code",
        "colab": {
          "base_uri": "https://localhost:8080/",
          "height": 72
        },
        "outputId": "cd0a1fe8-3ec3-49fe-a8d5-9fca37b4c00d"
      },
      "cell_type": "code",
      "source": [
        "# Using view and numel\n",
        "t.view(t.numel())"
      ],
      "execution_count": 12,
      "outputs": [
        {
          "output_type": "execute_result",
          "data": {
            "text/plain": [
              "tensor([1, 1, 1, 1, 1, 1, 1, 1, 1, 1, 1, 1, 1, 1, 1, 1, 2, 2, 2, 2, 2, 2, 2, 2,\n",
              "        2, 2, 2, 2, 2, 2, 2, 2, 3, 3, 3, 3, 3, 3, 3, 3, 3, 3, 3, 3, 3, 3, 3, 3])"
            ]
          },
          "metadata": {
            "tags": []
          },
          "execution_count": 12
        }
      ]
    },
    {
      "metadata": {
        "id": "RrK7zu9rXeXF",
        "colab_type": "text"
      },
      "cell_type": "markdown",
      "source": [
        "Pytorch also has a flatten method that flattens to a 1d tensor or can even flatten a particular axis"
      ]
    },
    {
      "metadata": {
        "id": "MjB9ptVtXqJQ",
        "colab_type": "code",
        "colab": {
          "base_uri": "https://localhost:8080/",
          "height": 72
        },
        "outputId": "48abfec1-4e78-4bf3-f6ac-bca5b3dcd654"
      },
      "cell_type": "code",
      "source": [
        "# flatten to a 1d tensor , unable to distinguish b/w different image pixels\n",
        "t.flatten()"
      ],
      "execution_count": 14,
      "outputs": [
        {
          "output_type": "execute_result",
          "data": {
            "text/plain": [
              "tensor([1, 1, 1, 1, 1, 1, 1, 1, 1, 1, 1, 1, 1, 1, 1, 1, 2, 2, 2, 2, 2, 2, 2, 2,\n",
              "        2, 2, 2, 2, 2, 2, 2, 2, 3, 3, 3, 3, 3, 3, 3, 3, 3, 3, 3, 3, 3, 3, 3, 3])"
            ]
          },
          "metadata": {
            "tags": []
          },
          "execution_count": 14
        }
      ]
    },
    {
      "metadata": {
        "id": "8-87cPNUXs84",
        "colab_type": "code",
        "colab": {
          "base_uri": "https://localhost:8080/",
          "height": 34
        },
        "outputId": "bc1b7e79-d9c5-47ec-955f-50bd16f422ef"
      },
      "cell_type": "code",
      "source": [
        "# Eg want to flatten the color channel\n",
        "t.flatten(start_dim=1).shape"
      ],
      "execution_count": 15,
      "outputs": [
        {
          "output_type": "execute_result",
          "data": {
            "text/plain": [
              "torch.Size([3, 16])"
            ]
          },
          "metadata": {
            "tags": []
          },
          "execution_count": 15
        }
      ]
    },
    {
      "metadata": {
        "id": "DPPz5cUOYEHp",
        "colab_type": "code",
        "colab": {
          "base_uri": "https://localhost:8080/",
          "height": 69
        },
        "outputId": "c55cf48a-6656-4c5d-a0b5-fd9939ac2f1e"
      },
      "cell_type": "code",
      "source": [
        "t.flatten(start_dim=1)"
      ],
      "execution_count": 16,
      "outputs": [
        {
          "output_type": "execute_result",
          "data": {
            "text/plain": [
              "tensor([[1, 1, 1, 1, 1, 1, 1, 1, 1, 1, 1, 1, 1, 1, 1, 1],\n",
              "        [2, 2, 2, 2, 2, 2, 2, 2, 2, 2, 2, 2, 2, 2, 2, 2],\n",
              "        [3, 3, 3, 3, 3, 3, 3, 3, 3, 3, 3, 3, 3, 3, 3, 3]])"
            ]
          },
          "metadata": {
            "tags": []
          },
          "execution_count": 16
        }
      ]
    },
    {
      "metadata": {
        "id": "gCSRNRWDYHoW",
        "colab_type": "text"
      },
      "cell_type": "markdown",
      "source": [
        "** start_dim is the axis from where we want to start flattening out the tensor **"
      ]
    },
    {
      "metadata": {
        "id": "E7eFs9iiYRSq",
        "colab_type": "code",
        "colab": {
          "base_uri": "https://localhost:8080/",
          "height": 72
        },
        "outputId": "a15d04f5-baf5-4e42-9c53-0c7671fab666"
      },
      "cell_type": "code",
      "source": [
        "t.flatten(start_dim=0)"
      ],
      "execution_count": 17,
      "outputs": [
        {
          "output_type": "execute_result",
          "data": {
            "text/plain": [
              "tensor([1, 1, 1, 1, 1, 1, 1, 1, 1, 1, 1, 1, 1, 1, 1, 1, 2, 2, 2, 2, 2, 2, 2, 2,\n",
              "        2, 2, 2, 2, 2, 2, 2, 2, 3, 3, 3, 3, 3, 3, 3, 3, 3, 3, 3, 3, 3, 3, 3, 3])"
            ]
          },
          "metadata": {
            "tags": []
          },
          "execution_count": 17
        }
      ]
    },
    {
      "metadata": {
        "id": "vSw93hNbYTtY",
        "colab_type": "code",
        "colab": {
          "base_uri": "https://localhost:8080/",
          "height": 104
        },
        "outputId": "864c21c2-3109-4177-ec9d-bdb22b8e9b50"
      },
      "cell_type": "code",
      "source": [
        "t.flatten(start_dim=2)"
      ],
      "execution_count": 18,
      "outputs": [
        {
          "output_type": "execute_result",
          "data": {
            "text/plain": [
              "tensor([[[1, 1, 1, 1, 1, 1, 1, 1, 1, 1, 1, 1, 1, 1, 1, 1]],\n",
              "\n",
              "        [[2, 2, 2, 2, 2, 2, 2, 2, 2, 2, 2, 2, 2, 2, 2, 2]],\n",
              "\n",
              "        [[3, 3, 3, 3, 3, 3, 3, 3, 3, 3, 3, 3, 3, 3, 3, 3]]])"
            ]
          },
          "metadata": {
            "tags": []
          },
          "execution_count": 18
        }
      ]
    },
    {
      "metadata": {
        "id": "YRUffnEJYVev",
        "colab_type": "code",
        "colab": {
          "base_uri": "https://localhost:8080/",
          "height": 295
        },
        "outputId": "310272a9-b569-44bd-d03c-96dbd9dbfc6d"
      },
      "cell_type": "code",
      "source": [
        "t.flatten(start_dim=3)"
      ],
      "execution_count": 19,
      "outputs": [
        {
          "output_type": "execute_result",
          "data": {
            "text/plain": [
              "tensor([[[[1, 1, 1, 1],\n",
              "          [1, 1, 1, 1],\n",
              "          [1, 1, 1, 1],\n",
              "          [1, 1, 1, 1]]],\n",
              "\n",
              "\n",
              "        [[[2, 2, 2, 2],\n",
              "          [2, 2, 2, 2],\n",
              "          [2, 2, 2, 2],\n",
              "          [2, 2, 2, 2]]],\n",
              "\n",
              "\n",
              "        [[[3, 3, 3, 3],\n",
              "          [3, 3, 3, 3],\n",
              "          [3, 3, 3, 3],\n",
              "          [3, 3, 3, 3]]]])"
            ]
          },
          "metadata": {
            "tags": []
          },
          "execution_count": 19
        }
      ]
    },
    {
      "metadata": {
        "id": "6lTo479sYXu-",
        "colab_type": "code",
        "colab": {
          "base_uri": "https://localhost:8080/",
          "height": 69
        },
        "outputId": "6bfce859-8896-4fe5-ba7c-b67b0f47b95d"
      },
      "cell_type": "code",
      "source": [
        "# Using reshape to flatten to images \n",
        "t.reshape((3,16))"
      ],
      "execution_count": 20,
      "outputs": [
        {
          "output_type": "execute_result",
          "data": {
            "text/plain": [
              "tensor([[1, 1, 1, 1, 1, 1, 1, 1, 1, 1, 1, 1, 1, 1, 1, 1],\n",
              "        [2, 2, 2, 2, 2, 2, 2, 2, 2, 2, 2, 2, 2, 2, 2, 2],\n",
              "        [3, 3, 3, 3, 3, 3, 3, 3, 3, 3, 3, 3, 3, 3, 3, 3]])"
            ]
          },
          "metadata": {
            "tags": []
          },
          "execution_count": 20
        }
      ]
    },
    {
      "metadata": {
        "id": "_m0YDxqDYgUJ",
        "colab_type": "code",
        "colab": {}
      },
      "cell_type": "code",
      "source": [
        ""
      ],
      "execution_count": 0,
      "outputs": []
    },
    {
      "metadata": {
        "id": "lKNMUBxKYrT3",
        "colab_type": "text"
      },
      "cell_type": "markdown",
      "source": [
        "### Broadcasting and Element-wise operations"
      ]
    },
    {
      "metadata": {
        "id": "Fja3KtI0YxYZ",
        "colab_type": "text"
      },
      "cell_type": "markdown",
      "source": [
        "Element wise operation operates on correspoding elements between tensors.\n",
        "\n",
        "** Corresponding element ** - Two elements are called corresponding if they share the same index position within tensors\n",
        "\n",
        "**Thus for element wise operations two tensors must have the same shape**\n",
        "\n",
        "Element-wise <=> Component-wise <=> Point-wise"
      ]
    },
    {
      "metadata": {
        "id": "ZVd8Och9gg5O",
        "colab_type": "code",
        "colab": {}
      },
      "cell_type": "code",
      "source": [
        "import torch \n",
        "import numpy as np\n",
        "\n",
        "t1 = torch.tensor([\n",
        "    [1,2],\n",
        "    [3,4]\n",
        "],dtype=torch.float32)\n",
        "\n",
        "t2 =  torch.tensor([\n",
        "    [9,8],\n",
        "    [7,6]\n",
        "],dtype=torch.float32)\n",
        "\n"
      ],
      "execution_count": 0,
      "outputs": []
    },
    {
      "metadata": {
        "id": "LJKcT49gg2CT",
        "colab_type": "code",
        "colab": {
          "base_uri": "https://localhost:8080/",
          "height": 34
        },
        "outputId": "455e4ab7-2f37-45a0-f116-cd2927a9a4ad"
      },
      "cell_type": "code",
      "source": [
        "# Corresponding elements\n",
        "t1[0][1], t2[0][1]"
      ],
      "execution_count": 4,
      "outputs": [
        {
          "output_type": "execute_result",
          "data": {
            "text/plain": [
              "(tensor(2.), tensor(8.))"
            ]
          },
          "metadata": {
            "tags": []
          },
          "execution_count": 4
        }
      ]
    },
    {
      "metadata": {
        "id": "LhpPxY7jn8cg",
        "colab_type": "text"
      },
      "cell_type": "markdown",
      "source": [
        "** Arithmetic operations are Element-wise **"
      ]
    },
    {
      "metadata": {
        "id": "jN1ZcckmoG-d",
        "colab_type": "code",
        "colab": {
          "base_uri": "https://localhost:8080/",
          "height": 156
        },
        "outputId": "42b69542-1130-4fb8-e490-3b1ec1fb4682"
      },
      "cell_type": "code",
      "source": [
        "print(t1+2)\n",
        "print(t1-2)\n",
        "print(t1*2)\n",
        "print(t1/2)"
      ],
      "execution_count": 6,
      "outputs": [
        {
          "output_type": "stream",
          "text": [
            "tensor([[3., 4.],\n",
            "        [5., 6.]])\n",
            "tensor([[-1.,  0.],\n",
            "        [ 1.,  2.]])\n",
            "tensor([[2., 4.],\n",
            "        [6., 8.]])\n",
            "tensor([[0.5000, 1.0000],\n",
            "        [1.5000, 2.0000]])\n"
          ],
          "name": "stdout"
        }
      ]
    },
    {
      "metadata": {
        "id": "42FvtECloYIE",
        "colab_type": "code",
        "colab": {
          "base_uri": "https://localhost:8080/",
          "height": 156
        },
        "outputId": "5542f986-43ca-4f30-8141-b8107e07ee60"
      },
      "cell_type": "code",
      "source": [
        "# Can also use the tensor built in methods\n",
        "print(t1.add(2))\n",
        "print(t1.sub(2))\n",
        "print(t1.mul(2))\n",
        "print(t1.div(2))"
      ],
      "execution_count": 8,
      "outputs": [
        {
          "output_type": "stream",
          "text": [
            "tensor([[3., 4.],\n",
            "        [5., 6.]])\n",
            "tensor([[-1.,  0.],\n",
            "        [ 1.,  2.]])\n",
            "tensor([[2., 4.],\n",
            "        [6., 8.]])\n",
            "tensor([[0.5000, 1.0000],\n",
            "        [1.5000, 2.0000]])\n"
          ],
          "name": "stdout"
        }
      ]
    },
    {
      "metadata": {
        "id": "ghjRt97tos6l",
        "colab_type": "text"
      },
      "cell_type": "markdown",
      "source": [
        "** scalar value 2 ** is used in all the operations?"
      ]
    },
    {
      "metadata": {
        "id": "BD387Eezo1Vm",
        "colab_type": "text"
      },
      "cell_type": "markdown",
      "source": [
        "#### Broadcasting Tensors "
      ]
    },
    {
      "metadata": {
        "id": "ox1hX8Pfo5Qv",
        "colab_type": "text"
      },
      "cell_type": "markdown",
      "source": [
        "Broadcasting is a concept whose implementation allows us to add scalars to higer dimensional tensors\n",
        "\n",
        "It converts the scalar into tensor of same shape \n",
        "\n",
        "** Especially useful during data preprocessing and data normalization **"
      ]
    },
    {
      "metadata": {
        "id": "-Ny__GozpFGp",
        "colab_type": "code",
        "colab": {
          "base_uri": "https://localhost:8080/",
          "height": 52
        },
        "outputId": "04911502-fee4-48bc-f61f-292b0abbeeb5"
      },
      "cell_type": "code",
      "source": [
        "# value,shape\n",
        "# Scalar transformed to a rank 2 tensor like t1\n",
        "np.broadcast_to(2,t1.shape)"
      ],
      "execution_count": 9,
      "outputs": [
        {
          "output_type": "execute_result",
          "data": {
            "text/plain": [
              "array([[2, 2],\n",
              "       [2, 2]])"
            ]
          },
          "metadata": {
            "tags": []
          },
          "execution_count": 9
        }
      ]
    },
    {
      "metadata": {
        "id": "k4CEA3WkpR0h",
        "colab_type": "code",
        "colab": {
          "base_uri": "https://localhost:8080/",
          "height": 52
        },
        "outputId": "faed773f-c7a0-43fa-e53d-dd61812728e9"
      },
      "cell_type": "code",
      "source": [
        "# Thus t1 + 2 is really in implementation\n",
        "t1 + torch.tensor(\n",
        "                  np.broadcast_to(2,t1.shape),\n",
        "                  dtype=torch.float32)"
      ],
      "execution_count": 10,
      "outputs": [
        {
          "output_type": "execute_result",
          "data": {
            "text/plain": [
              "tensor([[3., 4.],\n",
              "        [5., 6.]])"
            ]
          },
          "metadata": {
            "tags": []
          },
          "execution_count": 10
        }
      ]
    },
    {
      "metadata": {
        "id": "04FHTqPNpnR5",
        "colab_type": "code",
        "colab": {}
      },
      "cell_type": "code",
      "source": [
        "# Trickier example\n",
        "t1 = torch.tensor([\n",
        "    [1,1],\n",
        "    [1,1]\n",
        "],dtype=torch.float32)\n",
        "\n",
        "t2 = torch.tensor([2,4],dtype=torch.float32)"
      ],
      "execution_count": 0,
      "outputs": []
    },
    {
      "metadata": {
        "id": "kMCt1TG3p89k",
        "colab_type": "code",
        "colab": {
          "base_uri": "https://localhost:8080/",
          "height": 52
        },
        "outputId": "0417b93b-321c-477e-aafb-c004e20be481"
      },
      "cell_type": "code",
      "source": [
        "# t2 of shape [2] braodcasted to [2,2]\n",
        "t1+t2"
      ],
      "execution_count": 12,
      "outputs": [
        {
          "output_type": "execute_result",
          "data": {
            "text/plain": [
              "tensor([[3., 5.],\n",
              "        [3., 5.]])"
            ]
          },
          "metadata": {
            "tags": []
          },
          "execution_count": 12
        }
      ]
    },
    {
      "metadata": {
        "id": "U0qYOSZ4p-TK",
        "colab_type": "code",
        "colab": {
          "base_uri": "https://localhost:8080/",
          "height": 52
        },
        "outputId": "ab607a20-6c51-4755-fa5c-ce1c86f9e504"
      },
      "cell_type": "code",
      "source": [
        "np.broadcast_to(t2.numpy(),t1.shape)"
      ],
      "execution_count": 16,
      "outputs": [
        {
          "output_type": "execute_result",
          "data": {
            "text/plain": [
              "array([[2., 4.],\n",
              "       [2., 4.]], dtype=float32)"
            ]
          },
          "metadata": {
            "tags": []
          },
          "execution_count": 16
        }
      ]
    },
    {
      "metadata": {
        "id": "UEWnYyb9qJhI",
        "colab_type": "text"
      },
      "cell_type": "markdown",
      "source": [
        "#### Comparison Operations "
      ]
    },
    {
      "metadata": {
        "id": "ZtuqJk2Fqus7",
        "colab_type": "text"
      },
      "cell_type": "markdown",
      "source": [
        "Returns a new tensor of same shape containing 0 (false) and 1(true), after comparing corresponding elements"
      ]
    },
    {
      "metadata": {
        "id": "vtInIZEEq-JU",
        "colab_type": "code",
        "colab": {}
      },
      "cell_type": "code",
      "source": [
        "t = torch.tensor([\n",
        "    [1,2,4],\n",
        "    [5,3,9],\n",
        "    [8,6,7]\n",
        "],dtype=torch.float32)"
      ],
      "execution_count": 0,
      "outputs": []
    },
    {
      "metadata": {
        "id": "LV3YVs_urJbk",
        "colab_type": "code",
        "colab": {
          "base_uri": "https://localhost:8080/",
          "height": 69
        },
        "outputId": "04805e1a-3cbc-4848-a7de-a1e5be328f3e"
      },
      "cell_type": "code",
      "source": [
        "t>5"
      ],
      "execution_count": 18,
      "outputs": [
        {
          "output_type": "execute_result",
          "data": {
            "text/plain": [
              "tensor([[0, 0, 0],\n",
              "        [0, 0, 1],\n",
              "        [1, 1, 1]], dtype=torch.uint8)"
            ]
          },
          "metadata": {
            "tags": []
          },
          "execution_count": 18
        }
      ]
    },
    {
      "metadata": {
        "id": "DfpZup-nrLGl",
        "colab_type": "code",
        "colab": {
          "base_uri": "https://localhost:8080/",
          "height": 278
        },
        "outputId": "61445558-1507-4b88-f1d5-cc161328299a"
      },
      "cell_type": "code",
      "source": [
        "# Using Pytorch functions \n",
        "\n",
        "# equal\n",
        "print(t.eq(3))\n",
        "\n",
        "# >=\n",
        "print(t.ge(4))\n",
        "\n",
        "# >\n",
        "print(t.gt(5))\n",
        "\n",
        "# <\n",
        "print(t.lt(8))\n",
        "\n",
        "# <=\n",
        "print(t.le(7))"
      ],
      "execution_count": 19,
      "outputs": [
        {
          "output_type": "stream",
          "text": [
            "tensor([[0, 0, 0],\n",
            "        [0, 1, 0],\n",
            "        [0, 0, 0]], dtype=torch.uint8)\n",
            "tensor([[0, 0, 1],\n",
            "        [1, 0, 1],\n",
            "        [1, 1, 1]], dtype=torch.uint8)\n",
            "tensor([[0, 0, 0],\n",
            "        [0, 0, 1],\n",
            "        [1, 1, 1]], dtype=torch.uint8)\n",
            "tensor([[1, 1, 1],\n",
            "        [1, 1, 0],\n",
            "        [0, 1, 1]], dtype=torch.uint8)\n",
            "tensor([[1, 1, 1],\n",
            "        [1, 1, 0],\n",
            "        [0, 1, 1]], dtype=torch.uint8)\n"
          ],
          "name": "stdout"
        }
      ]
    },
    {
      "metadata": {
        "id": "qHtngfVUrnay",
        "colab_type": "code",
        "colab": {
          "base_uri": "https://localhost:8080/",
          "height": 69
        },
        "outputId": "5475e575-068a-462e-91f3-e8f51e69f62c"
      },
      "cell_type": "code",
      "source": [
        "# All the comparison operations use broadcasting\n",
        "t <=torch.tensor(\n",
        "      np.broadcast_to(7,t.shape),\n",
        "      dtype=torch.float32)"
      ],
      "execution_count": 20,
      "outputs": [
        {
          "output_type": "execute_result",
          "data": {
            "text/plain": [
              "tensor([[1, 1, 1],\n",
              "        [1, 1, 0],\n",
              "        [0, 1, 1]], dtype=torch.uint8)"
            ]
          },
          "metadata": {
            "tags": []
          },
          "execution_count": 20
        }
      ]
    },
    {
      "metadata": {
        "id": "7drmUSvEr6G1",
        "colab_type": "code",
        "colab": {
          "base_uri": "https://localhost:8080/",
          "height": 69
        },
        "outputId": "ab01653c-775d-488b-e112-43dafcc40c83"
      },
      "cell_type": "code",
      "source": [
        "# which is equivlent to \n",
        "t <= torch.tensor([\n",
        "    [7,7,7],\n",
        "    [7,7,7],\n",
        "    [7,7,7]\n",
        "],dtype=torch.float32)"
      ],
      "execution_count": 21,
      "outputs": [
        {
          "output_type": "execute_result",
          "data": {
            "text/plain": [
              "tensor([[1, 1, 1],\n",
              "        [1, 1, 0],\n",
              "        [0, 1, 1]], dtype=torch.uint8)"
            ]
          },
          "metadata": {
            "tags": []
          },
          "execution_count": 21
        }
      ]
    },
    {
      "metadata": {
        "id": "MhxA9G15sFXN",
        "colab_type": "text"
      },
      "cell_type": "markdown",
      "source": [
        "#### Element Wise operations using functions\n",
        "\n",
        "Functions like abs, sqrt etcc applied to each element"
      ]
    },
    {
      "metadata": {
        "id": "nuTt6U52sLqt",
        "colab_type": "code",
        "colab": {
          "base_uri": "https://localhost:8080/",
          "height": 69
        },
        "outputId": "e78b6fa0-2a04-4174-80ea-281550659e32"
      },
      "cell_type": "code",
      "source": [
        "t.abs()"
      ],
      "execution_count": 22,
      "outputs": [
        {
          "output_type": "execute_result",
          "data": {
            "text/plain": [
              "tensor([[1., 2., 4.],\n",
              "        [5., 3., 9.],\n",
              "        [8., 6., 7.]])"
            ]
          },
          "metadata": {
            "tags": []
          },
          "execution_count": 22
        }
      ]
    },
    {
      "metadata": {
        "id": "ZGv3GtJbsTEI",
        "colab_type": "code",
        "colab": {
          "base_uri": "https://localhost:8080/",
          "height": 69
        },
        "outputId": "cbf1d57b-ffcd-4fa3-fa26-3a0e3d86469e"
      },
      "cell_type": "code",
      "source": [
        "t.neg()"
      ],
      "execution_count": 23,
      "outputs": [
        {
          "output_type": "execute_result",
          "data": {
            "text/plain": [
              "tensor([[-1., -2., -4.],\n",
              "        [-5., -3., -9.],\n",
              "        [-8., -6., -7.]])"
            ]
          },
          "metadata": {
            "tags": []
          },
          "execution_count": 23
        }
      ]
    },
    {
      "metadata": {
        "id": "bqP1qoD5sUc7",
        "colab_type": "code",
        "colab": {
          "base_uri": "https://localhost:8080/",
          "height": 69
        },
        "outputId": "8ac2b4f4-c526-41c6-97cb-d616ea74aea6"
      },
      "cell_type": "code",
      "source": [
        "t.sqrt()"
      ],
      "execution_count": 24,
      "outputs": [
        {
          "output_type": "execute_result",
          "data": {
            "text/plain": [
              "tensor([[1.0000, 1.4142, 2.0000],\n",
              "        [2.2361, 1.7321, 3.0000],\n",
              "        [2.8284, 2.4495, 2.6458]])"
            ]
          },
          "metadata": {
            "tags": []
          },
          "execution_count": 24
        }
      ]
    },
    {
      "metadata": {
        "id": "TKXjzhyKsWCh",
        "colab_type": "text"
      },
      "cell_type": "markdown",
      "source": [
        "### ArgMax, Reduction and Access  Operations "
      ]
    },
    {
      "metadata": {
        "id": "ODtM0CXYsrZU",
        "colab_type": "text"
      },
      "cell_type": "markdown",
      "source": [
        "** Reduction operation on a tensor is operation that reduces the number of elements contained within a tensor **\n",
        "\n",
        "Reduction operations in general allow to compute the aggregate across data structures"
      ]
    },
    {
      "metadata": {
        "id": "cPnVvtJu3cEk",
        "colab_type": "code",
        "colab": {}
      },
      "cell_type": "code",
      "source": [
        "t = torch.tensor([\n",
        "    [0,1,0],\n",
        "    [2,0,2],\n",
        "    [0,3,0]\n",
        "],dtype=torch.float32)"
      ],
      "execution_count": 0,
      "outputs": []
    },
    {
      "metadata": {
        "id": "uf8776Bb3pLk",
        "colab_type": "code",
        "colab": {
          "base_uri": "https://localhost:8080/",
          "height": 34
        },
        "outputId": "aef0f9bd-cacd-4a37-971c-9e73318037f0"
      },
      "cell_type": "code",
      "source": [
        "# Reducing to sum\n",
        "t.sum()"
      ],
      "execution_count": 26,
      "outputs": [
        {
          "output_type": "execute_result",
          "data": {
            "text/plain": [
              "tensor(8.)"
            ]
          },
          "metadata": {
            "tags": []
          },
          "execution_count": 26
        }
      ]
    },
    {
      "metadata": {
        "id": "HGgDuAeM3saq",
        "colab_type": "code",
        "colab": {
          "base_uri": "https://localhost:8080/",
          "height": 34
        },
        "outputId": "1ae7ec99-e284-4929-f8ae-0e108cc20329"
      },
      "cell_type": "code",
      "source": [
        "# Sum reduced the 9 elements inside the tensor into  a single one \n",
        "t.numel(), t.sum().numel()"
      ],
      "execution_count": 27,
      "outputs": [
        {
          "output_type": "execute_result",
          "data": {
            "text/plain": [
              "(9, 1)"
            ]
          },
          "metadata": {
            "tags": []
          },
          "execution_count": 27
        }
      ]
    },
    {
      "metadata": {
        "id": "PuY-UOeg32E6",
        "colab_type": "code",
        "colab": {
          "base_uri": "https://localhost:8080/",
          "height": 69
        },
        "outputId": "28ee6934-6514-49d0-ba49-374460a5cb08"
      },
      "cell_type": "code",
      "source": [
        "# Other common reduction operations\n",
        "print(t.prod())\n",
        "print(t.mean())\n",
        "print(t.std())"
      ],
      "execution_count": 28,
      "outputs": [
        {
          "output_type": "stream",
          "text": [
            "tensor(0.)\n",
            "tensor(0.8889)\n",
            "tensor(1.1667)\n"
          ],
          "name": "stdout"
        }
      ]
    },
    {
      "metadata": {
        "id": "JZ5wgg704CKv",
        "colab_type": "text"
      },
      "cell_type": "markdown",
      "source": [
        "** Reducing Tensors by axes ** \n",
        "\n",
        "Reduction can reduce to tensors of size > 1 as well"
      ]
    },
    {
      "metadata": {
        "id": "jq67r3344dKp",
        "colab_type": "code",
        "colab": {}
      },
      "cell_type": "code",
      "source": [
        "t = torch.tensor([\n",
        "    [1,1,1,1],\n",
        "    [2,2,2,2],\n",
        "    [3,3,3,3]\n",
        "],dtype=torch.float32)"
      ],
      "execution_count": 0,
      "outputs": []
    },
    {
      "metadata": {
        "id": "RVvRpIv141rb",
        "colab_type": "code",
        "colab": {
          "base_uri": "https://localhost:8080/",
          "height": 34
        },
        "outputId": "3399c8df-c6a9-4860-e0a9-df1cdddfc5c4"
      },
      "cell_type": "code",
      "source": [
        "# Can sum across any dimension 0 (col) , 1 (row)\n",
        "t.shape"
      ],
      "execution_count": 31,
      "outputs": [
        {
          "output_type": "execute_result",
          "data": {
            "text/plain": [
              "torch.Size([3, 4])"
            ]
          },
          "metadata": {
            "tags": []
          },
          "execution_count": 31
        }
      ]
    },
    {
      "metadata": {
        "id": "BoC1wBSb49SJ",
        "colab_type": "code",
        "colab": {
          "base_uri": "https://localhost:8080/",
          "height": 34
        },
        "outputId": "118cb559-4b3d-4afc-bdb3-97ccd89e91ab"
      },
      "cell_type": "code",
      "source": [
        "# across dim=0 ie cols\n",
        "t.sum(dim=0)"
      ],
      "execution_count": 32,
      "outputs": [
        {
          "output_type": "execute_result",
          "data": {
            "text/plain": [
              "tensor([6., 6., 6., 6.])"
            ]
          },
          "metadata": {
            "tags": []
          },
          "execution_count": 32
        }
      ]
    },
    {
      "metadata": {
        "id": "I4u3Ve8X5Ae1",
        "colab_type": "code",
        "colab": {
          "base_uri": "https://localhost:8080/",
          "height": 34
        },
        "outputId": "ff883ab2-08da-4d73-9dec-68fcfc39d4d1"
      },
      "cell_type": "code",
      "source": [
        "# across dim=1 ie rows\n",
        "t.sum(dim=1)"
      ],
      "execution_count": 33,
      "outputs": [
        {
          "output_type": "execute_result",
          "data": {
            "text/plain": [
              "tensor([ 4.,  8., 12.])"
            ]
          },
          "metadata": {
            "tags": []
          },
          "execution_count": 33
        }
      ]
    },
    {
      "metadata": {
        "id": "IWEUpWmg5OoR",
        "colab_type": "text"
      },
      "cell_type": "markdown",
      "source": [
        "** Argmax returns the index location of the max value inside tensor **"
      ]
    },
    {
      "metadata": {
        "id": "GLN8OFi15bWz",
        "colab_type": "code",
        "colab": {}
      },
      "cell_type": "code",
      "source": [
        "t = torch.tensor([\n",
        "    [1,0,0,2],\n",
        "    [0,3,3,0],\n",
        "    [4,0,0,5]\n",
        "],dtype=torch.float32)"
      ],
      "execution_count": 0,
      "outputs": []
    },
    {
      "metadata": {
        "id": "mXR1K9vG5owp",
        "colab_type": "code",
        "colab": {
          "base_uri": "https://localhost:8080/",
          "height": 34
        },
        "outputId": "ba5122b1-af5a-473f-fd5b-75b92bb0010d"
      },
      "cell_type": "code",
      "source": [
        "# Max value in t =5 ,\n",
        "t.max()"
      ],
      "execution_count": 35,
      "outputs": [
        {
          "output_type": "execute_result",
          "data": {
            "text/plain": [
              "tensor(5.)"
            ]
          },
          "metadata": {
            "tags": []
          },
          "execution_count": 35
        }
      ]
    },
    {
      "metadata": {
        "id": "VjhZXAnc5uQ3",
        "colab_type": "code",
        "colab": {
          "base_uri": "https://localhost:8080/",
          "height": 34
        },
        "outputId": "dd497f16-ae1e-48ad-fc65-b3e863521c38"
      },
      "cell_type": "code",
      "source": [
        "t.flatten()"
      ],
      "execution_count": 37,
      "outputs": [
        {
          "output_type": "execute_result",
          "data": {
            "text/plain": [
              "tensor([1., 0., 0., 2., 0., 3., 3., 0., 4., 0., 0., 5.])"
            ]
          },
          "metadata": {
            "tags": []
          },
          "execution_count": 37
        }
      ]
    },
    {
      "metadata": {
        "id": "_a3txKBD5vny",
        "colab_type": "text"
      },
      "cell_type": "markdown",
      "source": [
        "** Argmax returning the index after flattening the tensor **"
      ]
    },
    {
      "metadata": {
        "id": "euqW_yC154uk",
        "colab_type": "code",
        "colab": {
          "base_uri": "https://localhost:8080/",
          "height": 34
        },
        "outputId": "1a26b256-e675-4b0f-dd11-1021bd2f0533"
      },
      "cell_type": "code",
      "source": [
        "# index of max =5 in flattened tensor =11\n",
        "t.argmax()"
      ],
      "execution_count": 39,
      "outputs": [
        {
          "output_type": "execute_result",
          "data": {
            "text/plain": [
              "tensor(11)"
            ]
          },
          "metadata": {
            "tags": []
          },
          "execution_count": 39
        }
      ]
    },
    {
      "metadata": {
        "id": "dy4HkwLh55rt",
        "colab_type": "text"
      },
      "cell_type": "markdown",
      "source": [
        "**Using Argmax with axes**"
      ]
    },
    {
      "metadata": {
        "id": "GtpHIq196ER4",
        "colab_type": "code",
        "colab": {
          "base_uri": "https://localhost:8080/",
          "height": 34
        },
        "outputId": "afb12a30-cf30-44e9-d1e8-c94a978df59b"
      },
      "cell_type": "code",
      "source": [
        "# max across the columns , two tensors returned , max value across cols and the index of those values \n",
        "t.max(dim=0)"
      ],
      "execution_count": 41,
      "outputs": [
        {
          "output_type": "execute_result",
          "data": {
            "text/plain": [
              "(tensor([4., 3., 3., 5.]), tensor([2, 1, 1, 2]))"
            ]
          },
          "metadata": {
            "tags": []
          },
          "execution_count": 41
        }
      ]
    },
    {
      "metadata": {
        "id": "mJXjTiC16G7L",
        "colab_type": "code",
        "colab": {
          "base_uri": "https://localhost:8080/",
          "height": 34
        },
        "outputId": "bbce9af1-9541-456a-b05d-b683ee2d325e"
      },
      "cell_type": "code",
      "source": [
        "t.argmax(dim=0)"
      ],
      "execution_count": 42,
      "outputs": [
        {
          "output_type": "execute_result",
          "data": {
            "text/plain": [
              "tensor([2, 1, 1, 2])"
            ]
          },
          "metadata": {
            "tags": []
          },
          "execution_count": 42
        }
      ]
    },
    {
      "metadata": {
        "id": "M0x85oz26TXr",
        "colab_type": "code",
        "colab": {
          "base_uri": "https://localhost:8080/",
          "height": 34
        },
        "outputId": "308fea25-c45b-422b-a493-4d629aa78728"
      },
      "cell_type": "code",
      "source": [
        "# max across rows and their indices\n",
        "t.max(dim=1)"
      ],
      "execution_count": 43,
      "outputs": [
        {
          "output_type": "execute_result",
          "data": {
            "text/plain": [
              "(tensor([2., 3., 5.]), tensor([3, 1, 3]))"
            ]
          },
          "metadata": {
            "tags": []
          },
          "execution_count": 43
        }
      ]
    },
    {
      "metadata": {
        "id": "M8qeLztq6asM",
        "colab_type": "code",
        "colab": {
          "base_uri": "https://localhost:8080/",
          "height": 34
        },
        "outputId": "a7782216-086b-4039-9d35-e2227161dfb8"
      },
      "cell_type": "code",
      "source": [
        "t.argmax(dim=1)"
      ],
      "execution_count": 44,
      "outputs": [
        {
          "output_type": "execute_result",
          "data": {
            "text/plain": [
              "tensor([3, 1, 3])"
            ]
          },
          "metadata": {
            "tags": []
          },
          "execution_count": 44
        }
      ]
    },
    {
      "metadata": {
        "id": "4tMPaXII6eDj",
        "colab_type": "text"
      },
      "cell_type": "markdown",
      "source": [
        "** Access value inside tensor using .item()  only for single value **\n",
        "\n",
        "** Use .toList() or .numpy() to create list /array for multiple values **"
      ]
    },
    {
      "metadata": {
        "id": "GnIursF46oE5",
        "colab_type": "code",
        "colab": {
          "base_uri": "https://localhost:8080/",
          "height": 34
        },
        "outputId": "9724742d-82ce-4826-8355-5c8cddbd801e"
      },
      "cell_type": "code",
      "source": [
        "t.mean()"
      ],
      "execution_count": 46,
      "outputs": [
        {
          "output_type": "execute_result",
          "data": {
            "text/plain": [
              "tensor(1.5000)"
            ]
          },
          "metadata": {
            "tags": []
          },
          "execution_count": 46
        }
      ]
    },
    {
      "metadata": {
        "id": "aX6ZL_Zn6qdQ",
        "colab_type": "code",
        "colab": {
          "base_uri": "https://localhost:8080/",
          "height": 34
        },
        "outputId": "d509fc5f-2507-43e9-b7fc-fa721b2ec3fa"
      },
      "cell_type": "code",
      "source": [
        "t.mean().item()"
      ],
      "execution_count": 47,
      "outputs": [
        {
          "output_type": "execute_result",
          "data": {
            "text/plain": [
              "1.5"
            ]
          },
          "metadata": {
            "tags": []
          },
          "execution_count": 47
        }
      ]
    },
    {
      "metadata": {
        "id": "ztz32cH96s3r",
        "colab_type": "code",
        "colab": {
          "base_uri": "https://localhost:8080/",
          "height": 34
        },
        "outputId": "1fe85081-a032-4004-da82-ffb4df28f190"
      },
      "cell_type": "code",
      "source": [
        "# can also create a list or a numpy array\n",
        "t.mean(dim=0)"
      ],
      "execution_count": 48,
      "outputs": [
        {
          "output_type": "execute_result",
          "data": {
            "text/plain": [
              "tensor([1.6667, 1.0000, 1.0000, 2.3333])"
            ]
          },
          "metadata": {
            "tags": []
          },
          "execution_count": 48
        }
      ]
    },
    {
      "metadata": {
        "id": "IbbU2ylD62H8",
        "colab_type": "code",
        "colab": {
          "base_uri": "https://localhost:8080/",
          "height": 166
        },
        "outputId": "e9b0a33c-fb3d-43fd-c72c-a574b83c84a9"
      },
      "cell_type": "code",
      "source": [
        "t.mean(dim=0).item()"
      ],
      "execution_count": 50,
      "outputs": [
        {
          "output_type": "error",
          "ename": "ValueError",
          "evalue": "ignored",
          "traceback": [
            "\u001b[0;31m---------------------------------------------------------------------------\u001b[0m",
            "\u001b[0;31mValueError\u001b[0m                                Traceback (most recent call last)",
            "\u001b[0;32m<ipython-input-50-80cc128d9f05>\u001b[0m in \u001b[0;36m<module>\u001b[0;34m()\u001b[0m\n\u001b[0;32m----> 1\u001b[0;31m \u001b[0mt\u001b[0m\u001b[0;34m.\u001b[0m\u001b[0mmean\u001b[0m\u001b[0;34m(\u001b[0m\u001b[0mdim\u001b[0m\u001b[0;34m=\u001b[0m\u001b[0;36m0\u001b[0m\u001b[0;34m)\u001b[0m\u001b[0;34m.\u001b[0m\u001b[0mitem\u001b[0m\u001b[0;34m(\u001b[0m\u001b[0;34m)\u001b[0m\u001b[0;34m\u001b[0m\u001b[0m\n\u001b[0m",
            "\u001b[0;31mValueError\u001b[0m: only one element tensors can be converted to Python scalars"
          ]
        }
      ]
    },
    {
      "metadata": {
        "id": "eCst60x265Ii",
        "colab_type": "code",
        "colab": {
          "base_uri": "https://localhost:8080/",
          "height": 34
        },
        "outputId": "0bbd8bd1-7184-4c28-fa79-51aef62a08cf"
      },
      "cell_type": "code",
      "source": [
        "t.mean(dim=0).tolist()"
      ],
      "execution_count": 51,
      "outputs": [
        {
          "output_type": "execute_result",
          "data": {
            "text/plain": [
              "[1.6666666269302368, 1.0, 1.0, 2.3333332538604736]"
            ]
          },
          "metadata": {
            "tags": []
          },
          "execution_count": 51
        }
      ]
    },
    {
      "metadata": {
        "id": "laBElKNL7PdK",
        "colab_type": "code",
        "colab": {
          "base_uri": "https://localhost:8080/",
          "height": 34
        },
        "outputId": "dccfb3d6-8bd2-414a-8c30-686c6d5debf1"
      },
      "cell_type": "code",
      "source": [
        "t.mean(dim=0).numpy()"
      ],
      "execution_count": 52,
      "outputs": [
        {
          "output_type": "execute_result",
          "data": {
            "text/plain": [
              "array([1.6666666, 1.       , 1.       , 2.3333333], dtype=float32)"
            ]
          },
          "metadata": {
            "tags": []
          },
          "execution_count": 52
        }
      ]
    },
    {
      "metadata": {
        "id": "Jnui-1xU7Tw8",
        "colab_type": "code",
        "colab": {}
      },
      "cell_type": "code",
      "source": [
        ""
      ],
      "execution_count": 0,
      "outputs": []
    }
  ]
}