{
  "nbformat": 4,
  "nbformat_minor": 0,
  "metadata": {
    "colab": {
      "name": "Kaggle NLP BOW.ipynb",
      "version": "0.3.2",
      "provenance": []
    },
    "kernelspec": {
      "name": "python3",
      "display_name": "Python 3"
    }
  },
  "cells": [
    {
      "metadata": {
        "id": "W0U1Ezb-e19o",
        "colab_type": "text"
      },
      "cell_type": "markdown",
      "source": [
        "## Setup Tasks"
      ]
    },
    {
      "metadata": {
        "id": "EyF8a2V1-i2i",
        "colab_type": "code",
        "colab": {}
      },
      "cell_type": "code",
      "source": [
        "!pip install kaggle"
      ],
      "execution_count": 0,
      "outputs": []
    },
    {
      "metadata": {
        "id": "awAaKPsv_BwV",
        "colab_type": "code",
        "colab": {}
      },
      "cell_type": "code",
      "source": [
        "from google.colab import files\n",
        "files.upload()"
      ],
      "execution_count": 0,
      "outputs": []
    },
    {
      "metadata": {
        "id": "3XKYBxVA_Yeh",
        "colab_type": "code",
        "colab": {}
      },
      "cell_type": "code",
      "source": [
        "!mkdir ~/.kaggle\n",
        "!cp /content/kaggle.json /root/.kaggle/\n",
        "!chmod 600 /root/.kaggle/kaggle.json"
      ],
      "execution_count": 0,
      "outputs": []
    },
    {
      "metadata": {
        "id": "LaQ30GAw_ycT",
        "colab_type": "code",
        "colab": {}
      },
      "cell_type": "code",
      "source": [
        "!kaggle competitions download -c word2vec-nlp-tutorial"
      ],
      "execution_count": 0,
      "outputs": []
    },
    {
      "metadata": {
        "id": "-pA4_vya_1oK",
        "colab_type": "code",
        "colab": {
          "base_uri": "https://localhost:8080/",
          "height": 68
        },
        "outputId": "6be7175b-d008-4e81-fbd7-a78057ee0b76"
      },
      "cell_type": "code",
      "source": [
        "!ls"
      ],
      "execution_count": 9,
      "outputs": [
        {
          "output_type": "stream",
          "text": [
            "kaggle.json\t\t  sample_data\t\ttestData.tsv.zip\n",
            "labeledTrainData.tsv\t  sampleSubmission.csv\tunlabeledTrainData.tsv\n",
            "labeledTrainData.tsv.zip  testData.tsv\t\tunlabeledTrainData.tsv.zip\n"
          ],
          "name": "stdout"
        }
      ]
    },
    {
      "metadata": {
        "id": "ppQgkhMEALdQ",
        "colab_type": "code",
        "colab": {}
      },
      "cell_type": "code",
      "source": [
        "!unzip -q testData.tsv.zip\n",
        "!unzip -q labeledTrainData.tsv.zip\n",
        "!unzip -q unlabeledTrainData.tsv.zip"
      ],
      "execution_count": 0,
      "outputs": []
    },
    {
      "metadata": {
        "id": "B-Vosw5dAfbC",
        "colab_type": "code",
        "colab": {}
      },
      "cell_type": "code",
      "source": [
        "import pandas as pd"
      ],
      "execution_count": 0,
      "outputs": []
    },
    {
      "metadata": {
        "id": "wlGKk6yZAshq",
        "colab_type": "code",
        "colab": {
          "base_uri": "https://localhost:8080/",
          "height": 204
        },
        "outputId": "c7efd97e-d5c8-4e18-a401-c6282cc958f0"
      },
      "cell_type": "code",
      "source": [
        "train = pd.read_csv('labeledTrainData.tsv',header=0,delimiter='\\t',quoting=3)\n",
        "train.head()"
      ],
      "execution_count": 68,
      "outputs": [
        {
          "output_type": "execute_result",
          "data": {
            "text/html": [
              "<div>\n",
              "<style scoped>\n",
              "    .dataframe tbody tr th:only-of-type {\n",
              "        vertical-align: middle;\n",
              "    }\n",
              "\n",
              "    .dataframe tbody tr th {\n",
              "        vertical-align: top;\n",
              "    }\n",
              "\n",
              "    .dataframe thead th {\n",
              "        text-align: right;\n",
              "    }\n",
              "</style>\n",
              "<table border=\"1\" class=\"dataframe\">\n",
              "  <thead>\n",
              "    <tr style=\"text-align: right;\">\n",
              "      <th></th>\n",
              "      <th>id</th>\n",
              "      <th>sentiment</th>\n",
              "      <th>review</th>\n",
              "    </tr>\n",
              "  </thead>\n",
              "  <tbody>\n",
              "    <tr>\n",
              "      <th>0</th>\n",
              "      <td>\"5814_8\"</td>\n",
              "      <td>1</td>\n",
              "      <td>\"With all this stuff going down at the moment ...</td>\n",
              "    </tr>\n",
              "    <tr>\n",
              "      <th>1</th>\n",
              "      <td>\"2381_9\"</td>\n",
              "      <td>1</td>\n",
              "      <td>\"\\\"The Classic War of the Worlds\\\" by Timothy ...</td>\n",
              "    </tr>\n",
              "    <tr>\n",
              "      <th>2</th>\n",
              "      <td>\"7759_3\"</td>\n",
              "      <td>0</td>\n",
              "      <td>\"The film starts with a manager (Nicholas Bell...</td>\n",
              "    </tr>\n",
              "    <tr>\n",
              "      <th>3</th>\n",
              "      <td>\"3630_4\"</td>\n",
              "      <td>0</td>\n",
              "      <td>\"It must be assumed that those who praised thi...</td>\n",
              "    </tr>\n",
              "    <tr>\n",
              "      <th>4</th>\n",
              "      <td>\"9495_8\"</td>\n",
              "      <td>1</td>\n",
              "      <td>\"Superbly trashy and wondrously unpretentious ...</td>\n",
              "    </tr>\n",
              "  </tbody>\n",
              "</table>\n",
              "</div>"
            ],
            "text/plain": [
              "         id  sentiment                                             review\n",
              "0  \"5814_8\"          1  \"With all this stuff going down at the moment ...\n",
              "1  \"2381_9\"          1  \"\\\"The Classic War of the Worlds\\\" by Timothy ...\n",
              "2  \"7759_3\"          0  \"The film starts with a manager (Nicholas Bell...\n",
              "3  \"3630_4\"          0  \"It must be assumed that those who praised thi...\n",
              "4  \"9495_8\"          1  \"Superbly trashy and wondrously unpretentious ..."
            ]
          },
          "metadata": {
            "tags": []
          },
          "execution_count": 68
        }
      ]
    },
    {
      "metadata": {
        "id": "WELSwgatA0ED",
        "colab_type": "code",
        "colab": {
          "base_uri": "https://localhost:8080/",
          "height": 34
        },
        "outputId": "76545796-af97-453e-9dbc-9678a668a4b0"
      },
      "cell_type": "code",
      "source": [
        "train.shape"
      ],
      "execution_count": 14,
      "outputs": [
        {
          "output_type": "execute_result",
          "data": {
            "text/plain": [
              "(25000, 3)"
            ]
          },
          "metadata": {
            "tags": []
          },
          "execution_count": 14
        }
      ]
    },
    {
      "metadata": {
        "id": "5SRmR3YqBS2M",
        "colab_type": "code",
        "colab": {
          "base_uri": "https://localhost:8080/",
          "height": 54
        },
        "outputId": "ac350bc4-a2b8-432f-d788-7948c19141a2"
      },
      "cell_type": "code",
      "source": [
        "print(train.review[0])"
      ],
      "execution_count": 16,
      "outputs": [
        {
          "output_type": "stream",
          "text": [
            "\"With all this stuff going down at the moment with MJ i've started listening to his music, watching the odd documentary here and there, watched The Wiz and watched Moonwalker again. Maybe i just want to get a certain insight into this guy who i thought was really cool in the eighties just to maybe make up my mind whether he is guilty or innocent. Moonwalker is part biography, part feature film which i remember going to see at the cinema when it was originally released. Some of it has subtle messages about MJ's feeling towards the press and also the obvious message of drugs are bad m'kay.<br /><br />Visually impressive but of course this is all about Michael Jackson so unless you remotely like MJ in anyway then you are going to hate this and find it boring. Some may call MJ an egotist for consenting to the making of this movie BUT MJ and most of his fans would say that he made it for the fans which if true is really nice of him.<br /><br />The actual feature film bit when it finally starts is only on for 20 minutes or so excluding the Smooth Criminal sequence and Joe Pesci is convincing as a psychopathic all powerful drug lord. Why he wants MJ dead so bad is beyond me. Because MJ overheard his plans? Nah, Joe Pesci's character ranted that he wanted people to know it is he who is supplying drugs etc so i dunno, maybe he just hates MJ's music.<br /><br />Lots of cool things in this like MJ turning into a car and a robot and the whole Speed Demon sequence. Also, the director must have had the patience of a saint when it came to filming the kiddy Bad sequence as usually directors hate working with one kid let alone a whole bunch of them performing a complex dance scene.<br /><br />Bottom line, this movie is for people who like MJ on one level or another (which i think is most people). If not, then stay away. It does try and give off a wholesome message and ironically MJ's bestest buddy in this movie is a girl! Michael Jackson is truly one of the most talented people ever to grace this planet but is he guilty? Well, with all the attention i've gave this subject....hmmm well i don't know because people can be different behind closed doors, i know this for a fact. He is either an extremely nice but stupid guy or one of the most sickest liars. I hope he is not the latter.\"\n"
          ],
          "name": "stdout"
        }
      ]
    },
    {
      "metadata": {
        "id": "YHrgBlEdBbwb",
        "colab_type": "code",
        "colab": {}
      },
      "cell_type": "code",
      "source": [
        "# Removing the br and other HTML tags using BeutifulSoup\n",
        "from bs4 import BeautifulSoup"
      ],
      "execution_count": 0,
      "outputs": []
    },
    {
      "metadata": {
        "id": "ujNnPC3QCHW6",
        "colab_type": "code",
        "colab": {
          "base_uri": "https://localhost:8080/",
          "height": 105
        },
        "outputId": "fafe29cc-3f55-499b-ba57-a896824286ae"
      },
      "cell_type": "code",
      "source": [
        "# Using BeautifulSoup on a single review to remove the tags\n",
        "example = BeautifulSoup(train.review[0])\n",
        "\n",
        "print(train.review[0])\n",
        "print('\\n')\n",
        "print(example.get_text())"
      ],
      "execution_count": 18,
      "outputs": [
        {
          "output_type": "stream",
          "text": [
            "\"With all this stuff going down at the moment with MJ i've started listening to his music, watching the odd documentary here and there, watched The Wiz and watched Moonwalker again. Maybe i just want to get a certain insight into this guy who i thought was really cool in the eighties just to maybe make up my mind whether he is guilty or innocent. Moonwalker is part biography, part feature film which i remember going to see at the cinema when it was originally released. Some of it has subtle messages about MJ's feeling towards the press and also the obvious message of drugs are bad m'kay.<br /><br />Visually impressive but of course this is all about Michael Jackson so unless you remotely like MJ in anyway then you are going to hate this and find it boring. Some may call MJ an egotist for consenting to the making of this movie BUT MJ and most of his fans would say that he made it for the fans which if true is really nice of him.<br /><br />The actual feature film bit when it finally starts is only on for 20 minutes or so excluding the Smooth Criminal sequence and Joe Pesci is convincing as a psychopathic all powerful drug lord. Why he wants MJ dead so bad is beyond me. Because MJ overheard his plans? Nah, Joe Pesci's character ranted that he wanted people to know it is he who is supplying drugs etc so i dunno, maybe he just hates MJ's music.<br /><br />Lots of cool things in this like MJ turning into a car and a robot and the whole Speed Demon sequence. Also, the director must have had the patience of a saint when it came to filming the kiddy Bad sequence as usually directors hate working with one kid let alone a whole bunch of them performing a complex dance scene.<br /><br />Bottom line, this movie is for people who like MJ on one level or another (which i think is most people). If not, then stay away. It does try and give off a wholesome message and ironically MJ's bestest buddy in this movie is a girl! Michael Jackson is truly one of the most talented people ever to grace this planet but is he guilty? Well, with all the attention i've gave this subject....hmmm well i don't know because people can be different behind closed doors, i know this for a fact. He is either an extremely nice but stupid guy or one of the most sickest liars. I hope he is not the latter.\"\n",
            "\n",
            "\n",
            "\"With all this stuff going down at the moment with MJ i've started listening to his music, watching the odd documentary here and there, watched The Wiz and watched Moonwalker again. Maybe i just want to get a certain insight into this guy who i thought was really cool in the eighties just to maybe make up my mind whether he is guilty or innocent. Moonwalker is part biography, part feature film which i remember going to see at the cinema when it was originally released. Some of it has subtle messages about MJ's feeling towards the press and also the obvious message of drugs are bad m'kay.Visually impressive but of course this is all about Michael Jackson so unless you remotely like MJ in anyway then you are going to hate this and find it boring. Some may call MJ an egotist for consenting to the making of this movie BUT MJ and most of his fans would say that he made it for the fans which if true is really nice of him.The actual feature film bit when it finally starts is only on for 20 minutes or so excluding the Smooth Criminal sequence and Joe Pesci is convincing as a psychopathic all powerful drug lord. Why he wants MJ dead so bad is beyond me. Because MJ overheard his plans? Nah, Joe Pesci's character ranted that he wanted people to know it is he who is supplying drugs etc so i dunno, maybe he just hates MJ's music.Lots of cool things in this like MJ turning into a car and a robot and the whole Speed Demon sequence. Also, the director must have had the patience of a saint when it came to filming the kiddy Bad sequence as usually directors hate working with one kid let alone a whole bunch of them performing a complex dance scene.Bottom line, this movie is for people who like MJ on one level or another (which i think is most people). If not, then stay away. It does try and give off a wholesome message and ironically MJ's bestest buddy in this movie is a girl! Michael Jackson is truly one of the most talented people ever to grace this planet but is he guilty? Well, with all the attention i've gave this subject....hmmm well i don't know because people can be different behind closed doors, i know this for a fact. He is either an extremely nice but stupid guy or one of the most sickest liars. I hope he is not the latter.\"\n"
          ],
          "name": "stdout"
        }
      ]
    },
    {
      "metadata": {
        "id": "1rmpvIdnCe7-",
        "colab_type": "code",
        "colab": {
          "base_uri": "https://localhost:8080/",
          "height": 54
        },
        "outputId": "4cd8ca26-0735-42bb-f41e-12efa4c9a358"
      },
      "cell_type": "code",
      "source": [
        "# Depending upon requirement may need to remove punctuations and numbers\n",
        "# or replace them with a placeholder\n",
        "# Using re to create a regex to remove anything that is not a-zA-Z\n",
        "import re\n",
        "\n",
        "letters = re.sub(\"[^a-zA-Z]\",\" \",example.get_text())\n",
        "print(letters)"
      ],
      "execution_count": 19,
      "outputs": [
        {
          "output_type": "stream",
          "text": [
            " With all this stuff going down at the moment with MJ i ve started listening to his music  watching the odd documentary here and there  watched The Wiz and watched Moonwalker again  Maybe i just want to get a certain insight into this guy who i thought was really cool in the eighties just to maybe make up my mind whether he is guilty or innocent  Moonwalker is part biography  part feature film which i remember going to see at the cinema when it was originally released  Some of it has subtle messages about MJ s feeling towards the press and also the obvious message of drugs are bad m kay Visually impressive but of course this is all about Michael Jackson so unless you remotely like MJ in anyway then you are going to hate this and find it boring  Some may call MJ an egotist for consenting to the making of this movie BUT MJ and most of his fans would say that he made it for the fans which if true is really nice of him The actual feature film bit when it finally starts is only on for    minutes or so excluding the Smooth Criminal sequence and Joe Pesci is convincing as a psychopathic all powerful drug lord  Why he wants MJ dead so bad is beyond me  Because MJ overheard his plans  Nah  Joe Pesci s character ranted that he wanted people to know it is he who is supplying drugs etc so i dunno  maybe he just hates MJ s music Lots of cool things in this like MJ turning into a car and a robot and the whole Speed Demon sequence  Also  the director must have had the patience of a saint when it came to filming the kiddy Bad sequence as usually directors hate working with one kid let alone a whole bunch of them performing a complex dance scene Bottom line  this movie is for people who like MJ on one level or another  which i think is most people   If not  then stay away  It does try and give off a wholesome message and ironically MJ s bestest buddy in this movie is a girl  Michael Jackson is truly one of the most talented people ever to grace this planet but is he guilty  Well  with all the attention i ve gave this subject    hmmm well i don t know because people can be different behind closed doors  i know this for a fact  He is either an extremely nice but stupid guy or one of the most sickest liars  I hope he is not the latter  \n"
          ],
          "name": "stdout"
        }
      ]
    },
    {
      "metadata": {
        "id": "Q22KZRrDDR7v",
        "colab_type": "code",
        "colab": {}
      },
      "cell_type": "code",
      "source": [
        "# Lowercasing and splitting the words\n",
        "lower = letters.lower()\n",
        "words = lower.split()"
      ],
      "execution_count": 0,
      "outputs": []
    },
    {
      "metadata": {
        "id": "vH3Hq4iKEBa2",
        "colab_type": "code",
        "colab": {}
      },
      "cell_type": "code",
      "source": [
        "# Using NLTK to remove the stopwords ,a ,and , is etc.\n",
        "import nltk\n",
        "nltk.download()"
      ],
      "execution_count": 0,
      "outputs": []
    },
    {
      "metadata": {
        "id": "MvJUjLjSECeN",
        "colab_type": "code",
        "colab": {}
      },
      "cell_type": "code",
      "source": [
        "from nltk.corpus import stopwords\n",
        "stopwords.words('english')"
      ],
      "execution_count": 0,
      "outputs": []
    },
    {
      "metadata": {
        "id": "3DszAVksEu7K",
        "colab_type": "code",
        "colab": {}
      },
      "cell_type": "code",
      "source": [
        "# removing words not in stop words\n",
        "words = [w for w in words if w not in  stopwords.words('english')]\n",
        "words"
      ],
      "execution_count": 0,
      "outputs": []
    },
    {
      "metadata": {
        "id": "ZyD7APwpE9Vc",
        "colab_type": "text"
      },
      "cell_type": "markdown",
      "source": [
        "### Data Preprocessing final steps\n",
        "\n",
        "* Remove HTML\n",
        "* Remove/Replace punctuations , numbers ( according to the req)\n",
        "* Convert to lowercase and tokenize (split )\n",
        "* Using ' stopwords ' remove the stopwords"
      ]
    },
    {
      "metadata": {
        "id": "LBlEXEObFtvw",
        "colab_type": "code",
        "colab": {}
      },
      "cell_type": "code",
      "source": [
        "# using a set as searching is faster in set\n",
        "stop = set(stopwords.words('english'))"
      ],
      "execution_count": 0,
      "outputs": []
    },
    {
      "metadata": {
        "id": "h7KcYTL1GAxP",
        "colab_type": "code",
        "colab": {}
      },
      "cell_type": "code",
      "source": [
        "# define a function to do the above mentioned steps\n",
        "def preprocessing_data(text):\n",
        "  # remove html\n",
        "  pre_text = BeautifulSoup(text).get_text()\n",
        "  # replace punctuations\n",
        "  letters = re.sub(\"[^a-zA-Z]\",\" \",pre_text)\n",
        "  # lower case and tokenize\n",
        "  lowers = letters.lower().split()\n",
        "  # removing stop words\n",
        "  words = [w for w in lowers if w not in stop]\n",
        "  # concatenating and returning the dinal sentence\n",
        "  final_text = \" \".join(words)\n",
        "  return final_text"
      ],
      "execution_count": 0,
      "outputs": []
    },
    {
      "metadata": {
        "id": "2hHS1kmKHOJ4",
        "colab_type": "code",
        "colab": {
          "base_uri": "https://localhost:8080/",
          "height": 54
        },
        "outputId": "30070769-f43e-4dac-fb13-2fb35b5098b9"
      },
      "cell_type": "code",
      "source": [
        "print(preprocessing_data(train.review[0]))"
      ],
      "execution_count": 28,
      "outputs": [
        {
          "output_type": "stream",
          "text": [
            "stuff going moment mj started listening music watching odd documentary watched wiz watched moonwalker maybe want get certain insight guy thought really cool eighties maybe make mind whether guilty innocent moonwalker part biography part feature film remember going see cinema originally released subtle messages mj feeling towards press also obvious message drugs bad kay visually impressive course michael jackson unless remotely like mj anyway going hate find boring may call mj egotist consenting making movie mj fans would say made fans true really nice actual feature film bit finally starts minutes excluding smooth criminal sequence joe pesci convincing psychopathic powerful drug lord wants mj dead bad beyond mj overheard plans nah joe pesci character ranted wanted people know supplying drugs etc dunno maybe hates mj music lots cool things like mj turning car robot whole speed demon sequence also director must patience saint came filming kiddy bad sequence usually directors hate working one kid let alone whole bunch performing complex dance scene bottom line movie people like mj one level another think people stay away try give wholesome message ironically mj bestest buddy movie girl michael jackson truly one talented people ever grace planet guilty well attention gave subject hmmm well know people different behind closed doors know fact either extremely nice stupid guy one sickest liars hope latter\n"
          ],
          "name": "stdout"
        }
      ]
    },
    {
      "metadata": {
        "id": "m3AtzbH6HUgb",
        "colab_type": "code",
        "colab": {}
      },
      "cell_type": "code",
      "source": [
        "# Applying to entire dataset\n",
        "all_reviews = train.review.apply(preprocessing_data)"
      ],
      "execution_count": 0,
      "outputs": []
    },
    {
      "metadata": {
        "id": "UOYTLjvtMSks",
        "colab_type": "code",
        "colab": {
          "base_uri": "https://localhost:8080/",
          "height": 34
        },
        "outputId": "69b69d93-16a8-49f4-c847-909c0b66ae5e"
      },
      "cell_type": "code",
      "source": [
        "all_reviews.shape"
      ],
      "execution_count": 31,
      "outputs": [
        {
          "output_type": "execute_result",
          "data": {
            "text/plain": [
              "(25000,)"
            ]
          },
          "metadata": {
            "tags": []
          },
          "execution_count": 31
        }
      ]
    },
    {
      "metadata": {
        "id": "ucJDmfl2MXdO",
        "colab_type": "text"
      },
      "cell_type": "markdown",
      "source": [
        "## Bag Of Words : Using Scikit-Learn to create features \n",
        "\n",
        "convert text to numbers based on their frequency in the review"
      ]
    },
    {
      "metadata": {
        "id": "z-a35RuYMesn",
        "colab_type": "code",
        "colab": {}
      },
      "cell_type": "code",
      "source": [
        "# Using frequency of words to limit vocab size : 10000 most used words\n",
        "from sklearn.feature_extraction.text import CountVectorizer\n",
        "\n",
        "vectorizer = CountVectorizer(analyzer='word',tokenizer=None,preprocessor=None,\n",
        "                            stop_words=None,max_features=10000)"
      ],
      "execution_count": 0,
      "outputs": []
    },
    {
      "metadata": {
        "id": "N8Kvc5cJN3Mq",
        "colab_type": "code",
        "colab": {}
      },
      "cell_type": "code",
      "source": [
        "# vecorizer is just an object using fit_transform to transform the data\n",
        "train_data_features = vectorizer.fit_transform(all_reviews.values)"
      ],
      "execution_count": 0,
      "outputs": []
    },
    {
      "metadata": {
        "id": "0E0J0fxOOK5l",
        "colab_type": "code",
        "colab": {
          "base_uri": "https://localhost:8080/",
          "height": 51
        },
        "outputId": "431e3d5f-1154-4478-b390-61f90e73598e"
      },
      "cell_type": "code",
      "source": [
        "train_data_features[0]"
      ],
      "execution_count": 39,
      "outputs": [
        {
          "output_type": "execute_result",
          "data": {
            "text/plain": [
              "<1x10000 sparse matrix of type '<class 'numpy.int64'>'\n",
              "\twith 150 stored elements in Compressed Sparse Row format>"
            ]
          },
          "metadata": {
            "tags": []
          },
          "execution_count": 39
        }
      ]
    },
    {
      "metadata": {
        "id": "nQQu3qQdOQRa",
        "colab_type": "code",
        "colab": {
          "base_uri": "https://localhost:8080/",
          "height": 34
        },
        "outputId": "8b4dd717-6608-44e6-c6c7-cd9aa5c7fc11"
      },
      "cell_type": "code",
      "source": [
        "train_data_features.shape"
      ],
      "execution_count": 40,
      "outputs": [
        {
          "output_type": "execute_result",
          "data": {
            "text/plain": [
              "(25000, 10000)"
            ]
          },
          "metadata": {
            "tags": []
          },
          "execution_count": 40
        }
      ]
    },
    {
      "metadata": {
        "id": "LdS-ywsyOVgW",
        "colab_type": "code",
        "colab": {
          "base_uri": "https://localhost:8080/",
          "height": 187
        },
        "outputId": "ab11e08f-380c-40e6-da97-9c1d52ceb2fe"
      },
      "cell_type": "code",
      "source": [
        "# Each review is now split into 10000 columns \n",
        "vocab = vectorizer.get_feature_names()\n",
        "vocab[:10]"
      ],
      "execution_count": 42,
      "outputs": [
        {
          "output_type": "execute_result",
          "data": {
            "text/plain": [
              "['aaron',\n",
              " 'abandon',\n",
              " 'abandoned',\n",
              " 'abbott',\n",
              " 'abc',\n",
              " 'abducted',\n",
              " 'abilities',\n",
              " 'ability',\n",
              " 'able',\n",
              " 'aboard']"
            ]
          },
          "metadata": {
            "tags": []
          },
          "execution_count": 42
        }
      ]
    },
    {
      "metadata": {
        "id": "qZqkAj44Oluk",
        "colab_type": "code",
        "colab": {
          "base_uri": "https://localhost:8080/",
          "height": 170
        },
        "outputId": "7dc26e2c-6f63-47b4-91c6-054a4c888cce"
      },
      "cell_type": "code",
      "source": [
        "# each word and it's frequency in the row (review)\n",
        "train_data_features[0].data"
      ],
      "execution_count": 48,
      "outputs": [
        {
          "output_type": "execute_result",
          "data": {
            "text/plain": [
              "array([ 1,  1,  1,  1,  1,  1,  1,  1,  1,  1,  1,  1,  1,  1,  2,  1,  1,\n",
              "        1,  1,  1,  1,  1,  1,  1,  1,  1,  1,  1,  1,  1,  1,  1,  1,  1,\n",
              "        1,  1,  1,  1,  1,  1,  1,  4,  1,  1,  1,  1,  1,  1,  1,  1,  1,\n",
              "        1,  1,  2,  1,  1,  1,  1,  1,  1,  1,  3,  5,  1,  1,  1,  1,  1,\n",
              "        1,  1,  1,  1,  1,  2,  3,  1,  1,  1,  1,  1,  1,  1,  2,  1,  1,\n",
              "        1,  1,  2,  3,  1,  1,  1,  1,  1,  2,  1,  3,  1,  1,  2,  2,  1,\n",
              "        1,  1,  1,  3,  2,  2,  1,  2,  1,  1,  1,  1,  1,  1,  1,  1,  1,\n",
              "        1,  2,  2,  1,  2,  1,  2,  1,  1,  1,  1,  2,  2,  1,  2,  1,  1,\n",
              "        1,  1,  3,  2,  1,  1,  1,  2,  1,  1, 11,  1,  3,  1])"
            ]
          },
          "metadata": {
            "tags": []
          },
          "execution_count": 48
        }
      ]
    },
    {
      "metadata": {
        "id": "0IEUNa_DOufK",
        "colab_type": "code",
        "colab": {}
      },
      "cell_type": "code",
      "source": [
        "from collections import Counter\n",
        "# checking \n",
        "counts = Counter(preprocessing_data(train.review[0]).split())\n",
        "# mj appears 11 times\n",
        "counts"
      ],
      "execution_count": 0,
      "outputs": []
    },
    {
      "metadata": {
        "id": "xP9LqVuyQeku",
        "colab_type": "text"
      },
      "cell_type": "markdown",
      "source": [
        "#### Using Random Forest for training"
      ]
    },
    {
      "metadata": {
        "id": "7pMcmIGSQfyS",
        "colab_type": "code",
        "colab": {}
      },
      "cell_type": "code",
      "source": [
        "from sklearn.cross_validation import train_test_split\n",
        "from sklearn.ensemble import RandomForestClassifier"
      ],
      "execution_count": 0,
      "outputs": []
    },
    {
      "metadata": {
        "id": "l32IXYZBR1uy",
        "colab_type": "code",
        "colab": {}
      },
      "cell_type": "code",
      "source": [
        "X=train_data_features\n",
        "y=train.sentiment\n",
        "X_train, X_test, y_train, y_test = train_test_split(X, y, test_size=0.33, random_state=42)"
      ],
      "execution_count": 0,
      "outputs": []
    },
    {
      "metadata": {
        "id": "UppIRE8dSL54",
        "colab_type": "code",
        "colab": {
          "base_uri": "https://localhost:8080/",
          "height": 136
        },
        "outputId": "0afe21f6-4ee2-41a1-c059-4ab3a3ab5cd0"
      },
      "cell_type": "code",
      "source": [
        "model = RandomForestClassifier(n_estimators=100)\n",
        "\n",
        "model.fit(X_train,y_train)"
      ],
      "execution_count": 52,
      "outputs": [
        {
          "output_type": "execute_result",
          "data": {
            "text/plain": [
              "RandomForestClassifier(bootstrap=True, class_weight=None, criterion='gini',\n",
              "            max_depth=None, max_features='auto', max_leaf_nodes=None,\n",
              "            min_impurity_decrease=0.0, min_impurity_split=None,\n",
              "            min_samples_leaf=1, min_samples_split=2,\n",
              "            min_weight_fraction_leaf=0.0, n_estimators=100, n_jobs=1,\n",
              "            oob_score=False, random_state=None, verbose=0,\n",
              "            warm_start=False)"
            ]
          },
          "metadata": {
            "tags": []
          },
          "execution_count": 52
        }
      ]
    },
    {
      "metadata": {
        "id": "zx8WZKc0Saef",
        "colab_type": "code",
        "colab": {
          "base_uri": "https://localhost:8080/",
          "height": 34
        },
        "outputId": "821357f5-8b76-41ca-a8a1-976cdeef39df"
      },
      "cell_type": "code",
      "source": [
        "from sklearn.metrics import f1_score\n",
        "\n",
        "y_preds = model.predict(X_test)\n",
        "\n",
        "f1_score(y_preds,y_test)"
      ],
      "execution_count": 53,
      "outputs": [
        {
          "output_type": "execute_result",
          "data": {
            "text/plain": [
              "0.8472019464720195"
            ]
          },
          "metadata": {
            "tags": []
          },
          "execution_count": 53
        }
      ]
    },
    {
      "metadata": {
        "id": "JYIbZ-mFSqmC",
        "colab_type": "code",
        "colab": {}
      },
      "cell_type": "code",
      "source": [
        "from sklearn.metrics import roc_auc_score,roc_curve"
      ],
      "execution_count": 0,
      "outputs": []
    },
    {
      "metadata": {
        "id": "6yhNYMfycERV",
        "colab_type": "code",
        "colab": {
          "base_uri": "https://localhost:8080/",
          "height": 34
        },
        "outputId": "2598bead-e1cb-4116-dcd2-8120c416f718"
      },
      "cell_type": "code",
      "source": [
        "roc_auc_score(y_test,y_preds)"
      ],
      "execution_count": 56,
      "outputs": [
        {
          "output_type": "execute_result",
          "data": {
            "text/plain": [
              "0.8477951364145935"
            ]
          },
          "metadata": {
            "tags": []
          },
          "execution_count": 56
        }
      ]
    },
    {
      "metadata": {
        "id": "JjVFs1yPcP5C",
        "colab_type": "code",
        "colab": {
          "base_uri": "https://localhost:8080/",
          "height": 68
        },
        "outputId": "9ab4be3a-ff45-48e7-fb31-6912e9e27492"
      },
      "cell_type": "code",
      "source": [
        "roc_curve(y_test,y_preds,pos_label=1)"
      ],
      "execution_count": 58,
      "outputs": [
        {
          "output_type": "execute_result",
          "data": {
            "text/plain": [
              "(array([0.        , 0.14445798, 1.        ]),\n",
              " array([0.        , 0.84004825, 1.        ]),\n",
              " array([2, 1, 0]))"
            ]
          },
          "metadata": {
            "tags": []
          },
          "execution_count": 58
        }
      ]
    },
    {
      "metadata": {
        "id": "343rVZlNcc0q",
        "colab_type": "text"
      },
      "cell_type": "markdown",
      "source": [
        "## Word Vectors\n",
        "\n",
        "Word2Vec"
      ]
    },
    {
      "metadata": {
        "id": "UcosAaLjexFb",
        "colab_type": "code",
        "colab": {}
      },
      "cell_type": "code",
      "source": [
        "# Need to install cython and gensim for using word2vec\n",
        "!pip install --upgrade Cython\n",
        "!pip install --upgrade gensim"
      ],
      "execution_count": 0,
      "outputs": []
    },
    {
      "metadata": {
        "id": "tgDtqr7If6T9",
        "colab_type": "code",
        "colab": {}
      },
      "cell_type": "code",
      "source": [
        "# Using Word2Vec can also use the unlabeled data \n",
        "# 50000 additional reviews in unlabeledTrain.tsv\n",
        "\n",
        "train_unlabeled = pd.read_csv(\"unlabeledTrainData.tsv\",header=0,delimiter='\\t',quoting=3)"
      ],
      "execution_count": 0,
      "outputs": []
    },
    {
      "metadata": {
        "id": "4yNk0lcSgtrb",
        "colab_type": "code",
        "colab": {
          "base_uri": "https://localhost:8080/",
          "height": 34
        },
        "outputId": "4ab7b7d5-d502-450c-9002-a754ebc1c733"
      },
      "cell_type": "code",
      "source": [
        "train_unlabeled.shape,train.shape"
      ],
      "execution_count": 97,
      "outputs": [
        {
          "output_type": "execute_result",
          "data": {
            "text/plain": [
              "((50000, 2), (25000, 3))"
            ]
          },
          "metadata": {
            "tags": []
          },
          "execution_count": 97
        }
      ]
    },
    {
      "metadata": {
        "id": "fJNaiyf2gw5d",
        "colab_type": "text"
      },
      "cell_type": "markdown",
      "source": [
        "#### Data Preprocessing \n",
        "\n",
        "Only removing the HTML and splitting the sentences . Word2Vec utilizes stop words and numbers for context "
      ]
    },
    {
      "metadata": {
        "id": "Fq7sXiPVhc2j",
        "colab_type": "code",
        "colab": {}
      },
      "cell_type": "code",
      "source": [
        "def word_to_vec(text):\n",
        "  remove_html = BeautifulSoup(text).get_text()\n",
        "  # removing characters not in a-zA-Z0-9\n",
        "  subs = re.sub(\"[^a-zA-Z0-9]\",\" \",remove_html)\n",
        "  # lowercase and split\n",
        "  words = subs.lower().split()\n",
        "  # returning a list of words instead of sentence\n",
        "  return words"
      ],
      "execution_count": 0,
      "outputs": []
    },
    {
      "metadata": {
        "id": "XLWGb_CPiHmD",
        "colab_type": "code",
        "colab": {
          "base_uri": "https://localhost:8080/",
          "height": 54
        },
        "outputId": "88e1d8b8-c42b-4d40-d8ac-9ac34d79fe39"
      },
      "cell_type": "code",
      "source": [
        "train.review[0]"
      ],
      "execution_count": 63,
      "outputs": [
        {
          "output_type": "execute_result",
          "data": {
            "text/plain": [
              "'\"Watching Time Chasers, it obvious that it was made by a bunch of friends. Maybe they were sitting around one day in film school and said, \\\\\"Hey, let\\'s pool our money together and make a really bad movie!\\\\\" Or something like that. What ever they said, they still ended up making a really bad movie--dull story, bad script, lame acting, poor cinematography, bottom of the barrel stock music, etc. All corners were cut, except the one that would have prevented this film\\'s release. Life\\'s like that.\"'"
            ]
          },
          "metadata": {
            "tags": []
          },
          "execution_count": 63
        }
      ]
    },
    {
      "metadata": {
        "id": "JjpXvw8ajSH1",
        "colab_type": "code",
        "colab": {}
      },
      "cell_type": "code",
      "source": [
        "word_to_vec(train.review[0])"
      ],
      "execution_count": 0,
      "outputs": []
    },
    {
      "metadata": {
        "id": "iyb66RbsjZF5",
        "colab_type": "code",
        "colab": {}
      },
      "cell_type": "code",
      "source": [
        "# Word2Vec expects single sentences each as a list of words\n",
        "# Using nltk's punkt tokenizer for sentence splitting. \n",
        "# Each review multiple sentences and can end in ?,!,.etc.\n",
        "# Thus tokenizing sentencces becomes important\n",
        "nltk.download()"
      ],
      "execution_count": 0,
      "outputs": []
    },
    {
      "metadata": {
        "id": "vD4gR6jFsTcE",
        "colab_type": "code",
        "colab": {}
      },
      "cell_type": "code",
      "source": [
        "# loading the punkt tokenizer\n",
        "tokenizer = nltk.data.load('tokenizers/punkt/english.pickle')"
      ],
      "execution_count": 0,
      "outputs": []
    },
    {
      "metadata": {
        "id": "P4IxF6cfslzf",
        "colab_type": "code",
        "colab": {}
      },
      "cell_type": "code",
      "source": [
        "# defining the function to splt the data\n",
        "def review_to_sentence(review):\n",
        "  # Using the tokenizer to split paragraph into sentences\n",
        "  # paragraph -> sentencelist\n",
        "  raw_sentences = tokenizer.tokenize(review.strip())\n",
        "  \n",
        "  # Using the word to vec function above to convert each sentence into list of words\n",
        "  sentences =[]\n",
        "  for sentence in raw_sentences:\n",
        "    if len(sentence)>0:\n",
        "      # sentence -> wordlist\n",
        "      sentences.append(word_to_vec(sentence))\n",
        "  # returning the list of sentences\n",
        "  return sentences"
      ],
      "execution_count": 0,
      "outputs": []
    },
    {
      "metadata": {
        "id": "KX2BM4ISt0qe",
        "colab_type": "code",
        "colab": {}
      },
      "cell_type": "code",
      "source": [
        "# Can also use the labeled data as well\n",
        "sentences =[]\n",
        "\n",
        "for review in train.review:\n",
        "  # append will only append the first list in a list of lists\n",
        "  # += will append all the lists\n",
        "  sentences +=review_to_sentence(review)"
      ],
      "execution_count": 0,
      "outputs": []
    },
    {
      "metadata": {
        "id": "uPpuNog-uSrk",
        "colab_type": "code",
        "colab": {}
      },
      "cell_type": "code",
      "source": [
        "# doing the same for unlabeled data and appending to sentences\n",
        "\n",
        "for review in train_unlabeled.review:\n",
        "  sentences +=review_to_sentence(review)"
      ],
      "execution_count": 0,
      "outputs": []
    },
    {
      "metadata": {
        "id": "L8WkqoN5uwaE",
        "colab_type": "code",
        "colab": {
          "base_uri": "https://localhost:8080/",
          "height": 578
        },
        "outputId": "312ef863-d58b-4402-dc1f-1250ce2306cd"
      },
      "cell_type": "code",
      "source": [
        "# total length of sentences\n",
        "len(sentences),sentences[0]"
      ],
      "execution_count": 73,
      "outputs": [
        {
          "output_type": "execute_result",
          "data": {
            "text/plain": [
              "(795538,\n",
              " ['with',\n",
              "  'all',\n",
              "  'this',\n",
              "  'stuff',\n",
              "  'going',\n",
              "  'down',\n",
              "  'at',\n",
              "  'the',\n",
              "  'moment',\n",
              "  'with',\n",
              "  'mj',\n",
              "  'i',\n",
              "  've',\n",
              "  'started',\n",
              "  'listening',\n",
              "  'to',\n",
              "  'his',\n",
              "  'music',\n",
              "  'watching',\n",
              "  'the',\n",
              "  'odd',\n",
              "  'documentary',\n",
              "  'here',\n",
              "  'and',\n",
              "  'there',\n",
              "  'watched',\n",
              "  'the',\n",
              "  'wiz',\n",
              "  'and',\n",
              "  'watched',\n",
              "  'moonwalker',\n",
              "  'again'])"
            ]
          },
          "metadata": {
            "tags": []
          },
          "execution_count": 73
        }
      ]
    },
    {
      "metadata": {
        "id": "Q7WGnigevJRc",
        "colab_type": "text"
      },
      "cell_type": "markdown",
      "source": [
        "#### Word2Vec training"
      ]
    },
    {
      "metadata": {
        "id": "fwUV-ltCvcoy",
        "colab_type": "code",
        "colab": {}
      },
      "cell_type": "code",
      "source": [
        "# Number of hyperparams to tune \n",
        "# architecture - skip-gram / cbow\n",
        "# training algo -hierarchical softmax(default) or negetive sampling\n",
        "# downsmpling of frequent words - b/w 0.0001 and 0.001\n",
        "# word vector dimension -300\n",
        "# context window size - 8/10\n",
        "# worker threads - -1\n",
        "# min word count - min frequency to be considered for addition in vocab 30\n",
        "\n",
        "num_features = 400\n",
        "min_word_count = 40\n",
        "num_workers = -1\n",
        "context =10\n",
        "downsampling = 1e-3\n"
      ],
      "execution_count": 0,
      "outputs": []
    },
    {
      "metadata": {
        "id": "zU4nrgjCwcVx",
        "colab_type": "code",
        "colab": {}
      },
      "cell_type": "code",
      "source": [
        "from gensim.models import word2vec\n",
        "\n",
        "model = word2vec.Word2Vec(sentences,workers=num_workers,size=num_features,\n",
        "                         min_count=min_word_count,window=context,sample=downsampling)\n",
        "model.init_sims(replace=True)"
      ],
      "execution_count": 0,
      "outputs": []
    },
    {
      "metadata": {
        "id": "O5J1mTEuwmdJ",
        "colab_type": "code",
        "colab": {
          "base_uri": "https://localhost:8080/",
          "height": 187
        },
        "outputId": "73d20914-be92-4873-8460-36425731c4ff"
      },
      "cell_type": "code",
      "source": [
        "import warnings\n",
        "warnings.filterwarnings('ignore')\n",
        "model.most_similar(\"man\")"
      ],
      "execution_count": 94,
      "outputs": [
        {
          "output_type": "execute_result",
          "data": {
            "text/plain": [
              "[('dastardly', 0.18006286025047302),\n",
              " ('outsider', 0.1782134622335434),\n",
              " ('shocks', 0.16817712783813477),\n",
              " ('thrilling', 0.1632031500339508),\n",
              " ('walked', 0.15822070837020874),\n",
              " ('miscast', 0.15735647082328796),\n",
              " ('quicker', 0.15223057568073273),\n",
              " ('adrienne', 0.1511322259902954),\n",
              " ('cheered', 0.1479484736919403),\n",
              " ('umbrella', 0.1465863585472107)]"
            ]
          },
          "metadata": {
            "tags": []
          },
          "execution_count": 94
        }
      ]
    },
    {
      "metadata": {
        "id": "Pnf1EMIfxGUc",
        "colab_type": "code",
        "colab": {
          "base_uri": "https://localhost:8080/",
          "height": 187
        },
        "outputId": "764920bb-7dcc-4153-eb2c-4b20ea923bbf"
      },
      "cell_type": "code",
      "source": [
        "model.most_similar(\"queen\")"
      ],
      "execution_count": 95,
      "outputs": [
        {
          "output_type": "execute_result",
          "data": {
            "text/plain": [
              "[('dutch', 0.1822260320186615),\n",
              " ('fare', 0.17457765340805054),\n",
              " ('closest', 0.1706812083721161),\n",
              " ('answers', 0.16502219438552856),\n",
              " ('argues', 0.16261620819568634),\n",
              " ('gabrielle', 0.15670806169509888),\n",
              " ('valdez', 0.15394997596740723),\n",
              " ('rohmer', 0.1525345742702484),\n",
              " ('88', 0.15221452713012695),\n",
              " ('somebody', 0.1500397026538849)]"
            ]
          },
          "metadata": {
            "tags": []
          },
          "execution_count": 95
        }
      ]
    },
    {
      "metadata": {
        "id": "k6t6EYZExkgo",
        "colab_type": "code",
        "colab": {
          "base_uri": "https://localhost:8080/",
          "height": 34
        },
        "outputId": "2306e796-b9ed-40ed-b599-31d41853a9ed"
      },
      "cell_type": "code",
      "source": [
        "model.doesnt_match(\"france england germany berlin\".split())"
      ],
      "execution_count": 96,
      "outputs": [
        {
          "output_type": "execute_result",
          "data": {
            "text/plain": [
              "'france'"
            ]
          },
          "metadata": {
            "tags": []
          },
          "execution_count": 96
        }
      ]
    },
    {
      "metadata": {
        "id": "qxdIfSSWxrXx",
        "colab_type": "code",
        "colab": {
          "base_uri": "https://localhost:8080/",
          "height": 187
        },
        "outputId": "4bde3aa1-caa4-4bd6-9cb2-4e2b463ac1b6"
      },
      "cell_type": "code",
      "source": [
        "# sentiment\n",
        "model.most_similar(\"awful\")"
      ],
      "execution_count": 98,
      "outputs": [
        {
          "output_type": "execute_result",
          "data": {
            "text/plain": [
              "[('protocol', 0.17013059556484222),\n",
              " ('dressing', 0.15827560424804688),\n",
              " ('categories', 0.15666204690933228),\n",
              " ('wednesday', 0.1522647738456726),\n",
              " ('belonged', 0.15128536522388458),\n",
              " ('unjustly', 0.14466138184070587),\n",
              " ('comics', 0.14405617117881775),\n",
              " ('slightest', 0.143955260515213),\n",
              " ('hottie', 0.1435181200504303),\n",
              " ('frenzy', 0.14274433255195618)]"
            ]
          },
          "metadata": {
            "tags": []
          },
          "execution_count": 98
        }
      ]
    },
    {
      "metadata": {
        "id": "k9dNTMrYyh1H",
        "colab_type": "code",
        "colab": {}
      },
      "cell_type": "code",
      "source": [
        ""
      ],
      "execution_count": 0,
      "outputs": []
    },
    {
      "metadata": {
        "id": "6wmn6R_d91VU",
        "colab_type": "code",
        "colab": {}
      },
      "cell_type": "code",
      "source": [
        ""
      ],
      "execution_count": 0,
      "outputs": []
    }
  ]
}