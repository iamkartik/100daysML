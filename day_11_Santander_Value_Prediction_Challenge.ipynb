{
  "nbformat": 4,
  "nbformat_minor": 0,
  "metadata": {
    "colab": {
      "name": "Santander Value Prediction Challenge.ipynb",
      "version": "0.3.2",
      "provenance": []
    },
    "kernelspec": {
      "name": "python3",
      "display_name": "Python 3"
    },
    "accelerator": "GPU"
  },
  "cells": [
    {
      "metadata": {
        "id": "nubzNAwev4MD",
        "colab_type": "text"
      },
      "cell_type": "markdown",
      "source": [
        "## Library install and download data"
      ]
    },
    {
      "metadata": {
        "id": "_QCS9FbvrR55",
        "colab_type": "code",
        "colab": {}
      },
      "cell_type": "code",
      "source": [
        "!pip install catboost\n",
        "!pip install lightgbm\n",
        "!pip install xgboost"
      ],
      "execution_count": 0,
      "outputs": []
    },
    {
      "metadata": {
        "id": "6daccXqeswWf",
        "colab_type": "code",
        "colab": {}
      },
      "cell_type": "code",
      "source": [
        "!pip install kaggle"
      ],
      "execution_count": 0,
      "outputs": []
    },
    {
      "metadata": {
        "id": "2CdNBT-LtFhV",
        "colab_type": "code",
        "colab": {}
      },
      "cell_type": "code",
      "source": [
        "from google.colab import files\n",
        "files.upload()"
      ],
      "execution_count": 0,
      "outputs": []
    },
    {
      "metadata": {
        "id": "D4q0c6VGtf41",
        "colab_type": "code",
        "colab": {
          "base_uri": "https://localhost:8080/",
          "height": 34
        },
        "outputId": "5f977409-3052-4ab7-c7bb-83789fb67b15"
      },
      "cell_type": "code",
      "source": [
        "!pwd"
      ],
      "execution_count": 4,
      "outputs": [
        {
          "output_type": "stream",
          "text": [
            "/content\n"
          ],
          "name": "stdout"
        }
      ]
    },
    {
      "metadata": {
        "id": "Zp1xf3HYtt63",
        "colab_type": "code",
        "colab": {}
      },
      "cell_type": "code",
      "source": [
        "!mkdir ~/.kaggle\n",
        "!cp /content/kaggle.json ~/.kaggle/kaggle.json\n",
        "!chmod 600 ~/.kaggle/kaggle.json"
      ],
      "execution_count": 0,
      "outputs": []
    },
    {
      "metadata": {
        "id": "7WVOS4oet7tX",
        "colab_type": "code",
        "colab": {
          "base_uri": "https://localhost:8080/",
          "height": 170
        },
        "outputId": "50028478-b431-44c7-d93e-f012611c6024"
      },
      "cell_type": "code",
      "source": [
        "!kaggle competitions download -c santander-value-prediction-challenge"
      ],
      "execution_count": 6,
      "outputs": [
        {
          "output_type": "stream",
          "text": [
            "Downloading sample_submission.csv.zip to /content\n",
            "\r  0% 0.00/266k [00:00<?, ?B/s]\n",
            "100% 266k/266k [00:00<00:00, 64.0MB/s]\n",
            "Downloading test.csv.zip to /content\n",
            " 21% 5.00M/24.2M [00:01<00:06, 3.10MB/s]\n",
            "100% 24.2M/24.2M [00:01<00:00, 14.2MB/s]\n",
            "Downloading train.csv.zip to /content\n",
            " 72% 5.00M/6.95M [00:00<00:00, 9.01MB/s]\n",
            "100% 6.95M/6.95M [00:00<00:00, 12.3MB/s]\n"
          ],
          "name": "stdout"
        }
      ]
    },
    {
      "metadata": {
        "id": "Ol0G_b1vuGRC",
        "colab_type": "code",
        "colab": {}
      },
      "cell_type": "code",
      "source": [
        "!ls"
      ],
      "execution_count": 0,
      "outputs": []
    },
    {
      "metadata": {
        "id": "4-HPBIjJvDeo",
        "colab_type": "code",
        "colab": {
          "base_uri": "https://localhost:8080/",
          "height": 119
        },
        "outputId": "04590fb3-d592-478c-e1f3-a91bb04ec90d"
      },
      "cell_type": "code",
      "source": [
        "!unzip test.csv.zip \n",
        "!unzip train.csv.zip\n",
        "!unzip sample_submission.csv.zip"
      ],
      "execution_count": 7,
      "outputs": [
        {
          "output_type": "stream",
          "text": [
            "Archive:  test.csv.zip\n",
            "  inflating: test.csv                \n",
            "Archive:  train.csv.zip\n",
            "  inflating: train.csv               \n",
            "Archive:  sample_submission.csv.zip\n",
            "  inflating: sample_submission.csv   \n"
          ],
          "name": "stdout"
        }
      ]
    },
    {
      "metadata": {
        "id": "emTYYvEcvctZ",
        "colab_type": "code",
        "colab": {}
      },
      "cell_type": "code",
      "source": [
        "!ls "
      ],
      "execution_count": 0,
      "outputs": []
    },
    {
      "metadata": {
        "id": "IRoJwu_IvhVo",
        "colab_type": "text"
      },
      "cell_type": "markdown",
      "source": [
        "## Starting with the imports and working with data"
      ]
    },
    {
      "metadata": {
        "id": "V6JM0F_ZwDfG",
        "colab_type": "code",
        "colab": {}
      },
      "cell_type": "code",
      "source": [
        "import numpy as np\n",
        "import pandas as pd\n",
        "\n",
        "import matplotlib.pyplot as plt\n",
        "import seaborn as sns\n",
        "\n",
        "from sklearn.model_selection import train_test_split\n",
        "\n",
        "import lightgbm as lgb\n",
        "import xgboost as xgb\n",
        "from catboost import CatBoostRegressor\n",
        "\n",
        "%matplotlib inline\n",
        "sns.set()\n",
        "\n",
        "import warnings\n",
        "warnings.filterwarnings('ignore')"
      ],
      "execution_count": 0,
      "outputs": []
    },
    {
      "metadata": {
        "id": "pQNhrV0CyZ_F",
        "colab_type": "code",
        "colab": {}
      },
      "cell_type": "code",
      "source": [
        "train = pd.read_csv('./train.csv')\n",
        "test = pd.read_csv('./test.csv')\n",
        "sample = pd.read_csv('./sample_submission.csv')"
      ],
      "execution_count": 0,
      "outputs": []
    },
    {
      "metadata": {
        "id": "MxEssLpUzI3E",
        "colab_type": "code",
        "colab": {
          "base_uri": "https://localhost:8080/",
          "height": 253
        },
        "outputId": "23ffb9b9-b48e-4b27-96d6-a5a931bf7051"
      },
      "cell_type": "code",
      "source": [
        "train.head()"
      ],
      "execution_count": 10,
      "outputs": [
        {
          "output_type": "execute_result",
          "data": {
            "text/html": [
              "<div>\n",
              "<style scoped>\n",
              "    .dataframe tbody tr th:only-of-type {\n",
              "        vertical-align: middle;\n",
              "    }\n",
              "\n",
              "    .dataframe tbody tr th {\n",
              "        vertical-align: top;\n",
              "    }\n",
              "\n",
              "    .dataframe thead th {\n",
              "        text-align: right;\n",
              "    }\n",
              "</style>\n",
              "<table border=\"1\" class=\"dataframe\">\n",
              "  <thead>\n",
              "    <tr style=\"text-align: right;\">\n",
              "      <th></th>\n",
              "      <th>ID</th>\n",
              "      <th>target</th>\n",
              "      <th>48df886f9</th>\n",
              "      <th>0deb4b6a8</th>\n",
              "      <th>34b15f335</th>\n",
              "      <th>a8cb14b00</th>\n",
              "      <th>2f0771a37</th>\n",
              "      <th>30347e683</th>\n",
              "      <th>d08d1fbe3</th>\n",
              "      <th>6ee66e115</th>\n",
              "      <th>...</th>\n",
              "      <th>3ecc09859</th>\n",
              "      <th>9281abeea</th>\n",
              "      <th>8675bec0b</th>\n",
              "      <th>3a13ed79a</th>\n",
              "      <th>f677d4d13</th>\n",
              "      <th>71b203550</th>\n",
              "      <th>137efaa80</th>\n",
              "      <th>fb36b89d9</th>\n",
              "      <th>7e293fbaf</th>\n",
              "      <th>9fc776466</th>\n",
              "    </tr>\n",
              "  </thead>\n",
              "  <tbody>\n",
              "    <tr>\n",
              "      <th>0</th>\n",
              "      <td>000d6aaf2</td>\n",
              "      <td>38000000.0</td>\n",
              "      <td>0.0</td>\n",
              "      <td>0</td>\n",
              "      <td>0.0</td>\n",
              "      <td>0</td>\n",
              "      <td>0</td>\n",
              "      <td>0</td>\n",
              "      <td>0</td>\n",
              "      <td>0</td>\n",
              "      <td>...</td>\n",
              "      <td>0.0</td>\n",
              "      <td>0.0</td>\n",
              "      <td>0.0</td>\n",
              "      <td>0</td>\n",
              "      <td>0</td>\n",
              "      <td>0</td>\n",
              "      <td>0</td>\n",
              "      <td>0</td>\n",
              "      <td>0</td>\n",
              "      <td>0</td>\n",
              "    </tr>\n",
              "    <tr>\n",
              "      <th>1</th>\n",
              "      <td>000fbd867</td>\n",
              "      <td>600000.0</td>\n",
              "      <td>0.0</td>\n",
              "      <td>0</td>\n",
              "      <td>0.0</td>\n",
              "      <td>0</td>\n",
              "      <td>0</td>\n",
              "      <td>0</td>\n",
              "      <td>0</td>\n",
              "      <td>0</td>\n",
              "      <td>...</td>\n",
              "      <td>0.0</td>\n",
              "      <td>0.0</td>\n",
              "      <td>0.0</td>\n",
              "      <td>0</td>\n",
              "      <td>0</td>\n",
              "      <td>0</td>\n",
              "      <td>0</td>\n",
              "      <td>0</td>\n",
              "      <td>0</td>\n",
              "      <td>0</td>\n",
              "    </tr>\n",
              "    <tr>\n",
              "      <th>2</th>\n",
              "      <td>0027d6b71</td>\n",
              "      <td>10000000.0</td>\n",
              "      <td>0.0</td>\n",
              "      <td>0</td>\n",
              "      <td>0.0</td>\n",
              "      <td>0</td>\n",
              "      <td>0</td>\n",
              "      <td>0</td>\n",
              "      <td>0</td>\n",
              "      <td>0</td>\n",
              "      <td>...</td>\n",
              "      <td>0.0</td>\n",
              "      <td>0.0</td>\n",
              "      <td>0.0</td>\n",
              "      <td>0</td>\n",
              "      <td>0</td>\n",
              "      <td>0</td>\n",
              "      <td>0</td>\n",
              "      <td>0</td>\n",
              "      <td>0</td>\n",
              "      <td>0</td>\n",
              "    </tr>\n",
              "    <tr>\n",
              "      <th>3</th>\n",
              "      <td>0028cbf45</td>\n",
              "      <td>2000000.0</td>\n",
              "      <td>0.0</td>\n",
              "      <td>0</td>\n",
              "      <td>0.0</td>\n",
              "      <td>0</td>\n",
              "      <td>0</td>\n",
              "      <td>0</td>\n",
              "      <td>0</td>\n",
              "      <td>0</td>\n",
              "      <td>...</td>\n",
              "      <td>0.0</td>\n",
              "      <td>0.0</td>\n",
              "      <td>0.0</td>\n",
              "      <td>0</td>\n",
              "      <td>0</td>\n",
              "      <td>0</td>\n",
              "      <td>0</td>\n",
              "      <td>0</td>\n",
              "      <td>0</td>\n",
              "      <td>0</td>\n",
              "    </tr>\n",
              "    <tr>\n",
              "      <th>4</th>\n",
              "      <td>002a68644</td>\n",
              "      <td>14400000.0</td>\n",
              "      <td>0.0</td>\n",
              "      <td>0</td>\n",
              "      <td>0.0</td>\n",
              "      <td>0</td>\n",
              "      <td>0</td>\n",
              "      <td>0</td>\n",
              "      <td>0</td>\n",
              "      <td>0</td>\n",
              "      <td>...</td>\n",
              "      <td>0.0</td>\n",
              "      <td>0.0</td>\n",
              "      <td>0.0</td>\n",
              "      <td>0</td>\n",
              "      <td>0</td>\n",
              "      <td>0</td>\n",
              "      <td>0</td>\n",
              "      <td>0</td>\n",
              "      <td>0</td>\n",
              "      <td>0</td>\n",
              "    </tr>\n",
              "  </tbody>\n",
              "</table>\n",
              "<p>5 rows × 4993 columns</p>\n",
              "</div>"
            ],
            "text/plain": [
              "          ID      target  48df886f9  0deb4b6a8  34b15f335  a8cb14b00  \\\n",
              "0  000d6aaf2  38000000.0        0.0          0        0.0          0   \n",
              "1  000fbd867    600000.0        0.0          0        0.0          0   \n",
              "2  0027d6b71  10000000.0        0.0          0        0.0          0   \n",
              "3  0028cbf45   2000000.0        0.0          0        0.0          0   \n",
              "4  002a68644  14400000.0        0.0          0        0.0          0   \n",
              "\n",
              "   2f0771a37  30347e683  d08d1fbe3  6ee66e115    ...      3ecc09859  \\\n",
              "0          0          0          0          0    ...            0.0   \n",
              "1          0          0          0          0    ...            0.0   \n",
              "2          0          0          0          0    ...            0.0   \n",
              "3          0          0          0          0    ...            0.0   \n",
              "4          0          0          0          0    ...            0.0   \n",
              "\n",
              "   9281abeea  8675bec0b  3a13ed79a  f677d4d13  71b203550  137efaa80  \\\n",
              "0        0.0        0.0          0          0          0          0   \n",
              "1        0.0        0.0          0          0          0          0   \n",
              "2        0.0        0.0          0          0          0          0   \n",
              "3        0.0        0.0          0          0          0          0   \n",
              "4        0.0        0.0          0          0          0          0   \n",
              "\n",
              "   fb36b89d9  7e293fbaf  9fc776466  \n",
              "0          0          0          0  \n",
              "1          0          0          0  \n",
              "2          0          0          0  \n",
              "3          0          0          0  \n",
              "4          0          0          0  \n",
              "\n",
              "[5 rows x 4993 columns]"
            ]
          },
          "metadata": {
            "tags": []
          },
          "execution_count": 10
        }
      ]
    },
    {
      "metadata": {
        "id": "Ro-eqy9Az9VE",
        "colab_type": "code",
        "colab": {
          "base_uri": "https://localhost:8080/",
          "height": 102
        },
        "outputId": "3bfb2966-cd77-4f1f-bc0f-c213c8044d2e"
      },
      "cell_type": "code",
      "source": [
        "train.info()"
      ],
      "execution_count": 11,
      "outputs": [
        {
          "output_type": "stream",
          "text": [
            "<class 'pandas.core.frame.DataFrame'>\n",
            "RangeIndex: 4459 entries, 0 to 4458\n",
            "Columns: 4993 entries, ID to 9fc776466\n",
            "dtypes: float64(1845), int64(3147), object(1)\n",
            "memory usage: 169.9+ MB\n"
          ],
          "name": "stdout"
        }
      ]
    },
    {
      "metadata": {
        "id": "wpA3oYtP8qzv",
        "colab_type": "code",
        "colab": {
          "base_uri": "https://localhost:8080/",
          "height": 102
        },
        "outputId": "1359a226-db7f-41e0-9ff0-72f801c23d78"
      },
      "cell_type": "code",
      "source": [
        "test.info()"
      ],
      "execution_count": 12,
      "outputs": [
        {
          "output_type": "stream",
          "text": [
            "<class 'pandas.core.frame.DataFrame'>\n",
            "RangeIndex: 49342 entries, 0 to 49341\n",
            "Columns: 4992 entries, ID to 9fc776466\n",
            "dtypes: float64(4991), object(1)\n",
            "memory usage: 1.8+ GB\n"
          ],
          "name": "stdout"
        }
      ]
    },
    {
      "metadata": {
        "id": "k-_rkJv98ufa",
        "colab_type": "code",
        "colab": {
          "base_uri": "https://localhost:8080/",
          "height": 34
        },
        "outputId": "cb2bb0d6-609f-4d2c-dd1a-b326a104f002"
      },
      "cell_type": "code",
      "source": [
        "# Checcking for missing values\n",
        "train.columns[train.isnull().sum()!=0].size"
      ],
      "execution_count": 13,
      "outputs": [
        {
          "output_type": "execute_result",
          "data": {
            "text/plain": [
              "0"
            ]
          },
          "metadata": {
            "tags": []
          },
          "execution_count": 13
        }
      ]
    },
    {
      "metadata": {
        "id": "Oe_j-6L79CAH",
        "colab_type": "code",
        "colab": {
          "base_uri": "https://localhost:8080/",
          "height": 34
        },
        "outputId": "ccef39e2-e65f-4fba-9784-bc0d39e481af"
      },
      "cell_type": "code",
      "source": [
        "# Removing constant columns \n",
        "# cols to remove \n",
        "cols_remove =[]\n",
        "\n",
        "for col in train.columns:\n",
        "  if col!='ID' and col!='target':\n",
        "    if train[col].std()==0:\n",
        "      cols_remove.append(col)\n",
        "\n",
        "print(len(cols_remove))\n",
        "\n",
        "# dropping the cols with std =0\n",
        "train.drop(cols_remove,axis=1,inplace=True)\n",
        "test.drop(cols_remove,axis=1,inplace=True)"
      ],
      "execution_count": 3,
      "outputs": [
        {
          "output_type": "stream",
          "text": [
            "256\n"
          ],
          "name": "stdout"
        }
      ]
    },
    {
      "metadata": {
        "id": "uYfKWsIt-9C5",
        "colab_type": "code",
        "colab": {}
      },
      "cell_type": "code",
      "source": [
        "# dropping sparse columns\n",
        "for col in train.columns:\n",
        "  if col!='ID' and col!='target':\n",
        "    # less than 2 unique values\n",
        "    if len(np.unique(train[col]))<2:\n",
        "      train.drop(col,axis=1,inplace=True)\n",
        "      test.drop(col,axis=1,inplace=True)"
      ],
      "execution_count": 0,
      "outputs": []
    },
    {
      "metadata": {
        "id": "bn5DyW1T_MVR",
        "colab_type": "code",
        "colab": {
          "base_uri": "https://localhost:8080/",
          "height": 34
        },
        "outputId": "cce1de9c-faba-4002-efb9-8e6dece96297"
      },
      "cell_type": "code",
      "source": [
        "train.shape,test.shape"
      ],
      "execution_count": 10,
      "outputs": [
        {
          "output_type": "execute_result",
          "data": {
            "text/plain": [
              "((4459, 4737), (49342, 4736))"
            ]
          },
          "metadata": {
            "tags": []
          },
          "execution_count": 10
        }
      ]
    },
    {
      "metadata": {
        "id": "kCztzPl7BNin",
        "colab_type": "code",
        "colab": {}
      },
      "cell_type": "code",
      "source": [
        "X = train.drop(['ID','target'],axis=1)\n",
        "# calculate log(1+x)\n",
        "y = np.log1p(train.target.values)\n",
        "\n",
        "Xt = test.drop(['ID'],axis=1)"
      ],
      "execution_count": 0,
      "outputs": []
    },
    {
      "metadata": {
        "id": "GsAskWejEyhs",
        "colab_type": "code",
        "colab": {}
      },
      "cell_type": "code",
      "source": [
        "X_train, X_test, y_train, y_test = train_test_split(X, y, test_size=0.25, random_state=79)"
      ],
      "execution_count": 0,
      "outputs": []
    },
    {
      "metadata": {
        "id": "hA-rp9QjFEHX",
        "colab_type": "text"
      },
      "cell_type": "markdown",
      "source": [
        "###LightGBM"
      ]
    },
    {
      "metadata": {
        "id": "8ibIjK99FJDz",
        "colab_type": "code",
        "colab": {
          "base_uri": "https://localhost:8080/",
          "height": 136
        },
        "outputId": "dc1a387d-4e59-43fa-9cdd-b5317e85d179"
      },
      "cell_type": "code",
      "source": [
        "params={\n",
        "    'objective':'regression',\n",
        "    'metric':'rmse',\n",
        "    'num_leaves':50,\n",
        "    'learning_rate':0.01,\n",
        "    'bagging_fraction':0.5,\n",
        "    'feature_fraction':0.5,\n",
        "    'bagging_frequency':7,\n",
        "    'bagging_seed':33,\n",
        "    'verbosity':-1,\n",
        "    'seed':33\n",
        "}\n",
        "\n",
        "lgtrain = lgb.Dataset(X_train,label=y_train)\n",
        "lgval = lgb.Dataset(X_test,label=y_test)\n",
        "\n",
        "evals_result={}\n",
        "\n",
        "model = lgb.train(params,lgtrain,5000,valid_sets=lgval,\n",
        "                 early_stopping_rounds=100,verbose_eval=150,\n",
        "                 evals_result=evals_result)\n",
        "\n",
        "# exp(x) - 1\n",
        "lgb_predy = np.expm1(model.predict(Xt,num_iterations=model.best_iteration))"
      ],
      "execution_count": 8,
      "outputs": [
        {
          "output_type": "stream",
          "text": [
            "Training until validation scores don't improve for 100 rounds.\n",
            "[150]\tvalid_0's rmse: 1.47003\n",
            "[300]\tvalid_0's rmse: 1.41794\n",
            "[450]\tvalid_0's rmse: 1.41307\n",
            "[600]\tvalid_0's rmse: 1.41422\n",
            "Early stopping, best iteration is:\n",
            "[514]\tvalid_0's rmse: 1.41269\n"
          ],
          "name": "stdout"
        }
      ]
    },
    {
      "metadata": {
        "id": "TN9I_AUIKUsC",
        "colab_type": "text"
      },
      "cell_type": "markdown",
      "source": [
        "### XGBoost"
      ]
    },
    {
      "metadata": {
        "id": "T1Nzu3NsFNJ5",
        "colab_type": "code",
        "colab": {
          "base_uri": "https://localhost:8080/",
          "height": 425
        },
        "outputId": "e2a76f07-e233-4281-a710-56a87b8b1c53"
      },
      "cell_type": "code",
      "source": [
        "params ={\n",
        "    'objective':'reg:linear',\n",
        "    'eval_metric':'rmse',\n",
        "    'eta':0.001,\n",
        "    'max_depth':12,\n",
        "    'subsample':0.5,\n",
        "    'colsample_bytree':0.6,\n",
        "    'alpha':0.001,\n",
        "    'random_state':33,\n",
        "    'silent':True\n",
        "}\n",
        "\n",
        "train_data = xgb.DMatrix(X_train,y_train)\n",
        "valid_data = xgb.DMatrix(X_test,y_test)\n",
        "\n",
        "watchlist =[(train_data,'train'),(valid_data,'valid')]\n",
        "\n",
        "xgb_model = xgb.train(params,train_data,2000,watchlist,maximize=False,\n",
        "                     early_stopping_rounds=100,verbose_eval=100)\n",
        "\n",
        "\n",
        "test_data = xgb.DMatrix(Xt)\n",
        "\n",
        "xgb_predy = np.expm1(xgb_model.predict(test_data,ntree_limit=xgb_model.best_ntree_limit))"
      ],
      "execution_count": 9,
      "outputs": [
        {
          "output_type": "stream",
          "text": [
            "[0]\ttrain-rmse:14.0798\tvalid-rmse:14.1027\n",
            "Multiple eval metrics have been passed: 'valid-rmse' will be used for early stopping.\n",
            "\n",
            "Will train until valid-rmse hasn't improved in 100 rounds.\n",
            "[100]\ttrain-rmse:12.7611\tvalid-rmse:12.7835\n",
            "[200]\ttrain-rmse:11.5699\tvalid-rmse:11.5917\n",
            "[300]\ttrain-rmse:10.4945\tvalid-rmse:10.5155\n",
            "[400]\ttrain-rmse:9.52331\tvalid-rmse:9.54394\n",
            "[500]\ttrain-rmse:8.6471\tvalid-rmse:8.66816\n",
            "[600]\ttrain-rmse:7.85669\tvalid-rmse:7.8788\n",
            "[700]\ttrain-rmse:7.14389\tvalid-rmse:7.16762\n",
            "[800]\ttrain-rmse:6.50017\tvalid-rmse:6.52616\n",
            "[900]\ttrain-rmse:5.91978\tvalid-rmse:5.9495\n",
            "[1000]\ttrain-rmse:5.39687\tvalid-rmse:5.43078\n",
            "[1100]\ttrain-rmse:4.92525\tvalid-rmse:4.96432\n",
            "[1200]\ttrain-rmse:4.49992\tvalid-rmse:4.54533\n",
            "[1300]\ttrain-rmse:4.11687\tvalid-rmse:4.16938\n",
            "[1400]\ttrain-rmse:3.77225\tvalid-rmse:3.83292\n",
            "[1500]\ttrain-rmse:3.46198\tvalid-rmse:3.53209\n",
            "[1600]\ttrain-rmse:3.18317\tvalid-rmse:3.26383\n",
            "[1700]\ttrain-rmse:2.93254\tvalid-rmse:3.02578\n",
            "[1800]\ttrain-rmse:2.70808\tvalid-rmse:2.81413\n",
            "[1900]\ttrain-rmse:2.50706\tvalid-rmse:2.6273\n",
            "[1999]\ttrain-rmse:2.32884\tvalid-rmse:2.4642\n"
          ],
          "name": "stdout"
        }
      ]
    },
    {
      "metadata": {
        "id": "CbY_y7XgGy2Y",
        "colab_type": "text"
      },
      "cell_type": "markdown",
      "source": [
        "### CatBoost"
      ]
    },
    {
      "metadata": {
        "id": "_fuP-Dv-G15O",
        "colab_type": "code",
        "colab": {
          "base_uri": "https://localhost:8080/",
          "height": 8585
        },
        "outputId": "96f57822-4d4f-4239-82de-c22241d3c865"
      },
      "cell_type": "code",
      "source": [
        "cb_model = CatBoostRegressor(iterations=500,\n",
        "                           learning_rate=0.05,\n",
        "                           depth=6,\n",
        "                           eval_metric='RMSE',\n",
        "                           random_seed=33,\n",
        "                           bagging_temperature=0.4,\n",
        "                           )\n",
        "\n",
        "\n",
        "cb_model.fit(X_train,y_train,eval_set=(X_test,y_test),\n",
        "             use_best_model=True,verbose=True)\n",
        "\n"
      ],
      "execution_count": 7,
      "outputs": [
        {
          "output_type": "stream",
          "text": [
            "0:\tlearn: 13.8755844\ttest: 13.9001098\tbest: 13.9001098 (0)\ttotal: 1.34s\tremaining: 11m 10s\n",
            "1:\tlearn: 13.1989019\ttest: 13.2241997\tbest: 13.2241997 (1)\ttotal: 2.26s\tremaining: 9m 22s\n",
            "2:\tlearn: 12.5550489\ttest: 12.5794542\tbest: 12.5794542 (2)\ttotal: 3.12s\tremaining: 8m 36s\n",
            "3:\tlearn: 11.9443517\ttest: 11.9701256\tbest: 11.9701256 (3)\ttotal: 4.02s\tremaining: 8m 18s\n",
            "4:\tlearn: 11.3626692\ttest: 11.3881177\tbest: 11.3881177 (4)\ttotal: 4.92s\tremaining: 8m 7s\n",
            "5:\tlearn: 10.8120496\ttest: 10.8379742\tbest: 10.8379742 (5)\ttotal: 5.81s\tremaining: 7m 58s\n",
            "6:\tlearn: 10.2899964\ttest: 10.3154183\tbest: 10.3154183 (6)\ttotal: 6.71s\tremaining: 7m 52s\n",
            "7:\tlearn: 9.7937226\ttest: 9.8200811\tbest: 9.8200811 (7)\ttotal: 7.62s\tremaining: 7m 48s\n",
            "8:\tlearn: 9.3228094\ttest: 9.3500760\tbest: 9.3500760 (8)\ttotal: 8.54s\tremaining: 7m 46s\n",
            "9:\tlearn: 8.8763664\ttest: 8.9034277\tbest: 8.9034277 (9)\ttotal: 9.46s\tremaining: 7m 43s\n",
            "10:\tlearn: 8.4531743\ttest: 8.4798557\tbest: 8.4798557 (10)\ttotal: 10.4s\tremaining: 7m 41s\n",
            "11:\tlearn: 8.0519420\ttest: 8.0784114\tbest: 8.0784114 (11)\ttotal: 11.3s\tremaining: 7m 39s\n",
            "12:\tlearn: 7.6706795\ttest: 7.6967389\tbest: 7.6967389 (12)\ttotal: 12.2s\tremaining: 7m 37s\n",
            "13:\tlearn: 7.3096044\ttest: 7.3348130\tbest: 7.3348130 (13)\ttotal: 13.1s\tremaining: 7m 35s\n",
            "14:\tlearn: 6.9670674\ttest: 6.9919561\tbest: 6.9919561 (14)\ttotal: 14.1s\tremaining: 7m 34s\n",
            "15:\tlearn: 6.6432392\ttest: 6.6681970\tbest: 6.6681970 (15)\ttotal: 15s\tremaining: 7m 33s\n",
            "16:\tlearn: 6.3361720\ttest: 6.3618551\tbest: 6.3618551 (16)\ttotal: 15.9s\tremaining: 7m 30s\n",
            "17:\tlearn: 6.0452000\ttest: 6.0712548\tbest: 6.0712548 (17)\ttotal: 16.7s\tremaining: 7m 28s\n",
            "18:\tlearn: 5.7708641\ttest: 5.7965747\tbest: 5.7965747 (18)\ttotal: 17.7s\tremaining: 7m 27s\n",
            "19:\tlearn: 5.5108536\ttest: 5.5369664\tbest: 5.5369664 (19)\ttotal: 18.6s\tremaining: 7m 26s\n",
            "20:\tlearn: 5.2653220\ttest: 5.2916394\tbest: 5.2916394 (20)\ttotal: 19.5s\tremaining: 7m 24s\n",
            "21:\tlearn: 5.0325264\ttest: 5.0593072\tbest: 5.0593072 (21)\ttotal: 20.4s\tremaining: 7m 23s\n",
            "22:\tlearn: 4.8130814\ttest: 4.8393440\tbest: 4.8393440 (22)\ttotal: 21.3s\tremaining: 7m 22s\n",
            "23:\tlearn: 4.6057434\ttest: 4.6322151\tbest: 4.6322151 (23)\ttotal: 22.3s\tremaining: 7m 22s\n",
            "24:\tlearn: 4.4097398\ttest: 4.4366530\tbest: 4.4366530 (24)\ttotal: 23.2s\tremaining: 7m 20s\n",
            "25:\tlearn: 4.2249480\ttest: 4.2524092\tbest: 4.2524092 (25)\ttotal: 24.1s\tremaining: 7m 19s\n",
            "26:\tlearn: 4.0506622\ttest: 4.0779706\tbest: 4.0779706 (26)\ttotal: 25s\tremaining: 7m 18s\n",
            "27:\tlearn: 3.8868613\ttest: 3.9143619\tbest: 3.9143619 (27)\ttotal: 25.9s\tremaining: 7m 17s\n",
            "28:\tlearn: 3.7323669\ttest: 3.7602506\tbest: 3.7602506 (28)\ttotal: 26.8s\tremaining: 7m 15s\n",
            "29:\tlearn: 3.5878412\ttest: 3.6160141\tbest: 3.6160141 (29)\ttotal: 27.8s\tremaining: 7m 15s\n",
            "30:\tlearn: 3.4518172\ttest: 3.4805957\tbest: 3.4805957 (30)\ttotal: 28.7s\tremaining: 7m 13s\n",
            "31:\tlearn: 3.3244135\ttest: 3.3531370\tbest: 3.3531370 (31)\ttotal: 29.6s\tremaining: 7m 12s\n",
            "32:\tlearn: 3.2042323\ttest: 3.2329047\tbest: 3.2329047 (32)\ttotal: 30.5s\tremaining: 7m 11s\n",
            "33:\tlearn: 3.0925244\ttest: 3.1208698\tbest: 3.1208698 (33)\ttotal: 31.4s\tremaining: 7m 10s\n",
            "34:\tlearn: 2.9873272\ttest: 3.0160711\tbest: 3.0160711 (34)\ttotal: 32.3s\tremaining: 7m 8s\n",
            "35:\tlearn: 2.8893894\ttest: 2.9179708\tbest: 2.9179708 (35)\ttotal: 33.2s\tremaining: 7m 7s\n",
            "36:\tlearn: 2.7975711\ttest: 2.8264672\tbest: 2.8264672 (36)\ttotal: 34s\tremaining: 7m 5s\n",
            "37:\tlearn: 2.7108219\ttest: 2.7398965\tbest: 2.7398965 (37)\ttotal: 34.9s\tremaining: 7m 4s\n",
            "38:\tlearn: 2.6311388\ttest: 2.6602725\tbest: 2.6602725 (38)\ttotal: 35.9s\tremaining: 7m 3s\n",
            "39:\tlearn: 2.5566214\ttest: 2.5850418\tbest: 2.5850418 (39)\ttotal: 36.8s\tremaining: 7m 2s\n",
            "40:\tlearn: 2.4878674\ttest: 2.5162724\tbest: 2.5162724 (40)\ttotal: 37.6s\tremaining: 7m 1s\n",
            "41:\tlearn: 2.4239670\ttest: 2.4524825\tbest: 2.4524825 (41)\ttotal: 38.5s\tremaining: 7m\n",
            "42:\tlearn: 2.3644075\ttest: 2.3929561\tbest: 2.3929561 (42)\ttotal: 39.4s\tremaining: 6m 59s\n",
            "43:\tlearn: 2.3086503\ttest: 2.3363638\tbest: 2.3363638 (43)\ttotal: 40.4s\tremaining: 6m 58s\n",
            "44:\tlearn: 2.2574064\ttest: 2.2855333\tbest: 2.2855333 (44)\ttotal: 41.3s\tremaining: 6m 57s\n",
            "45:\tlearn: 2.2103723\ttest: 2.2382845\tbest: 2.2382845 (45)\ttotal: 42.2s\tremaining: 6m 56s\n",
            "46:\tlearn: 2.1673880\ttest: 2.1952781\tbest: 2.1952781 (46)\ttotal: 43.1s\tremaining: 6m 55s\n",
            "47:\tlearn: 2.1241187\ttest: 2.1518018\tbest: 2.1518018 (47)\ttotal: 44s\tremaining: 6m 54s\n",
            "48:\tlearn: 2.0845437\ttest: 2.1119777\tbest: 2.1119777 (48)\ttotal: 44.9s\tremaining: 6m 53s\n",
            "49:\tlearn: 2.0509495\ttest: 2.0782063\tbest: 2.0782063 (49)\ttotal: 45.8s\tremaining: 6m 52s\n",
            "50:\tlearn: 2.0197458\ttest: 2.0471833\tbest: 2.0471833 (50)\ttotal: 46.7s\tremaining: 6m 51s\n",
            "51:\tlearn: 1.9905542\ttest: 2.0178539\tbest: 2.0178539 (51)\ttotal: 47.6s\tremaining: 6m 50s\n",
            "52:\tlearn: 1.9642405\ttest: 1.9919353\tbest: 1.9919353 (52)\ttotal: 48.6s\tremaining: 6m 49s\n",
            "53:\tlearn: 1.9397983\ttest: 1.9677435\tbest: 1.9677435 (53)\ttotal: 49.5s\tremaining: 6m 48s\n",
            "54:\tlearn: 1.9142278\ttest: 1.9425811\tbest: 1.9425811 (54)\ttotal: 50.4s\tremaining: 6m 47s\n",
            "55:\tlearn: 1.8931746\ttest: 1.9214399\tbest: 1.9214399 (55)\ttotal: 51.3s\tremaining: 6m 46s\n",
            "56:\tlearn: 1.8746474\ttest: 1.9031063\tbest: 1.9031063 (56)\ttotal: 52.2s\tremaining: 6m 45s\n",
            "57:\tlearn: 1.8557414\ttest: 1.8845209\tbest: 1.8845209 (57)\ttotal: 53.2s\tremaining: 6m 45s\n",
            "58:\tlearn: 1.8405264\ttest: 1.8690751\tbest: 1.8690751 (58)\ttotal: 54s\tremaining: 6m 43s\n",
            "59:\tlearn: 1.8247500\ttest: 1.8531237\tbest: 1.8531237 (59)\ttotal: 55s\tremaining: 6m 43s\n",
            "60:\tlearn: 1.8096759\ttest: 1.8372126\tbest: 1.8372126 (60)\ttotal: 55.8s\tremaining: 6m 41s\n",
            "61:\tlearn: 1.7955213\ttest: 1.8229134\tbest: 1.8229134 (61)\ttotal: 56.8s\tremaining: 6m 41s\n",
            "62:\tlearn: 1.7824316\ttest: 1.8095656\tbest: 1.8095656 (62)\ttotal: 57.7s\tremaining: 6m 40s\n",
            "63:\tlearn: 1.7719434\ttest: 1.7989644\tbest: 1.7989644 (63)\ttotal: 58.6s\tremaining: 6m 39s\n",
            "64:\tlearn: 1.7601326\ttest: 1.7868249\tbest: 1.7868249 (64)\ttotal: 59.5s\tremaining: 6m 38s\n",
            "65:\tlearn: 1.7509089\ttest: 1.7774500\tbest: 1.7774500 (65)\ttotal: 1m\tremaining: 6m 37s\n",
            "66:\tlearn: 1.7423147\ttest: 1.7685980\tbest: 1.7685980 (66)\ttotal: 1m 1s\tremaining: 6m 37s\n",
            "67:\tlearn: 1.7344925\ttest: 1.7604367\tbest: 1.7604367 (67)\ttotal: 1m 2s\tremaining: 6m 36s\n",
            "68:\tlearn: 1.7266916\ttest: 1.7528269\tbest: 1.7528269 (68)\ttotal: 1m 3s\tremaining: 6m 35s\n",
            "69:\tlearn: 1.7207393\ttest: 1.7470403\tbest: 1.7470403 (69)\ttotal: 1m 4s\tremaining: 6m 34s\n",
            "70:\tlearn: 1.7129767\ttest: 1.7392735\tbest: 1.7392735 (70)\ttotal: 1m 5s\tremaining: 6m 33s\n",
            "71:\tlearn: 1.7071307\ttest: 1.7338523\tbest: 1.7338523 (71)\ttotal: 1m 6s\tremaining: 6m 32s\n",
            "72:\tlearn: 1.7004735\ttest: 1.7275864\tbest: 1.7275864 (72)\ttotal: 1m 6s\tremaining: 6m 31s\n",
            "73:\tlearn: 1.6948002\ttest: 1.7219124\tbest: 1.7219124 (73)\ttotal: 1m 7s\tremaining: 6m 30s\n",
            "74:\tlearn: 1.6891677\ttest: 1.7161633\tbest: 1.7161633 (74)\ttotal: 1m 8s\tremaining: 6m 30s\n",
            "75:\tlearn: 1.6838933\ttest: 1.7107416\tbest: 1.7107416 (75)\ttotal: 1m 9s\tremaining: 6m 29s\n",
            "76:\tlearn: 1.6794269\ttest: 1.7061472\tbest: 1.7061472 (76)\ttotal: 1m 10s\tremaining: 6m 28s\n",
            "77:\tlearn: 1.6755257\ttest: 1.7023766\tbest: 1.7023766 (77)\ttotal: 1m 11s\tremaining: 6m 27s\n",
            "78:\tlearn: 1.6715903\ttest: 1.6989760\tbest: 1.6989760 (78)\ttotal: 1m 12s\tremaining: 6m 26s\n",
            "79:\tlearn: 1.6684864\ttest: 1.6961144\tbest: 1.6961144 (79)\ttotal: 1m 13s\tremaining: 6m 25s\n",
            "80:\tlearn: 1.6644617\ttest: 1.6931498\tbest: 1.6931498 (80)\ttotal: 1m 14s\tremaining: 6m 24s\n",
            "81:\tlearn: 1.6606409\ttest: 1.6904139\tbest: 1.6904139 (81)\ttotal: 1m 15s\tremaining: 6m 23s\n",
            "82:\tlearn: 1.6570618\ttest: 1.6877585\tbest: 1.6877585 (82)\ttotal: 1m 16s\tremaining: 6m 22s\n",
            "83:\tlearn: 1.6547887\ttest: 1.6854120\tbest: 1.6854120 (83)\ttotal: 1m 17s\tremaining: 6m 21s\n",
            "84:\tlearn: 1.6519573\ttest: 1.6831095\tbest: 1.6831095 (84)\ttotal: 1m 17s\tremaining: 6m 20s\n",
            "85:\tlearn: 1.6495975\ttest: 1.6810635\tbest: 1.6810635 (85)\ttotal: 1m 18s\tremaining: 6m 19s\n",
            "86:\tlearn: 1.6463878\ttest: 1.6779021\tbest: 1.6779021 (86)\ttotal: 1m 19s\tremaining: 6m 18s\n",
            "87:\tlearn: 1.6444630\ttest: 1.6768705\tbest: 1.6768705 (87)\ttotal: 1m 20s\tremaining: 6m 17s\n",
            "88:\tlearn: 1.6418886\ttest: 1.6747366\tbest: 1.6747366 (88)\ttotal: 1m 21s\tremaining: 6m 17s\n",
            "89:\tlearn: 1.6397096\ttest: 1.6721720\tbest: 1.6721720 (89)\ttotal: 1m 22s\tremaining: 6m 16s\n",
            "90:\tlearn: 1.6373551\ttest: 1.6703147\tbest: 1.6703147 (90)\ttotal: 1m 23s\tremaining: 6m 15s\n",
            "91:\tlearn: 1.6345683\ttest: 1.6678286\tbest: 1.6678286 (91)\ttotal: 1m 24s\tremaining: 6m 14s\n",
            "92:\tlearn: 1.6325411\ttest: 1.6664000\tbest: 1.6664000 (92)\ttotal: 1m 25s\tremaining: 6m 13s\n",
            "93:\tlearn: 1.6296098\ttest: 1.6634707\tbest: 1.6634707 (93)\ttotal: 1m 26s\tremaining: 6m 12s\n",
            "94:\tlearn: 1.6276511\ttest: 1.6620168\tbest: 1.6620168 (94)\ttotal: 1m 27s\tremaining: 6m 11s\n",
            "95:\tlearn: 1.6260851\ttest: 1.6609118\tbest: 1.6609118 (95)\ttotal: 1m 28s\tremaining: 6m 10s\n",
            "96:\tlearn: 1.6239109\ttest: 1.6597314\tbest: 1.6597314 (96)\ttotal: 1m 28s\tremaining: 6m 9s\n",
            "97:\tlearn: 1.6221867\ttest: 1.6584443\tbest: 1.6584443 (97)\ttotal: 1m 29s\tremaining: 6m 8s\n",
            "98:\tlearn: 1.6197259\ttest: 1.6566173\tbest: 1.6566173 (98)\ttotal: 1m 30s\tremaining: 6m 7s\n",
            "99:\tlearn: 1.6179945\ttest: 1.6545637\tbest: 1.6545637 (99)\ttotal: 1m 31s\tremaining: 6m 6s\n",
            "100:\tlearn: 1.6154551\ttest: 1.6523651\tbest: 1.6523651 (100)\ttotal: 1m 32s\tremaining: 6m 6s\n",
            "101:\tlearn: 1.6133430\ttest: 1.6505207\tbest: 1.6505207 (101)\ttotal: 1m 33s\tremaining: 6m 5s\n",
            "102:\tlearn: 1.6100815\ttest: 1.6473489\tbest: 1.6473489 (102)\ttotal: 1m 34s\tremaining: 6m 4s\n",
            "103:\tlearn: 1.6086232\ttest: 1.6458405\tbest: 1.6458405 (103)\ttotal: 1m 35s\tremaining: 6m 3s\n",
            "104:\tlearn: 1.6076226\ttest: 1.6450909\tbest: 1.6450909 (104)\ttotal: 1m 36s\tremaining: 6m 2s\n",
            "105:\tlearn: 1.6062729\ttest: 1.6442972\tbest: 1.6442972 (105)\ttotal: 1m 37s\tremaining: 6m 1s\n",
            "106:\tlearn: 1.6039233\ttest: 1.6429247\tbest: 1.6429247 (106)\ttotal: 1m 38s\tremaining: 6m\n",
            "107:\tlearn: 1.6029597\ttest: 1.6425307\tbest: 1.6425307 (107)\ttotal: 1m 39s\tremaining: 5m 59s\n",
            "108:\tlearn: 1.6015945\ttest: 1.6419890\tbest: 1.6419890 (108)\ttotal: 1m 40s\tremaining: 5m 59s\n",
            "109:\tlearn: 1.6012061\ttest: 1.6416368\tbest: 1.6416368 (109)\ttotal: 1m 40s\tremaining: 5m 58s\n",
            "110:\tlearn: 1.5998587\ttest: 1.6402533\tbest: 1.6402533 (110)\ttotal: 1m 41s\tremaining: 5m 57s\n",
            "111:\tlearn: 1.5985860\ttest: 1.6389809\tbest: 1.6389809 (111)\ttotal: 1m 42s\tremaining: 5m 56s\n",
            "112:\tlearn: 1.5937755\ttest: 1.6349618\tbest: 1.6349618 (112)\ttotal: 1m 43s\tremaining: 5m 55s\n",
            "113:\tlearn: 1.5921826\ttest: 1.6342156\tbest: 1.6342156 (113)\ttotal: 1m 44s\tremaining: 5m 54s\n",
            "114:\tlearn: 1.5881312\ttest: 1.6306272\tbest: 1.6306272 (114)\ttotal: 1m 45s\tremaining: 5m 54s\n",
            "115:\tlearn: 1.5846852\ttest: 1.6279853\tbest: 1.6279853 (115)\ttotal: 1m 46s\tremaining: 5m 53s\n",
            "116:\tlearn: 1.5842924\ttest: 1.6278344\tbest: 1.6278344 (116)\ttotal: 1m 47s\tremaining: 5m 52s\n",
            "117:\tlearn: 1.5833585\ttest: 1.6269282\tbest: 1.6269282 (117)\ttotal: 1m 48s\tremaining: 5m 51s\n",
            "118:\tlearn: 1.5822322\ttest: 1.6260990\tbest: 1.6260990 (118)\ttotal: 1m 49s\tremaining: 5m 50s\n",
            "119:\tlearn: 1.5813424\ttest: 1.6259236\tbest: 1.6259236 (119)\ttotal: 1m 50s\tremaining: 5m 49s\n",
            "120:\tlearn: 1.5803750\ttest: 1.6249454\tbest: 1.6249454 (120)\ttotal: 1m 51s\tremaining: 5m 48s\n",
            "121:\tlearn: 1.5765555\ttest: 1.6216194\tbest: 1.6216194 (121)\ttotal: 1m 52s\tremaining: 5m 47s\n",
            "122:\tlearn: 1.5762198\ttest: 1.6213345\tbest: 1.6213345 (122)\ttotal: 1m 53s\tremaining: 5m 46s\n",
            "123:\tlearn: 1.5759297\ttest: 1.6212830\tbest: 1.6212830 (123)\ttotal: 1m 54s\tremaining: 5m 45s\n",
            "124:\tlearn: 1.5757681\ttest: 1.6211856\tbest: 1.6211856 (124)\ttotal: 1m 54s\tremaining: 5m 44s\n",
            "125:\tlearn: 1.5737256\ttest: 1.6199698\tbest: 1.6199698 (125)\ttotal: 1m 55s\tremaining: 5m 43s\n",
            "126:\tlearn: 1.5729568\ttest: 1.6193115\tbest: 1.6193115 (126)\ttotal: 1m 56s\tremaining: 5m 43s\n",
            "127:\tlearn: 1.5726385\ttest: 1.6192852\tbest: 1.6192852 (127)\ttotal: 1m 57s\tremaining: 5m 42s\n",
            "128:\tlearn: 1.5719152\ttest: 1.6187286\tbest: 1.6187286 (128)\ttotal: 1m 58s\tremaining: 5m 41s\n",
            "129:\tlearn: 1.5690779\ttest: 1.6156537\tbest: 1.6156537 (129)\ttotal: 1m 59s\tremaining: 5m 40s\n",
            "130:\tlearn: 1.5686128\ttest: 1.6153764\tbest: 1.6153764 (130)\ttotal: 2m\tremaining: 5m 39s\n",
            "131:\tlearn: 1.5655553\ttest: 1.6119709\tbest: 1.6119709 (131)\ttotal: 2m 1s\tremaining: 5m 38s\n",
            "132:\tlearn: 1.5640788\ttest: 1.6106263\tbest: 1.6106263 (132)\ttotal: 2m 2s\tremaining: 5m 37s\n",
            "133:\tlearn: 1.5602938\ttest: 1.6071149\tbest: 1.6071149 (133)\ttotal: 2m 3s\tremaining: 5m 36s\n",
            "134:\tlearn: 1.5592148\ttest: 1.6065543\tbest: 1.6065543 (134)\ttotal: 2m 4s\tremaining: 5m 35s\n",
            "135:\tlearn: 1.5573648\ttest: 1.6056158\tbest: 1.6056158 (135)\ttotal: 2m 5s\tremaining: 5m 34s\n",
            "136:\tlearn: 1.5565296\ttest: 1.6049850\tbest: 1.6049850 (136)\ttotal: 2m 6s\tremaining: 5m 33s\n",
            "137:\tlearn: 1.5556682\ttest: 1.6044622\tbest: 1.6044622 (137)\ttotal: 2m 6s\tremaining: 5m 33s\n",
            "138:\tlearn: 1.5541453\ttest: 1.6032225\tbest: 1.6032225 (138)\ttotal: 2m 7s\tremaining: 5m 32s\n",
            "139:\tlearn: 1.5533278\ttest: 1.6030478\tbest: 1.6030478 (139)\ttotal: 2m 8s\tremaining: 5m 31s\n",
            "140:\tlearn: 1.5506524\ttest: 1.6010761\tbest: 1.6010761 (140)\ttotal: 2m 9s\tremaining: 5m 30s\n",
            "141:\tlearn: 1.5494455\ttest: 1.6002617\tbest: 1.6002617 (141)\ttotal: 2m 10s\tremaining: 5m 29s\n",
            "142:\tlearn: 1.5492665\ttest: 1.6000661\tbest: 1.6000661 (142)\ttotal: 2m 11s\tremaining: 5m 28s\n",
            "143:\tlearn: 1.5477250\ttest: 1.5983672\tbest: 1.5983672 (143)\ttotal: 2m 12s\tremaining: 5m 27s\n",
            "144:\tlearn: 1.5474916\ttest: 1.5984432\tbest: 1.5983672 (143)\ttotal: 2m 13s\tremaining: 5m 26s\n",
            "145:\tlearn: 1.5474155\ttest: 1.5984828\tbest: 1.5983672 (143)\ttotal: 2m 14s\tremaining: 5m 25s\n",
            "146:\tlearn: 1.5473435\ttest: 1.5984499\tbest: 1.5983672 (143)\ttotal: 2m 15s\tremaining: 5m 24s\n",
            "147:\tlearn: 1.5470951\ttest: 1.5983665\tbest: 1.5983665 (147)\ttotal: 2m 16s\tremaining: 5m 23s\n",
            "148:\tlearn: 1.5462629\ttest: 1.5977262\tbest: 1.5977262 (148)\ttotal: 2m 17s\tremaining: 5m 22s\n",
            "149:\tlearn: 1.5456785\ttest: 1.5976168\tbest: 1.5976168 (149)\ttotal: 2m 17s\tremaining: 5m 21s\n",
            "150:\tlearn: 1.5453913\ttest: 1.5976248\tbest: 1.5976168 (149)\ttotal: 2m 18s\tremaining: 5m 20s\n",
            "151:\tlearn: 1.5429833\ttest: 1.5956523\tbest: 1.5956523 (151)\ttotal: 2m 19s\tremaining: 5m 20s\n",
            "152:\tlearn: 1.5381656\ttest: 1.5923265\tbest: 1.5923265 (152)\ttotal: 2m 20s\tremaining: 5m 19s\n",
            "153:\tlearn: 1.5381026\ttest: 1.5923187\tbest: 1.5923187 (153)\ttotal: 2m 21s\tremaining: 5m 18s\n",
            "154:\tlearn: 1.5367098\ttest: 1.5908014\tbest: 1.5908014 (154)\ttotal: 2m 22s\tremaining: 5m 17s\n",
            "155:\tlearn: 1.5340998\ttest: 1.5889198\tbest: 1.5889198 (155)\ttotal: 2m 23s\tremaining: 5m 16s\n",
            "156:\tlearn: 1.5326199\ttest: 1.5882132\tbest: 1.5882132 (156)\ttotal: 2m 24s\tremaining: 5m 15s\n",
            "157:\tlearn: 1.5325776\ttest: 1.5881647\tbest: 1.5881647 (157)\ttotal: 2m 25s\tremaining: 5m 14s\n",
            "158:\tlearn: 1.5297506\ttest: 1.5858976\tbest: 1.5858976 (158)\ttotal: 2m 26s\tremaining: 5m 13s\n",
            "159:\tlearn: 1.5285083\ttest: 1.5857763\tbest: 1.5857763 (159)\ttotal: 2m 27s\tremaining: 5m 12s\n",
            "160:\tlearn: 1.5258689\ttest: 1.5830849\tbest: 1.5830849 (160)\ttotal: 2m 28s\tremaining: 5m 11s\n",
            "161:\tlearn: 1.5242852\ttest: 1.5824240\tbest: 1.5824240 (161)\ttotal: 2m 29s\tremaining: 5m 11s\n",
            "162:\tlearn: 1.5227138\ttest: 1.5812436\tbest: 1.5812436 (162)\ttotal: 2m 30s\tremaining: 5m 10s\n",
            "163:\tlearn: 1.5211693\ttest: 1.5795238\tbest: 1.5795238 (163)\ttotal: 2m 30s\tremaining: 5m 9s\n",
            "164:\tlearn: 1.5210492\ttest: 1.5795237\tbest: 1.5795237 (164)\ttotal: 2m 31s\tremaining: 5m 8s\n",
            "165:\tlearn: 1.5208257\ttest: 1.5794067\tbest: 1.5794067 (165)\ttotal: 2m 32s\tremaining: 5m 7s\n",
            "166:\tlearn: 1.5197983\ttest: 1.5788542\tbest: 1.5788542 (166)\ttotal: 2m 33s\tremaining: 5m 6s\n",
            "167:\tlearn: 1.5185880\ttest: 1.5785634\tbest: 1.5785634 (167)\ttotal: 2m 34s\tremaining: 5m 5s\n",
            "168:\tlearn: 1.5179271\ttest: 1.5783824\tbest: 1.5783824 (168)\ttotal: 2m 35s\tremaining: 5m 4s\n",
            "169:\tlearn: 1.5159756\ttest: 1.5768769\tbest: 1.5768769 (169)\ttotal: 2m 36s\tremaining: 5m 3s\n",
            "170:\tlearn: 1.5132989\ttest: 1.5751325\tbest: 1.5751325 (170)\ttotal: 2m 37s\tremaining: 5m 2s\n",
            "171:\tlearn: 1.5096689\ttest: 1.5717989\tbest: 1.5717989 (171)\ttotal: 2m 38s\tremaining: 5m 1s\n",
            "172:\tlearn: 1.5094371\ttest: 1.5717685\tbest: 1.5717685 (172)\ttotal: 2m 39s\tremaining: 5m 1s\n",
            "173:\tlearn: 1.5092333\ttest: 1.5715711\tbest: 1.5715711 (173)\ttotal: 2m 40s\tremaining: 5m\n",
            "174:\tlearn: 1.5079761\ttest: 1.5711912\tbest: 1.5711912 (174)\ttotal: 2m 41s\tremaining: 4m 59s\n",
            "175:\tlearn: 1.5071165\ttest: 1.5708407\tbest: 1.5708407 (175)\ttotal: 2m 42s\tremaining: 4m 58s\n",
            "176:\tlearn: 1.5057284\ttest: 1.5700881\tbest: 1.5700881 (176)\ttotal: 2m 42s\tremaining: 4m 57s\n",
            "177:\tlearn: 1.5044740\ttest: 1.5694636\tbest: 1.5694636 (177)\ttotal: 2m 43s\tremaining: 4m 56s\n",
            "178:\tlearn: 1.5043304\ttest: 1.5695250\tbest: 1.5694636 (177)\ttotal: 2m 44s\tremaining: 4m 55s\n",
            "179:\tlearn: 1.5019024\ttest: 1.5680400\tbest: 1.5680400 (179)\ttotal: 2m 45s\tremaining: 4m 54s\n",
            "180:\tlearn: 1.5009514\ttest: 1.5674843\tbest: 1.5674843 (180)\ttotal: 2m 46s\tremaining: 4m 53s\n",
            "181:\tlearn: 1.4991631\ttest: 1.5672055\tbest: 1.5672055 (181)\ttotal: 2m 47s\tremaining: 4m 52s\n",
            "182:\tlearn: 1.4972776\ttest: 1.5661883\tbest: 1.5661883 (182)\ttotal: 2m 48s\tremaining: 4m 51s\n",
            "183:\tlearn: 1.4938192\ttest: 1.5631415\tbest: 1.5631415 (183)\ttotal: 2m 49s\tremaining: 4m 51s\n",
            "184:\tlearn: 1.4919587\ttest: 1.5618567\tbest: 1.5618567 (184)\ttotal: 2m 50s\tremaining: 4m 50s\n",
            "185:\tlearn: 1.4918056\ttest: 1.5616765\tbest: 1.5616765 (185)\ttotal: 2m 51s\tremaining: 4m 49s\n",
            "186:\tlearn: 1.4917108\ttest: 1.5616640\tbest: 1.5616640 (186)\ttotal: 2m 51s\tremaining: 4m 47s\n",
            "187:\tlearn: 1.4914094\ttest: 1.5615936\tbest: 1.5615936 (187)\ttotal: 2m 52s\tremaining: 4m 46s\n",
            "188:\tlearn: 1.4903588\ttest: 1.5611405\tbest: 1.5611405 (188)\ttotal: 2m 53s\tremaining: 4m 45s\n",
            "189:\tlearn: 1.4890121\ttest: 1.5613490\tbest: 1.5611405 (188)\ttotal: 2m 54s\tremaining: 4m 45s\n",
            "190:\tlearn: 1.4851307\ttest: 1.5588510\tbest: 1.5588510 (190)\ttotal: 2m 55s\tremaining: 4m 44s\n",
            "191:\tlearn: 1.4813991\ttest: 1.5558981\tbest: 1.5558981 (191)\ttotal: 2m 56s\tremaining: 4m 43s\n",
            "192:\tlearn: 1.4801272\ttest: 1.5558657\tbest: 1.5558657 (192)\ttotal: 2m 57s\tremaining: 4m 42s\n",
            "193:\tlearn: 1.4775918\ttest: 1.5536416\tbest: 1.5536416 (193)\ttotal: 2m 58s\tremaining: 4m 41s\n",
            "194:\tlearn: 1.4765095\ttest: 1.5532191\tbest: 1.5532191 (194)\ttotal: 2m 59s\tremaining: 4m 40s\n",
            "195:\tlearn: 1.4725702\ttest: 1.5503251\tbest: 1.5503251 (195)\ttotal: 3m\tremaining: 4m 39s\n",
            "196:\tlearn: 1.4705123\ttest: 1.5486961\tbest: 1.5486961 (196)\ttotal: 3m 1s\tremaining: 4m 39s\n",
            "197:\tlearn: 1.4681740\ttest: 1.5469320\tbest: 1.5469320 (197)\ttotal: 3m 2s\tremaining: 4m 38s\n",
            "198:\tlearn: 1.4679529\ttest: 1.5468367\tbest: 1.5468367 (198)\ttotal: 3m 3s\tremaining: 4m 37s\n",
            "199:\tlearn: 1.4647927\ttest: 1.5440692\tbest: 1.5440692 (199)\ttotal: 3m 4s\tremaining: 4m 36s\n",
            "200:\tlearn: 1.4633791\ttest: 1.5436820\tbest: 1.5436820 (200)\ttotal: 3m 5s\tremaining: 4m 35s\n",
            "201:\tlearn: 1.4631950\ttest: 1.5437782\tbest: 1.5436820 (200)\ttotal: 3m 6s\tremaining: 4m 34s\n",
            "202:\tlearn: 1.4618358\ttest: 1.5436525\tbest: 1.5436525 (202)\ttotal: 3m 6s\tremaining: 4m 33s\n",
            "203:\tlearn: 1.4591525\ttest: 1.5420492\tbest: 1.5420492 (203)\ttotal: 3m 7s\tremaining: 4m 32s\n",
            "204:\tlearn: 1.4575602\ttest: 1.5415416\tbest: 1.5415416 (204)\ttotal: 3m 8s\tremaining: 4m 31s\n",
            "205:\tlearn: 1.4541223\ttest: 1.5394056\tbest: 1.5394056 (205)\ttotal: 3m 9s\tremaining: 4m 30s\n",
            "206:\tlearn: 1.4539788\ttest: 1.5394499\tbest: 1.5394056 (205)\ttotal: 3m 10s\tremaining: 4m 29s\n",
            "207:\tlearn: 1.4520865\ttest: 1.5390835\tbest: 1.5390835 (207)\ttotal: 3m 11s\tremaining: 4m 29s\n",
            "208:\tlearn: 1.4517031\ttest: 1.5390329\tbest: 1.5390329 (208)\ttotal: 3m 12s\tremaining: 4m 28s\n",
            "209:\tlearn: 1.4511516\ttest: 1.5389615\tbest: 1.5389615 (209)\ttotal: 3m 13s\tremaining: 4m 27s\n",
            "210:\tlearn: 1.4494532\ttest: 1.5380701\tbest: 1.5380701 (210)\ttotal: 3m 14s\tremaining: 4m 26s\n",
            "211:\tlearn: 1.4477529\ttest: 1.5373613\tbest: 1.5373613 (211)\ttotal: 3m 15s\tremaining: 4m 25s\n",
            "212:\tlearn: 1.4465110\ttest: 1.5370155\tbest: 1.5370155 (212)\ttotal: 3m 16s\tremaining: 4m 24s\n",
            "213:\tlearn: 1.4438752\ttest: 1.5350171\tbest: 1.5350171 (213)\ttotal: 3m 17s\tremaining: 4m 23s\n",
            "214:\tlearn: 1.4408633\ttest: 1.5332098\tbest: 1.5332098 (214)\ttotal: 3m 18s\tremaining: 4m 22s\n",
            "215:\tlearn: 1.4406027\ttest: 1.5331089\tbest: 1.5331089 (215)\ttotal: 3m 19s\tremaining: 4m 21s\n",
            "216:\tlearn: 1.4400178\ttest: 1.5329110\tbest: 1.5329110 (216)\ttotal: 3m 20s\tremaining: 4m 20s\n",
            "217:\tlearn: 1.4396779\ttest: 1.5330083\tbest: 1.5329110 (216)\ttotal: 3m 20s\tremaining: 4m 19s\n",
            "218:\tlearn: 1.4387676\ttest: 1.5328057\tbest: 1.5328057 (218)\ttotal: 3m 21s\tremaining: 4m 19s\n",
            "219:\tlearn: 1.4384986\ttest: 1.5326863\tbest: 1.5326863 (219)\ttotal: 3m 22s\tremaining: 4m 18s\n",
            "220:\tlearn: 1.4358359\ttest: 1.5315772\tbest: 1.5315772 (220)\ttotal: 3m 23s\tremaining: 4m 17s\n",
            "221:\tlearn: 1.4341458\ttest: 1.5311806\tbest: 1.5311806 (221)\ttotal: 3m 24s\tremaining: 4m 16s\n",
            "222:\tlearn: 1.4321117\ttest: 1.5296256\tbest: 1.5296256 (222)\ttotal: 3m 25s\tremaining: 4m 15s\n",
            "223:\tlearn: 1.4293805\ttest: 1.5274251\tbest: 1.5274251 (223)\ttotal: 3m 26s\tremaining: 4m 14s\n",
            "224:\tlearn: 1.4280201\ttest: 1.5260742\tbest: 1.5260742 (224)\ttotal: 3m 27s\tremaining: 4m 13s\n",
            "225:\tlearn: 1.4265678\ttest: 1.5251573\tbest: 1.5251573 (225)\ttotal: 3m 28s\tremaining: 4m 12s\n",
            "226:\tlearn: 1.4258349\ttest: 1.5251964\tbest: 1.5251573 (225)\ttotal: 3m 29s\tremaining: 4m 11s\n",
            "227:\tlearn: 1.4253168\ttest: 1.5250651\tbest: 1.5250651 (227)\ttotal: 3m 30s\tremaining: 4m 11s\n",
            "228:\tlearn: 1.4226393\ttest: 1.5234756\tbest: 1.5234756 (228)\ttotal: 3m 31s\tremaining: 4m 10s\n",
            "229:\tlearn: 1.4205926\ttest: 1.5221626\tbest: 1.5221626 (229)\ttotal: 3m 32s\tremaining: 4m 9s\n",
            "230:\tlearn: 1.4198517\ttest: 1.5222430\tbest: 1.5221626 (229)\ttotal: 3m 33s\tremaining: 4m 8s\n",
            "231:\tlearn: 1.4185883\ttest: 1.5223519\tbest: 1.5221626 (229)\ttotal: 3m 34s\tremaining: 4m 7s\n",
            "232:\tlearn: 1.4180067\ttest: 1.5221194\tbest: 1.5221194 (232)\ttotal: 3m 35s\tremaining: 4m 6s\n",
            "233:\tlearn: 1.4148481\ttest: 1.5199109\tbest: 1.5199109 (233)\ttotal: 3m 36s\tremaining: 4m 5s\n",
            "234:\tlearn: 1.4132429\ttest: 1.5197558\tbest: 1.5197558 (234)\ttotal: 3m 37s\tremaining: 4m 4s\n",
            "235:\tlearn: 1.4116306\ttest: 1.5191508\tbest: 1.5191508 (235)\ttotal: 3m 38s\tremaining: 4m 4s\n",
            "236:\tlearn: 1.4108079\ttest: 1.5190490\tbest: 1.5190490 (236)\ttotal: 3m 39s\tremaining: 4m 3s\n",
            "237:\tlearn: 1.4084674\ttest: 1.5173546\tbest: 1.5173546 (237)\ttotal: 3m 40s\tremaining: 4m 2s\n",
            "238:\tlearn: 1.4073283\ttest: 1.5167447\tbest: 1.5167447 (238)\ttotal: 3m 41s\tremaining: 4m 1s\n",
            "239:\tlearn: 1.4059956\ttest: 1.5167237\tbest: 1.5167237 (239)\ttotal: 3m 41s\tremaining: 4m\n",
            "240:\tlearn: 1.4054302\ttest: 1.5166239\tbest: 1.5166239 (240)\ttotal: 3m 42s\tremaining: 3m 59s\n",
            "241:\tlearn: 1.4050279\ttest: 1.5165010\tbest: 1.5165010 (241)\ttotal: 3m 43s\tremaining: 3m 58s\n",
            "242:\tlearn: 1.4040124\ttest: 1.5165243\tbest: 1.5165010 (241)\ttotal: 3m 44s\tremaining: 3m 57s\n",
            "243:\tlearn: 1.4034868\ttest: 1.5163329\tbest: 1.5163329 (243)\ttotal: 3m 45s\tremaining: 3m 56s\n",
            "244:\tlearn: 1.4010812\ttest: 1.5145477\tbest: 1.5145477 (244)\ttotal: 3m 46s\tremaining: 3m 55s\n",
            "245:\tlearn: 1.4008311\ttest: 1.5145362\tbest: 1.5145362 (245)\ttotal: 3m 47s\tremaining: 3m 54s\n",
            "246:\tlearn: 1.4006550\ttest: 1.5145052\tbest: 1.5145052 (246)\ttotal: 3m 48s\tremaining: 3m 53s\n",
            "247:\tlearn: 1.4000227\ttest: 1.5144589\tbest: 1.5144589 (247)\ttotal: 3m 49s\tremaining: 3m 52s\n",
            "248:\tlearn: 1.3993814\ttest: 1.5143025\tbest: 1.5143025 (248)\ttotal: 3m 50s\tremaining: 3m 52s\n",
            "249:\tlearn: 1.3990400\ttest: 1.5143608\tbest: 1.5143025 (248)\ttotal: 3m 51s\tremaining: 3m 51s\n",
            "250:\tlearn: 1.3981230\ttest: 1.5144979\tbest: 1.5143025 (248)\ttotal: 3m 52s\tremaining: 3m 50s\n",
            "251:\tlearn: 1.3977823\ttest: 1.5143728\tbest: 1.5143025 (248)\ttotal: 3m 52s\tremaining: 3m 49s\n",
            "252:\tlearn: 1.3975410\ttest: 1.5143243\tbest: 1.5143025 (248)\ttotal: 3m 53s\tremaining: 3m 48s\n",
            "253:\tlearn: 1.3967942\ttest: 1.5145413\tbest: 1.5143025 (248)\ttotal: 3m 54s\tremaining: 3m 47s\n",
            "254:\tlearn: 1.3964633\ttest: 1.5145040\tbest: 1.5143025 (248)\ttotal: 3m 55s\tremaining: 3m 46s\n",
            "255:\tlearn: 1.3942151\ttest: 1.5131705\tbest: 1.5131705 (255)\ttotal: 3m 56s\tremaining: 3m 45s\n",
            "256:\tlearn: 1.3938739\ttest: 1.5132295\tbest: 1.5131705 (255)\ttotal: 3m 57s\tremaining: 3m 44s\n",
            "257:\tlearn: 1.3914222\ttest: 1.5109254\tbest: 1.5109254 (257)\ttotal: 3m 58s\tremaining: 3m 43s\n",
            "258:\tlearn: 1.3911237\ttest: 1.5109476\tbest: 1.5109254 (257)\ttotal: 3m 59s\tremaining: 3m 42s\n",
            "259:\tlearn: 1.3903510\ttest: 1.5110106\tbest: 1.5109254 (257)\ttotal: 4m\tremaining: 3m 41s\n",
            "260:\tlearn: 1.3888891\ttest: 1.5103925\tbest: 1.5103925 (260)\ttotal: 4m 1s\tremaining: 3m 41s\n",
            "261:\tlearn: 1.3879900\ttest: 1.5100608\tbest: 1.5100608 (261)\ttotal: 4m 2s\tremaining: 3m 40s\n",
            "262:\tlearn: 1.3878661\ttest: 1.5101568\tbest: 1.5100608 (261)\ttotal: 4m 3s\tremaining: 3m 39s\n",
            "263:\tlearn: 1.3875594\ttest: 1.5101643\tbest: 1.5100608 (261)\ttotal: 4m 4s\tremaining: 3m 38s\n",
            "264:\tlearn: 1.3863444\ttest: 1.5097490\tbest: 1.5097490 (264)\ttotal: 4m 5s\tremaining: 3m 37s\n",
            "265:\tlearn: 1.3856656\ttest: 1.5098049\tbest: 1.5097490 (264)\ttotal: 4m 5s\tremaining: 3m 36s\n",
            "266:\tlearn: 1.3849258\ttest: 1.5097534\tbest: 1.5097490 (264)\ttotal: 4m 6s\tremaining: 3m 35s\n",
            "267:\tlearn: 1.3847385\ttest: 1.5097431\tbest: 1.5097431 (267)\ttotal: 4m 7s\tremaining: 3m 34s\n",
            "268:\tlearn: 1.3836120\ttest: 1.5095106\tbest: 1.5095106 (268)\ttotal: 4m 8s\tremaining: 3m 33s\n",
            "269:\tlearn: 1.3827252\ttest: 1.5095186\tbest: 1.5095106 (268)\ttotal: 4m 9s\tremaining: 3m 32s\n",
            "270:\tlearn: 1.3819755\ttest: 1.5091497\tbest: 1.5091497 (270)\ttotal: 4m 10s\tremaining: 3m 31s\n",
            "271:\tlearn: 1.3810465\ttest: 1.5090747\tbest: 1.5090747 (271)\ttotal: 4m 11s\tremaining: 3m 30s\n",
            "272:\tlearn: 1.3803742\ttest: 1.5092338\tbest: 1.5090747 (271)\ttotal: 4m 12s\tremaining: 3m 29s\n",
            "273:\tlearn: 1.3800660\ttest: 1.5094187\tbest: 1.5090747 (271)\ttotal: 4m 13s\tremaining: 3m 29s\n",
            "274:\tlearn: 1.3798302\ttest: 1.5093416\tbest: 1.5090747 (271)\ttotal: 4m 14s\tremaining: 3m 28s\n",
            "275:\tlearn: 1.3796522\ttest: 1.5093664\tbest: 1.5090747 (271)\ttotal: 4m 15s\tremaining: 3m 27s\n",
            "276:\tlearn: 1.3794926\ttest: 1.5093263\tbest: 1.5090747 (271)\ttotal: 4m 16s\tremaining: 3m 26s\n",
            "277:\tlearn: 1.3781456\ttest: 1.5089341\tbest: 1.5089341 (277)\ttotal: 4m 17s\tremaining: 3m 25s\n",
            "278:\tlearn: 1.3780251\ttest: 1.5089469\tbest: 1.5089341 (277)\ttotal: 4m 17s\tremaining: 3m 24s\n",
            "279:\tlearn: 1.3776817\ttest: 1.5091266\tbest: 1.5089341 (277)\ttotal: 4m 18s\tremaining: 3m 23s\n",
            "280:\tlearn: 1.3775341\ttest: 1.5091930\tbest: 1.5089341 (277)\ttotal: 4m 19s\tremaining: 3m 22s\n",
            "281:\tlearn: 1.3762889\ttest: 1.5092529\tbest: 1.5089341 (277)\ttotal: 4m 20s\tremaining: 3m 21s\n",
            "282:\tlearn: 1.3761900\ttest: 1.5092678\tbest: 1.5089341 (277)\ttotal: 4m 21s\tremaining: 3m 20s\n",
            "283:\tlearn: 1.3756707\ttest: 1.5093553\tbest: 1.5089341 (277)\ttotal: 4m 22s\tremaining: 3m 19s\n",
            "284:\tlearn: 1.3754003\ttest: 1.5093361\tbest: 1.5089341 (277)\ttotal: 4m 23s\tremaining: 3m 18s\n",
            "285:\tlearn: 1.3753114\ttest: 1.5092627\tbest: 1.5089341 (277)\ttotal: 4m 24s\tremaining: 3m 17s\n",
            "286:\tlearn: 1.3742910\ttest: 1.5093885\tbest: 1.5089341 (277)\ttotal: 4m 25s\tremaining: 3m 16s\n",
            "287:\tlearn: 1.3726417\ttest: 1.5080518\tbest: 1.5080518 (287)\ttotal: 4m 26s\tremaining: 3m 15s\n",
            "288:\tlearn: 1.3718989\ttest: 1.5081014\tbest: 1.5080518 (287)\ttotal: 4m 26s\tremaining: 3m 14s\n",
            "289:\tlearn: 1.3711209\ttest: 1.5079836\tbest: 1.5079836 (289)\ttotal: 4m 27s\tremaining: 3m 14s\n",
            "290:\tlearn: 1.3704879\ttest: 1.5079343\tbest: 1.5079343 (290)\ttotal: 4m 28s\tremaining: 3m 13s\n",
            "291:\tlearn: 1.3703647\ttest: 1.5079781\tbest: 1.5079343 (290)\ttotal: 4m 29s\tremaining: 3m 12s\n",
            "292:\tlearn: 1.3699757\ttest: 1.5078797\tbest: 1.5078797 (292)\ttotal: 4m 30s\tremaining: 3m 11s\n",
            "293:\tlearn: 1.3691434\ttest: 1.5080012\tbest: 1.5078797 (292)\ttotal: 4m 31s\tremaining: 3m 10s\n",
            "294:\tlearn: 1.3690285\ttest: 1.5080184\tbest: 1.5078797 (292)\ttotal: 4m 32s\tremaining: 3m 9s\n",
            "295:\tlearn: 1.3686843\ttest: 1.5079752\tbest: 1.5078797 (292)\ttotal: 4m 33s\tremaining: 3m 8s\n",
            "296:\tlearn: 1.3684791\ttest: 1.5080074\tbest: 1.5078797 (292)\ttotal: 4m 34s\tremaining: 3m 7s\n",
            "297:\tlearn: 1.3662703\ttest: 1.5068430\tbest: 1.5068430 (297)\ttotal: 4m 35s\tremaining: 3m 6s\n",
            "298:\tlearn: 1.3656182\ttest: 1.5069418\tbest: 1.5068430 (297)\ttotal: 4m 36s\tremaining: 3m 5s\n",
            "299:\tlearn: 1.3652384\ttest: 1.5068536\tbest: 1.5068430 (297)\ttotal: 4m 37s\tremaining: 3m 4s\n",
            "300:\tlearn: 1.3651095\ttest: 1.5069236\tbest: 1.5068430 (297)\ttotal: 4m 38s\tremaining: 3m 3s\n",
            "301:\tlearn: 1.3649871\ttest: 1.5068944\tbest: 1.5068430 (297)\ttotal: 4m 38s\tremaining: 3m 2s\n",
            "302:\tlearn: 1.3633606\ttest: 1.5053911\tbest: 1.5053911 (302)\ttotal: 4m 39s\tremaining: 3m 1s\n",
            "303:\tlearn: 1.3631264\ttest: 1.5054487\tbest: 1.5053911 (302)\ttotal: 4m 40s\tremaining: 3m 1s\n",
            "304:\tlearn: 1.3630130\ttest: 1.5054834\tbest: 1.5053911 (302)\ttotal: 4m 41s\tremaining: 3m\n",
            "305:\tlearn: 1.3612924\ttest: 1.5037520\tbest: 1.5037520 (305)\ttotal: 4m 42s\tremaining: 2m 59s\n",
            "306:\tlearn: 1.3605142\ttest: 1.5037993\tbest: 1.5037520 (305)\ttotal: 4m 43s\tremaining: 2m 58s\n",
            "307:\tlearn: 1.3598434\ttest: 1.5039778\tbest: 1.5037520 (305)\ttotal: 4m 44s\tremaining: 2m 57s\n",
            "308:\tlearn: 1.3595738\ttest: 1.5041170\tbest: 1.5037520 (305)\ttotal: 4m 45s\tremaining: 2m 56s\n",
            "309:\tlearn: 1.3570631\ttest: 1.5025869\tbest: 1.5025869 (309)\ttotal: 4m 46s\tremaining: 2m 55s\n",
            "310:\tlearn: 1.3569572\ttest: 1.5025236\tbest: 1.5025236 (310)\ttotal: 4m 47s\tremaining: 2m 54s\n",
            "311:\tlearn: 1.3557353\ttest: 1.5022866\tbest: 1.5022866 (311)\ttotal: 4m 48s\tremaining: 2m 53s\n",
            "312:\tlearn: 1.3555632\ttest: 1.5023731\tbest: 1.5022866 (311)\ttotal: 4m 49s\tremaining: 2m 52s\n",
            "313:\tlearn: 1.3553267\ttest: 1.5023857\tbest: 1.5022866 (311)\ttotal: 4m 50s\tremaining: 2m 51s\n",
            "314:\tlearn: 1.3551548\ttest: 1.5023786\tbest: 1.5022866 (311)\ttotal: 4m 50s\tremaining: 2m 50s\n",
            "315:\tlearn: 1.3543979\ttest: 1.5021322\tbest: 1.5021322 (315)\ttotal: 4m 51s\tremaining: 2m 49s\n",
            "316:\tlearn: 1.3536270\ttest: 1.5021574\tbest: 1.5021322 (315)\ttotal: 4m 52s\tremaining: 2m 49s\n",
            "317:\tlearn: 1.3533971\ttest: 1.5021862\tbest: 1.5021322 (315)\ttotal: 4m 53s\tremaining: 2m 48s\n",
            "318:\tlearn: 1.3533127\ttest: 1.5021556\tbest: 1.5021322 (315)\ttotal: 4m 54s\tremaining: 2m 47s\n",
            "319:\tlearn: 1.3522722\ttest: 1.5015133\tbest: 1.5015133 (319)\ttotal: 4m 55s\tremaining: 2m 46s\n",
            "320:\tlearn: 1.3520034\ttest: 1.5016101\tbest: 1.5015133 (319)\ttotal: 4m 56s\tremaining: 2m 45s\n",
            "321:\tlearn: 1.3512920\ttest: 1.5016804\tbest: 1.5015133 (319)\ttotal: 4m 57s\tremaining: 2m 44s\n",
            "322:\tlearn: 1.3505534\ttest: 1.5016512\tbest: 1.5015133 (319)\ttotal: 4m 58s\tremaining: 2m 43s\n",
            "323:\tlearn: 1.3497445\ttest: 1.5014295\tbest: 1.5014295 (323)\ttotal: 4m 59s\tremaining: 2m 42s\n",
            "324:\tlearn: 1.3496070\ttest: 1.5014310\tbest: 1.5014295 (323)\ttotal: 5m\tremaining: 2m 41s\n",
            "325:\tlearn: 1.3492782\ttest: 1.5015638\tbest: 1.5014295 (323)\ttotal: 5m 1s\tremaining: 2m 40s\n",
            "326:\tlearn: 1.3484141\ttest: 1.5011459\tbest: 1.5011459 (326)\ttotal: 5m 2s\tremaining: 2m 39s\n",
            "327:\tlearn: 1.3482544\ttest: 1.5011316\tbest: 1.5011316 (327)\ttotal: 5m 2s\tremaining: 2m 38s\n",
            "328:\tlearn: 1.3474995\ttest: 1.5013114\tbest: 1.5011316 (327)\ttotal: 5m 3s\tremaining: 2m 37s\n",
            "329:\tlearn: 1.3453250\ttest: 1.5006568\tbest: 1.5006568 (329)\ttotal: 5m 4s\tremaining: 2m 37s\n",
            "330:\tlearn: 1.3448917\ttest: 1.5005682\tbest: 1.5005682 (330)\ttotal: 5m 5s\tremaining: 2m 36s\n",
            "331:\tlearn: 1.3443350\ttest: 1.5004391\tbest: 1.5004391 (331)\ttotal: 5m 6s\tremaining: 2m 35s\n",
            "332:\tlearn: 1.3442215\ttest: 1.5005281\tbest: 1.5004391 (331)\ttotal: 5m 7s\tremaining: 2m 34s\n",
            "333:\tlearn: 1.3440905\ttest: 1.5005094\tbest: 1.5004391 (331)\ttotal: 5m 8s\tremaining: 2m 33s\n",
            "334:\tlearn: 1.3434623\ttest: 1.5004892\tbest: 1.5004391 (331)\ttotal: 5m 9s\tremaining: 2m 32s\n",
            "335:\tlearn: 1.3432759\ttest: 1.5004670\tbest: 1.5004391 (331)\ttotal: 5m 10s\tremaining: 2m 31s\n",
            "336:\tlearn: 1.3412534\ttest: 1.4988383\tbest: 1.4988383 (336)\ttotal: 5m 11s\tremaining: 2m 30s\n",
            "337:\tlearn: 1.3411522\ttest: 1.4988526\tbest: 1.4988383 (336)\ttotal: 5m 12s\tremaining: 2m 29s\n",
            "338:\tlearn: 1.3410044\ttest: 1.4989115\tbest: 1.4988383 (336)\ttotal: 5m 13s\tremaining: 2m 28s\n",
            "339:\tlearn: 1.3409365\ttest: 1.4989557\tbest: 1.4988383 (336)\ttotal: 5m 13s\tremaining: 2m 27s\n",
            "340:\tlearn: 1.3390350\ttest: 1.4980924\tbest: 1.4980924 (340)\ttotal: 5m 14s\tremaining: 2m 26s\n",
            "341:\tlearn: 1.3387231\ttest: 1.4980717\tbest: 1.4980717 (341)\ttotal: 5m 15s\tremaining: 2m 25s\n",
            "342:\tlearn: 1.3380639\ttest: 1.4981841\tbest: 1.4980717 (341)\ttotal: 5m 16s\tremaining: 2m 24s\n",
            "343:\tlearn: 1.3378107\ttest: 1.4981895\tbest: 1.4980717 (341)\ttotal: 5m 17s\tremaining: 2m 24s\n",
            "344:\tlearn: 1.3373453\ttest: 1.4982103\tbest: 1.4980717 (341)\ttotal: 5m 18s\tremaining: 2m 23s\n",
            "345:\tlearn: 1.3372496\ttest: 1.4983317\tbest: 1.4980717 (341)\ttotal: 5m 19s\tremaining: 2m 22s\n",
            "346:\tlearn: 1.3367226\ttest: 1.4987416\tbest: 1.4980717 (341)\ttotal: 5m 20s\tremaining: 2m 21s\n",
            "347:\tlearn: 1.3366057\ttest: 1.4987185\tbest: 1.4980717 (341)\ttotal: 5m 21s\tremaining: 2m 20s\n",
            "348:\tlearn: 1.3361706\ttest: 1.4985836\tbest: 1.4980717 (341)\ttotal: 5m 21s\tremaining: 2m 19s\n",
            "349:\tlearn: 1.3359852\ttest: 1.4986330\tbest: 1.4980717 (341)\ttotal: 5m 22s\tremaining: 2m 18s\n",
            "350:\tlearn: 1.3358834\ttest: 1.4986110\tbest: 1.4980717 (341)\ttotal: 5m 23s\tremaining: 2m 17s\n",
            "351:\tlearn: 1.3355388\ttest: 1.4986437\tbest: 1.4980717 (341)\ttotal: 5m 24s\tremaining: 2m 16s\n",
            "352:\tlearn: 1.3341412\ttest: 1.4983876\tbest: 1.4980717 (341)\ttotal: 5m 25s\tremaining: 2m 15s\n",
            "353:\tlearn: 1.3339897\ttest: 1.4982904\tbest: 1.4980717 (341)\ttotal: 5m 26s\tremaining: 2m 14s\n",
            "354:\tlearn: 1.3339224\ttest: 1.4983012\tbest: 1.4980717 (341)\ttotal: 5m 27s\tremaining: 2m 13s\n",
            "355:\tlearn: 1.3328696\ttest: 1.4983066\tbest: 1.4980717 (341)\ttotal: 5m 28s\tremaining: 2m 12s\n",
            "356:\tlearn: 1.3325563\ttest: 1.4984639\tbest: 1.4980717 (341)\ttotal: 5m 29s\tremaining: 2m 11s\n",
            "357:\tlearn: 1.3309443\ttest: 1.4975942\tbest: 1.4975942 (357)\ttotal: 5m 30s\tremaining: 2m 10s\n",
            "358:\tlearn: 1.3307312\ttest: 1.4977962\tbest: 1.4975942 (357)\ttotal: 5m 31s\tremaining: 2m 10s\n",
            "359:\tlearn: 1.3290819\ttest: 1.4971193\tbest: 1.4971193 (359)\ttotal: 5m 32s\tremaining: 2m 9s\n",
            "360:\tlearn: 1.3286431\ttest: 1.4970722\tbest: 1.4970722 (360)\ttotal: 5m 32s\tremaining: 2m 8s\n",
            "361:\tlearn: 1.3264746\ttest: 1.4958617\tbest: 1.4958617 (361)\ttotal: 5m 33s\tremaining: 2m 7s\n",
            "362:\tlearn: 1.3245983\ttest: 1.4952849\tbest: 1.4952849 (362)\ttotal: 5m 34s\tremaining: 2m 6s\n",
            "363:\tlearn: 1.3244949\ttest: 1.4953557\tbest: 1.4952849 (362)\ttotal: 5m 35s\tremaining: 2m 5s\n",
            "364:\tlearn: 1.3239850\ttest: 1.4953541\tbest: 1.4952849 (362)\ttotal: 5m 36s\tremaining: 2m 4s\n",
            "365:\tlearn: 1.3238913\ttest: 1.4954099\tbest: 1.4952849 (362)\ttotal: 5m 37s\tremaining: 2m 3s\n",
            "366:\tlearn: 1.3238292\ttest: 1.4954686\tbest: 1.4952849 (362)\ttotal: 5m 38s\tremaining: 2m 2s\n",
            "367:\tlearn: 1.3237354\ttest: 1.4955324\tbest: 1.4952849 (362)\ttotal: 5m 39s\tremaining: 2m 1s\n",
            "368:\tlearn: 1.3217284\ttest: 1.4945030\tbest: 1.4945030 (368)\ttotal: 5m 40s\tremaining: 2m\n",
            "369:\tlearn: 1.3208920\ttest: 1.4946874\tbest: 1.4945030 (368)\ttotal: 5m 41s\tremaining: 1m 59s\n",
            "370:\tlearn: 1.3204735\ttest: 1.4946509\tbest: 1.4945030 (368)\ttotal: 5m 42s\tremaining: 1m 59s\n",
            "371:\tlearn: 1.3203383\ttest: 1.4946779\tbest: 1.4945030 (368)\ttotal: 5m 43s\tremaining: 1m 58s\n",
            "372:\tlearn: 1.3196426\ttest: 1.4946162\tbest: 1.4945030 (368)\ttotal: 5m 44s\tremaining: 1m 57s\n",
            "373:\tlearn: 1.3194399\ttest: 1.4944646\tbest: 1.4944646 (373)\ttotal: 5m 44s\tremaining: 1m 56s\n",
            "374:\tlearn: 1.3193565\ttest: 1.4945315\tbest: 1.4944646 (373)\ttotal: 5m 45s\tremaining: 1m 55s\n",
            "375:\tlearn: 1.3193031\ttest: 1.4945330\tbest: 1.4944646 (373)\ttotal: 5m 46s\tremaining: 1m 54s\n",
            "376:\tlearn: 1.3187266\ttest: 1.4946758\tbest: 1.4944646 (373)\ttotal: 5m 47s\tremaining: 1m 53s\n",
            "377:\tlearn: 1.3178911\ttest: 1.4948202\tbest: 1.4944646 (373)\ttotal: 5m 48s\tremaining: 1m 52s\n",
            "378:\tlearn: 1.3177085\ttest: 1.4948349\tbest: 1.4944646 (373)\ttotal: 5m 49s\tremaining: 1m 51s\n",
            "379:\tlearn: 1.3176334\ttest: 1.4949229\tbest: 1.4944646 (373)\ttotal: 5m 50s\tremaining: 1m 50s\n",
            "380:\tlearn: 1.3175628\ttest: 1.4949873\tbest: 1.4944646 (373)\ttotal: 5m 51s\tremaining: 1m 49s\n",
            "381:\tlearn: 1.3173776\ttest: 1.4950311\tbest: 1.4944646 (373)\ttotal: 5m 52s\tremaining: 1m 48s\n",
            "382:\tlearn: 1.3170138\ttest: 1.4947240\tbest: 1.4944646 (373)\ttotal: 5m 53s\tremaining: 1m 47s\n",
            "383:\tlearn: 1.3169421\ttest: 1.4947239\tbest: 1.4944646 (373)\ttotal: 5m 53s\tremaining: 1m 46s\n",
            "384:\tlearn: 1.3168404\ttest: 1.4946996\tbest: 1.4944646 (373)\ttotal: 5m 54s\tremaining: 1m 46s\n",
            "385:\tlearn: 1.3167511\ttest: 1.4947666\tbest: 1.4944646 (373)\ttotal: 5m 55s\tremaining: 1m 45s\n",
            "386:\tlearn: 1.3165909\ttest: 1.4948241\tbest: 1.4944646 (373)\ttotal: 5m 56s\tremaining: 1m 44s\n",
            "387:\tlearn: 1.3158625\ttest: 1.4949151\tbest: 1.4944646 (373)\ttotal: 5m 57s\tremaining: 1m 43s\n",
            "388:\tlearn: 1.3155457\ttest: 1.4950444\tbest: 1.4944646 (373)\ttotal: 5m 58s\tremaining: 1m 42s\n",
            "389:\tlearn: 1.3154597\ttest: 1.4951295\tbest: 1.4944646 (373)\ttotal: 5m 59s\tremaining: 1m 41s\n",
            "390:\tlearn: 1.3146727\ttest: 1.4949745\tbest: 1.4944646 (373)\ttotal: 6m\tremaining: 1m 40s\n",
            "391:\tlearn: 1.3145227\ttest: 1.4950554\tbest: 1.4944646 (373)\ttotal: 6m 1s\tremaining: 1m 39s\n",
            "392:\tlearn: 1.3129980\ttest: 1.4947586\tbest: 1.4944646 (373)\ttotal: 6m 2s\tremaining: 1m 38s\n",
            "393:\tlearn: 1.3129186\ttest: 1.4948423\tbest: 1.4944646 (373)\ttotal: 6m 3s\tremaining: 1m 37s\n",
            "394:\tlearn: 1.3124116\ttest: 1.4948198\tbest: 1.4944646 (373)\ttotal: 6m 4s\tremaining: 1m 36s\n",
            "395:\tlearn: 1.3121633\ttest: 1.4946434\tbest: 1.4944646 (373)\ttotal: 6m 4s\tremaining: 1m 35s\n",
            "396:\tlearn: 1.3120131\ttest: 1.4946673\tbest: 1.4944646 (373)\ttotal: 6m 5s\tremaining: 1m 34s\n",
            "397:\tlearn: 1.3117796\ttest: 1.4945417\tbest: 1.4944646 (373)\ttotal: 6m 6s\tremaining: 1m 33s\n",
            "398:\tlearn: 1.3116131\ttest: 1.4944807\tbest: 1.4944646 (373)\ttotal: 6m 7s\tremaining: 1m 33s\n",
            "399:\tlearn: 1.3114853\ttest: 1.4945217\tbest: 1.4944646 (373)\ttotal: 6m 8s\tremaining: 1m 32s\n",
            "400:\tlearn: 1.3114216\ttest: 1.4944993\tbest: 1.4944646 (373)\ttotal: 6m 9s\tremaining: 1m 31s\n",
            "401:\tlearn: 1.3105131\ttest: 1.4945216\tbest: 1.4944646 (373)\ttotal: 6m 10s\tremaining: 1m 30s\n",
            "402:\tlearn: 1.3102451\ttest: 1.4946027\tbest: 1.4944646 (373)\ttotal: 6m 11s\tremaining: 1m 29s\n",
            "403:\tlearn: 1.3097912\ttest: 1.4946607\tbest: 1.4944646 (373)\ttotal: 6m 12s\tremaining: 1m 28s\n",
            "404:\tlearn: 1.3096815\ttest: 1.4946974\tbest: 1.4944646 (373)\ttotal: 6m 13s\tremaining: 1m 27s\n",
            "405:\tlearn: 1.3087330\ttest: 1.4942224\tbest: 1.4942224 (405)\ttotal: 6m 14s\tremaining: 1m 26s\n",
            "406:\tlearn: 1.3083992\ttest: 1.4941035\tbest: 1.4941035 (406)\ttotal: 6m 14s\tremaining: 1m 25s\n",
            "407:\tlearn: 1.3067747\ttest: 1.4937309\tbest: 1.4937309 (407)\ttotal: 6m 15s\tremaining: 1m 24s\n",
            "408:\tlearn: 1.3060132\ttest: 1.4934387\tbest: 1.4934387 (408)\ttotal: 6m 16s\tremaining: 1m 23s\n",
            "409:\tlearn: 1.3058572\ttest: 1.4934890\tbest: 1.4934387 (408)\ttotal: 6m 17s\tremaining: 1m 22s\n",
            "410:\tlearn: 1.3044224\ttest: 1.4930873\tbest: 1.4930873 (410)\ttotal: 6m 18s\tremaining: 1m 22s\n",
            "411:\tlearn: 1.3039676\ttest: 1.4932097\tbest: 1.4930873 (410)\ttotal: 6m 19s\tremaining: 1m 21s\n",
            "412:\tlearn: 1.3028965\ttest: 1.4931811\tbest: 1.4930873 (410)\ttotal: 6m 20s\tremaining: 1m 20s\n",
            "413:\tlearn: 1.3025972\ttest: 1.4932822\tbest: 1.4930873 (410)\ttotal: 6m 21s\tremaining: 1m 19s\n",
            "414:\tlearn: 1.3021515\ttest: 1.4930240\tbest: 1.4930240 (414)\ttotal: 6m 22s\tremaining: 1m 18s\n",
            "415:\tlearn: 1.3017833\ttest: 1.4930721\tbest: 1.4930240 (414)\ttotal: 6m 23s\tremaining: 1m 17s\n",
            "416:\tlearn: 1.3014231\ttest: 1.4929975\tbest: 1.4929975 (416)\ttotal: 6m 24s\tremaining: 1m 16s\n",
            "417:\tlearn: 1.3012572\ttest: 1.4930337\tbest: 1.4929975 (416)\ttotal: 6m 25s\tremaining: 1m 15s\n",
            "418:\tlearn: 1.3007990\ttest: 1.4929040\tbest: 1.4929040 (418)\ttotal: 6m 26s\tremaining: 1m 14s\n",
            "419:\tlearn: 1.3006071\ttest: 1.4929474\tbest: 1.4929040 (418)\ttotal: 6m 26s\tremaining: 1m 13s\n",
            "420:\tlearn: 1.3005299\ttest: 1.4929286\tbest: 1.4929040 (418)\ttotal: 6m 27s\tremaining: 1m 12s\n",
            "421:\tlearn: 1.3003341\ttest: 1.4929558\tbest: 1.4929040 (418)\ttotal: 6m 28s\tremaining: 1m 11s\n",
            "422:\tlearn: 1.2994462\ttest: 1.4931299\tbest: 1.4929040 (418)\ttotal: 6m 29s\tremaining: 1m 10s\n",
            "423:\tlearn: 1.2990487\ttest: 1.4932099\tbest: 1.4929040 (418)\ttotal: 6m 30s\tremaining: 1m 10s\n",
            "424:\tlearn: 1.2984751\ttest: 1.4931296\tbest: 1.4929040 (418)\ttotal: 6m 31s\tremaining: 1m 9s\n",
            "425:\tlearn: 1.2979214\ttest: 1.4934828\tbest: 1.4929040 (418)\ttotal: 6m 32s\tremaining: 1m 8s\n",
            "426:\tlearn: 1.2978043\ttest: 1.4935598\tbest: 1.4929040 (418)\ttotal: 6m 33s\tremaining: 1m 7s\n",
            "427:\tlearn: 1.2977485\ttest: 1.4935716\tbest: 1.4929040 (418)\ttotal: 6m 34s\tremaining: 1m 6s\n",
            "428:\tlearn: 1.2972711\ttest: 1.4935217\tbest: 1.4929040 (418)\ttotal: 6m 35s\tremaining: 1m 5s\n",
            "429:\tlearn: 1.2970175\ttest: 1.4935748\tbest: 1.4929040 (418)\ttotal: 6m 36s\tremaining: 1m 4s\n",
            "430:\tlearn: 1.2968883\ttest: 1.4935575\tbest: 1.4929040 (418)\ttotal: 6m 36s\tremaining: 1m 3s\n",
            "431:\tlearn: 1.2965638\ttest: 1.4935644\tbest: 1.4929040 (418)\ttotal: 6m 37s\tremaining: 1m 2s\n",
            "432:\tlearn: 1.2964415\ttest: 1.4935415\tbest: 1.4929040 (418)\ttotal: 6m 38s\tremaining: 1m 1s\n",
            "433:\tlearn: 1.2963941\ttest: 1.4935415\tbest: 1.4929040 (418)\ttotal: 6m 39s\tremaining: 1m\n",
            "434:\tlearn: 1.2955201\ttest: 1.4933145\tbest: 1.4929040 (418)\ttotal: 6m 40s\tremaining: 59.9s\n",
            "435:\tlearn: 1.2949092\ttest: 1.4930937\tbest: 1.4929040 (418)\ttotal: 6m 41s\tremaining: 58.9s\n",
            "436:\tlearn: 1.2947019\ttest: 1.4930114\tbest: 1.4929040 (418)\ttotal: 6m 42s\tremaining: 58s\n",
            "437:\tlearn: 1.2944129\ttest: 1.4930442\tbest: 1.4929040 (418)\ttotal: 6m 43s\tremaining: 57.1s\n",
            "438:\tlearn: 1.2938911\ttest: 1.4932224\tbest: 1.4929040 (418)\ttotal: 6m 44s\tremaining: 56.2s\n",
            "439:\tlearn: 1.2935695\ttest: 1.4932199\tbest: 1.4929040 (418)\ttotal: 6m 45s\tremaining: 55.3s\n",
            "440:\tlearn: 1.2931132\ttest: 1.4931722\tbest: 1.4929040 (418)\ttotal: 6m 46s\tremaining: 54.3s\n",
            "441:\tlearn: 1.2926584\ttest: 1.4930083\tbest: 1.4929040 (418)\ttotal: 6m 47s\tremaining: 53.4s\n",
            "442:\tlearn: 1.2919726\ttest: 1.4929179\tbest: 1.4929040 (418)\ttotal: 6m 47s\tremaining: 52.5s\n",
            "443:\tlearn: 1.2904171\ttest: 1.4926726\tbest: 1.4926726 (443)\ttotal: 6m 49s\tremaining: 51.6s\n",
            "444:\tlearn: 1.2884687\ttest: 1.4922284\tbest: 1.4922284 (444)\ttotal: 6m 50s\tremaining: 50.7s\n",
            "445:\tlearn: 1.2878645\ttest: 1.4922686\tbest: 1.4922284 (444)\ttotal: 6m 50s\tremaining: 49.8s\n",
            "446:\tlearn: 1.2877761\ttest: 1.4922977\tbest: 1.4922284 (444)\ttotal: 6m 51s\tremaining: 48.8s\n",
            "447:\tlearn: 1.2872345\ttest: 1.4922162\tbest: 1.4922162 (447)\ttotal: 6m 52s\tremaining: 47.9s\n",
            "448:\tlearn: 1.2871921\ttest: 1.4922062\tbest: 1.4922062 (448)\ttotal: 6m 53s\tremaining: 47s\n",
            "449:\tlearn: 1.2864045\ttest: 1.4920421\tbest: 1.4920421 (449)\ttotal: 6m 54s\tremaining: 46.1s\n",
            "450:\tlearn: 1.2862367\ttest: 1.4920401\tbest: 1.4920401 (450)\ttotal: 6m 55s\tremaining: 45.1s\n",
            "451:\tlearn: 1.2861324\ttest: 1.4920558\tbest: 1.4920401 (450)\ttotal: 6m 56s\tremaining: 44.2s\n",
            "452:\tlearn: 1.2859420\ttest: 1.4920487\tbest: 1.4920401 (450)\ttotal: 6m 57s\tremaining: 43.3s\n",
            "453:\tlearn: 1.2857107\ttest: 1.4918412\tbest: 1.4918412 (453)\ttotal: 6m 58s\tremaining: 42.4s\n",
            "454:\tlearn: 1.2855133\ttest: 1.4917418\tbest: 1.4917418 (454)\ttotal: 6m 58s\tremaining: 41.4s\n",
            "455:\tlearn: 1.2851011\ttest: 1.4918526\tbest: 1.4917418 (454)\ttotal: 6m 59s\tremaining: 40.5s\n",
            "456:\tlearn: 1.2850029\ttest: 1.4918503\tbest: 1.4917418 (454)\ttotal: 7m\tremaining: 39.6s\n",
            "457:\tlearn: 1.2848559\ttest: 1.4918342\tbest: 1.4917418 (454)\ttotal: 7m 1s\tremaining: 38.7s\n",
            "458:\tlearn: 1.2845378\ttest: 1.4918669\tbest: 1.4917418 (454)\ttotal: 7m 2s\tremaining: 37.8s\n",
            "459:\tlearn: 1.2843317\ttest: 1.4921008\tbest: 1.4917418 (454)\ttotal: 7m 3s\tremaining: 36.8s\n",
            "460:\tlearn: 1.2832637\ttest: 1.4919639\tbest: 1.4917418 (454)\ttotal: 7m 4s\tremaining: 35.9s\n",
            "461:\tlearn: 1.2827232\ttest: 1.4919465\tbest: 1.4917418 (454)\ttotal: 7m 5s\tremaining: 35s\n",
            "462:\tlearn: 1.2826254\ttest: 1.4919542\tbest: 1.4917418 (454)\ttotal: 7m 6s\tremaining: 34.1s\n",
            "463:\tlearn: 1.2822004\ttest: 1.4921704\tbest: 1.4917418 (454)\ttotal: 7m 7s\tremaining: 33.1s\n",
            "464:\tlearn: 1.2807216\ttest: 1.4914140\tbest: 1.4914140 (464)\ttotal: 7m 8s\tremaining: 32.2s\n",
            "465:\tlearn: 1.2806501\ttest: 1.4914790\tbest: 1.4914140 (464)\ttotal: 7m 9s\tremaining: 31.3s\n",
            "466:\tlearn: 1.2801748\ttest: 1.4914827\tbest: 1.4914140 (464)\ttotal: 7m 10s\tremaining: 30.4s\n",
            "467:\tlearn: 1.2800441\ttest: 1.4913869\tbest: 1.4913869 (467)\ttotal: 7m 10s\tremaining: 29.5s\n",
            "468:\tlearn: 1.2799742\ttest: 1.4914372\tbest: 1.4913869 (467)\ttotal: 7m 11s\tremaining: 28.5s\n",
            "469:\tlearn: 1.2795906\ttest: 1.4912638\tbest: 1.4912638 (469)\ttotal: 7m 12s\tremaining: 27.6s\n",
            "470:\tlearn: 1.2795036\ttest: 1.4912894\tbest: 1.4912638 (469)\ttotal: 7m 13s\tremaining: 26.7s\n",
            "471:\tlearn: 1.2790458\ttest: 1.4912360\tbest: 1.4912360 (471)\ttotal: 7m 14s\tremaining: 25.8s\n",
            "472:\tlearn: 1.2790044\ttest: 1.4911900\tbest: 1.4911900 (472)\ttotal: 7m 15s\tremaining: 24.9s\n",
            "473:\tlearn: 1.2776974\ttest: 1.4906280\tbest: 1.4906280 (473)\ttotal: 7m 16s\tremaining: 23.9s\n",
            "474:\tlearn: 1.2768040\ttest: 1.4906816\tbest: 1.4906280 (473)\ttotal: 7m 17s\tremaining: 23s\n",
            "475:\tlearn: 1.2766909\ttest: 1.4906598\tbest: 1.4906280 (473)\ttotal: 7m 18s\tremaining: 22.1s\n",
            "476:\tlearn: 1.2758226\ttest: 1.4905377\tbest: 1.4905377 (476)\ttotal: 7m 19s\tremaining: 21.2s\n",
            "477:\tlearn: 1.2755396\ttest: 1.4907028\tbest: 1.4905377 (476)\ttotal: 7m 20s\tremaining: 20.3s\n",
            "478:\tlearn: 1.2749379\ttest: 1.4910163\tbest: 1.4905377 (476)\ttotal: 7m 21s\tremaining: 19.3s\n",
            "479:\tlearn: 1.2746467\ttest: 1.4910548\tbest: 1.4905377 (476)\ttotal: 7m 22s\tremaining: 18.4s\n",
            "480:\tlearn: 1.2745437\ttest: 1.4911518\tbest: 1.4905377 (476)\ttotal: 7m 23s\tremaining: 17.5s\n",
            "481:\tlearn: 1.2744579\ttest: 1.4910980\tbest: 1.4905377 (476)\ttotal: 7m 23s\tremaining: 16.6s\n",
            "482:\tlearn: 1.2736772\ttest: 1.4907360\tbest: 1.4905377 (476)\ttotal: 7m 24s\tremaining: 15.7s\n",
            "483:\tlearn: 1.2734018\ttest: 1.4907013\tbest: 1.4905377 (476)\ttotal: 7m 25s\tremaining: 14.7s\n",
            "484:\tlearn: 1.2727370\ttest: 1.4907841\tbest: 1.4905377 (476)\ttotal: 7m 26s\tremaining: 13.8s\n",
            "485:\tlearn: 1.2714652\ttest: 1.4902764\tbest: 1.4902764 (485)\ttotal: 7m 27s\tremaining: 12.9s\n",
            "486:\tlearn: 1.2711952\ttest: 1.4902640\tbest: 1.4902640 (486)\ttotal: 7m 28s\tremaining: 12s\n",
            "487:\tlearn: 1.2710347\ttest: 1.4902581\tbest: 1.4902581 (487)\ttotal: 7m 29s\tremaining: 11.1s\n",
            "488:\tlearn: 1.2700735\ttest: 1.4901216\tbest: 1.4901216 (488)\ttotal: 7m 30s\tremaining: 10.1s\n",
            "489:\tlearn: 1.2699946\ttest: 1.4901602\tbest: 1.4901216 (488)\ttotal: 7m 31s\tremaining: 9.21s\n",
            "490:\tlearn: 1.2695033\ttest: 1.4901138\tbest: 1.4901138 (490)\ttotal: 7m 32s\tremaining: 8.29s\n",
            "491:\tlearn: 1.2684669\ttest: 1.4897520\tbest: 1.4897520 (491)\ttotal: 7m 33s\tremaining: 7.37s\n",
            "492:\tlearn: 1.2684085\ttest: 1.4897330\tbest: 1.4897330 (492)\ttotal: 7m 34s\tremaining: 6.45s\n",
            "493:\tlearn: 1.2681750\ttest: 1.4897147\tbest: 1.4897147 (493)\ttotal: 7m 35s\tremaining: 5.53s\n",
            "494:\tlearn: 1.2678694\ttest: 1.4897019\tbest: 1.4897019 (494)\ttotal: 7m 36s\tremaining: 4.61s\n",
            "495:\tlearn: 1.2665279\ttest: 1.4892727\tbest: 1.4892727 (495)\ttotal: 7m 37s\tremaining: 3.69s\n",
            "496:\tlearn: 1.2661023\ttest: 1.4891905\tbest: 1.4891905 (496)\ttotal: 7m 38s\tremaining: 2.76s\n",
            "497:\tlearn: 1.2659519\ttest: 1.4892655\tbest: 1.4891905 (496)\ttotal: 7m 38s\tremaining: 1.84s\n",
            "498:\tlearn: 1.2654062\ttest: 1.4889563\tbest: 1.4889563 (498)\ttotal: 7m 39s\tremaining: 922ms\n",
            "499:\tlearn: 1.2653506\ttest: 1.4889562\tbest: 1.4889562 (499)\ttotal: 7m 40s\tremaining: 0us\n",
            "\n",
            "bestTest = 1.488956239\n",
            "bestIteration = 499\n",
            "\n"
          ],
          "name": "stdout"
        }
      ]
    },
    {
      "metadata": {
        "id": "ls5k1JtadaKc",
        "colab_type": "code",
        "colab": {}
      },
      "cell_type": "code",
      "source": [
        "cb_predy=np.expm1(cb_model.predict(Xt))"
      ],
      "execution_count": 0,
      "outputs": []
    },
    {
      "metadata": {
        "id": "lKPnTA7wHvi7",
        "colab_type": "text"
      },
      "cell_type": "markdown",
      "source": [
        "### Combining Results"
      ]
    },
    {
      "metadata": {
        "id": "37PCBjHYHyeT",
        "colab_type": "code",
        "colab": {
          "base_uri": "https://localhost:8080/",
          "height": 34
        },
        "outputId": "a43daca4-da71-483b-dbf9-528f350c0702"
      },
      "cell_type": "code",
      "source": [
        "len(cb_predy),len(lgb_predy),len(xgb_predy)"
      ],
      "execution_count": 13,
      "outputs": [
        {
          "output_type": "execute_result",
          "data": {
            "text/plain": [
              "(49342, 49342, 49342)"
            ]
          },
          "metadata": {
            "tags": []
          },
          "execution_count": 13
        }
      ]
    },
    {
      "metadata": {
        "id": "UjQAhODLJSKQ",
        "colab_type": "code",
        "colab": {
          "base_uri": "https://localhost:8080/",
          "height": 204
        },
        "outputId": "95eb4947-ae9b-4ed5-dfdb-383c4e7b5cef"
      },
      "cell_type": "code",
      "source": [
        "sample.head()"
      ],
      "execution_count": 11,
      "outputs": [
        {
          "output_type": "execute_result",
          "data": {
            "text/html": [
              "<div>\n",
              "<style scoped>\n",
              "    .dataframe tbody tr th:only-of-type {\n",
              "        vertical-align: middle;\n",
              "    }\n",
              "\n",
              "    .dataframe tbody tr th {\n",
              "        vertical-align: top;\n",
              "    }\n",
              "\n",
              "    .dataframe thead th {\n",
              "        text-align: right;\n",
              "    }\n",
              "</style>\n",
              "<table border=\"1\" class=\"dataframe\">\n",
              "  <thead>\n",
              "    <tr style=\"text-align: right;\">\n",
              "      <th></th>\n",
              "      <th>ID</th>\n",
              "      <th>target</th>\n",
              "    </tr>\n",
              "  </thead>\n",
              "  <tbody>\n",
              "    <tr>\n",
              "      <th>0</th>\n",
              "      <td>000137c73</td>\n",
              "      <td>5.944923e+06</td>\n",
              "    </tr>\n",
              "    <tr>\n",
              "      <th>1</th>\n",
              "      <td>00021489f</td>\n",
              "      <td>5.944923e+06</td>\n",
              "    </tr>\n",
              "    <tr>\n",
              "      <th>2</th>\n",
              "      <td>0004d7953</td>\n",
              "      <td>5.944923e+06</td>\n",
              "    </tr>\n",
              "    <tr>\n",
              "      <th>3</th>\n",
              "      <td>00056a333</td>\n",
              "      <td>5.944923e+06</td>\n",
              "    </tr>\n",
              "    <tr>\n",
              "      <th>4</th>\n",
              "      <td>00056d8eb</td>\n",
              "      <td>5.944923e+06</td>\n",
              "    </tr>\n",
              "  </tbody>\n",
              "</table>\n",
              "</div>"
            ],
            "text/plain": [
              "          ID        target\n",
              "0  000137c73  5.944923e+06\n",
              "1  00021489f  5.944923e+06\n",
              "2  0004d7953  5.944923e+06\n",
              "3  00056a333  5.944923e+06\n",
              "4  00056d8eb  5.944923e+06"
            ]
          },
          "metadata": {
            "tags": []
          },
          "execution_count": 11
        }
      ]
    },
    {
      "metadata": {
        "id": "-bEgrxBrJe_0",
        "colab_type": "code",
        "colab": {}
      },
      "cell_type": "code",
      "source": [
        "sub = pd.DataFrame(columns=['ID','target'])\n",
        "sub['ID']=test.ID\n",
        "sub['target']=(cb_predy*0.4)+(lgb_predy*0.3)+(xgb_predy*0.3)"
      ],
      "execution_count": 0,
      "outputs": []
    },
    {
      "metadata": {
        "id": "vqsiMmdnd6I1",
        "colab_type": "code",
        "colab": {
          "base_uri": "https://localhost:8080/",
          "height": 204
        },
        "outputId": "fa716fdd-d41f-4ebf-ae33-1ba5619dd44d"
      },
      "cell_type": "code",
      "source": [
        "sub.head()"
      ],
      "execution_count": 17,
      "outputs": [
        {
          "output_type": "execute_result",
          "data": {
            "text/html": [
              "<div>\n",
              "<style scoped>\n",
              "    .dataframe tbody tr th:only-of-type {\n",
              "        vertical-align: middle;\n",
              "    }\n",
              "\n",
              "    .dataframe tbody tr th {\n",
              "        vertical-align: top;\n",
              "    }\n",
              "\n",
              "    .dataframe thead th {\n",
              "        text-align: right;\n",
              "    }\n",
              "</style>\n",
              "<table border=\"1\" class=\"dataframe\">\n",
              "  <thead>\n",
              "    <tr style=\"text-align: right;\">\n",
              "      <th></th>\n",
              "      <th>ID</th>\n",
              "      <th>target</th>\n",
              "    </tr>\n",
              "  </thead>\n",
              "  <tbody>\n",
              "    <tr>\n",
              "      <th>0</th>\n",
              "      <td>000137c73</td>\n",
              "      <td>9.961560e+05</td>\n",
              "    </tr>\n",
              "    <tr>\n",
              "      <th>1</th>\n",
              "      <td>00021489f</td>\n",
              "      <td>1.302391e+06</td>\n",
              "    </tr>\n",
              "    <tr>\n",
              "      <th>2</th>\n",
              "      <td>0004d7953</td>\n",
              "      <td>1.354613e+06</td>\n",
              "    </tr>\n",
              "    <tr>\n",
              "      <th>3</th>\n",
              "      <td>00056a333</td>\n",
              "      <td>3.440653e+06</td>\n",
              "    </tr>\n",
              "    <tr>\n",
              "      <th>4</th>\n",
              "      <td>00056d8eb</td>\n",
              "      <td>1.270674e+06</td>\n",
              "    </tr>\n",
              "  </tbody>\n",
              "</table>\n",
              "</div>"
            ],
            "text/plain": [
              "          ID        target\n",
              "0  000137c73  9.961560e+05\n",
              "1  00021489f  1.302391e+06\n",
              "2  0004d7953  1.354613e+06\n",
              "3  00056a333  3.440653e+06\n",
              "4  00056d8eb  1.270674e+06"
            ]
          },
          "metadata": {
            "tags": []
          },
          "execution_count": 17
        }
      ]
    },
    {
      "metadata": {
        "id": "M_jrRlQleH0a",
        "colab_type": "code",
        "colab": {}
      },
      "cell_type": "code",
      "source": [
        "sub.to_csv('submission1.csv',index=False)"
      ],
      "execution_count": 0,
      "outputs": []
    },
    {
      "metadata": {
        "id": "HCL9AvUpeMTW",
        "colab_type": "code",
        "colab": {}
      },
      "cell_type": "code",
      "source": [
        "from google.colab import files\n",
        "files.download('submission1.csv')\n",
        "                                  "
      ],
      "execution_count": 0,
      "outputs": []
    },
    {
      "metadata": {
        "id": "F-LSBsape5IG",
        "colab_type": "code",
        "colab": {}
      },
      "cell_type": "code",
      "source": [
        ""
      ],
      "execution_count": 0,
      "outputs": []
    }
  ]
}