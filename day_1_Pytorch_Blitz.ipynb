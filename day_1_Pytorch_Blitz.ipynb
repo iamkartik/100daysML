{
  "nbformat": 4,
  "nbformat_minor": 0,
  "metadata": {
    "colab": {
      "name": "Pytorch Blitz.ipynb",
      "version": "0.3.2",
      "provenance": [],
      "collapsed_sections": [
        "L6X0ycZ_QXJJ",
        "s_CpD0gqRSeQ",
        "oSn0U44IVc8_",
        "wzsWm483X5kz",
        "H7_OY7Z8YaH9",
        "Lya5zHm-Y8Va",
        "BaIWGewpaSem",
        "DHr7yH-alvCl",
        "rVDK6CFDfVTF"
      ]
    },
    "kernelspec": {
      "name": "python3",
      "display_name": "Python 3"
    },
    "accelerator": "GPU"
  },
  "cells": [
    {
      "metadata": {
        "id": "u-YJ9xRI-pJ9",
        "colab_type": "code",
        "colab": {
          "base_uri": "https://localhost:8080/",
          "height": 102
        },
        "outputId": "677b28cc-f587-4972-e783-1fe8f28edfb6"
      },
      "cell_type": "code",
      "source": [
        "! pip3 install torch torchvision"
      ],
      "execution_count": 94,
      "outputs": [
        {
          "output_type": "stream",
          "text": [
            "Requirement already satisfied: torch in /usr/local/lib/python3.6/dist-packages (0.4.1)\r\n",
            "Requirement already satisfied: torchvision in /usr/local/lib/python3.6/dist-packages (0.2.1)\r\n",
            "Requirement already satisfied: numpy in /usr/local/lib/python3.6/dist-packages (from torchvision) (1.14.5)\r\n",
            "Requirement already satisfied: pillow>=4.1.1 in /usr/local/lib/python3.6/dist-packages (from torchvision) (5.2.0)\r\n",
            "Requirement already satisfied: six in /usr/local/lib/python3.6/dist-packages (from torchvision) (1.11.0)\r\n"
          ],
          "name": "stdout"
        }
      ]
    },
    {
      "metadata": {
        "id": "L6X0ycZ_QXJJ",
        "colab_type": "text"
      },
      "cell_type": "markdown",
      "source": [
        "## What is pytorch ?\n",
        "\n",
        "A replacement to  Numpy to enable the use of GPU's\n",
        "\n",
        "A deep learning platform that provides max flexibility and speed"
      ]
    },
    {
      "metadata": {
        "id": "s_CpD0gqRSeQ",
        "colab_type": "text"
      },
      "cell_type": "markdown",
      "source": [
        "### Tensors \n",
        "\n",
        "Tensors are similar to numpy arays , with the addition being that tensors can also be used on a GPU to accelerate things "
      ]
    },
    {
      "metadata": {
        "id": "f8xlI8FjRg0c",
        "colab_type": "code",
        "colab": {}
      },
      "cell_type": "code",
      "source": [
        "import torch "
      ],
      "execution_count": 0,
      "outputs": []
    },
    {
      "metadata": {
        "id": "UoZjfNsQRIOM",
        "colab_type": "text"
      },
      "cell_type": "markdown",
      "source": [
        "initializing matrices "
      ]
    },
    {
      "metadata": {
        "id": "y8oD53QhRDsq",
        "colab_type": "code",
        "colab": {
          "base_uri": "https://localhost:8080/",
          "height": 102
        },
        "outputId": "7f8ebf99-b5fd-48ae-8102-d1e18c493e1c"
      },
      "cell_type": "code",
      "source": [
        "x = torch.empty(5,3)\n",
        "print(x)"
      ],
      "execution_count": 6,
      "outputs": [
        {
          "output_type": "stream",
          "text": [
            "tensor([[2.8932e-36, 0.0000e+00, 4.4842e-44],\n",
            "        [0.0000e+00,        nan, 0.0000e+00],\n",
            "        [1.6926e+22, 1.7089e-04, 1.1050e-05],\n",
            "        [1.3343e-08, 4.1069e-08, 1.3120e-08],\n",
            "        [2.6562e+20, 2.7179e-06, 3.9302e-14]])\n"
          ],
          "name": "stdout"
        }
      ]
    },
    {
      "metadata": {
        "id": "iVJ0zZhETR7D",
        "colab_type": "code",
        "colab": {
          "base_uri": "https://localhost:8080/",
          "height": 102
        },
        "outputId": "a0b38caf-8ac7-4431-a071-27089415f8cd"
      },
      "cell_type": "code",
      "source": [
        "x = torch.rand(5,3)\n",
        "print(x)"
      ],
      "execution_count": 7,
      "outputs": [
        {
          "output_type": "stream",
          "text": [
            "tensor([[0.6064, 0.1594, 0.8988],\n",
            "        [0.2062, 0.8396, 0.1803],\n",
            "        [0.3149, 0.0007, 0.4332],\n",
            "        [0.0504, 0.0251, 0.9238],\n",
            "        [0.5333, 0.7321, 0.6618]])\n"
          ],
          "name": "stdout"
        }
      ]
    },
    {
      "metadata": {
        "id": "MuMB-rnMTgcy",
        "colab_type": "code",
        "colab": {
          "base_uri": "https://localhost:8080/",
          "height": 102
        },
        "outputId": "fc6515e2-fd3c-44ea-dfbb-6b15881d702f"
      },
      "cell_type": "code",
      "source": [
        "# matrix of zeros and dtype long\n",
        "x = torch.zeros(5,3,dtype=torch.long)\n",
        "print(x)"
      ],
      "execution_count": 8,
      "outputs": [
        {
          "output_type": "stream",
          "text": [
            "tensor([[0, 0, 0],\n",
            "        [0, 0, 0],\n",
            "        [0, 0, 0],\n",
            "        [0, 0, 0],\n",
            "        [0, 0, 0]])\n"
          ],
          "name": "stdout"
        }
      ]
    },
    {
      "metadata": {
        "id": "r_L-rRpuTzBj",
        "colab_type": "code",
        "colab": {
          "base_uri": "https://localhost:8080/",
          "height": 34
        },
        "outputId": "3a7c65f6-3a43-4886-bb23-41b5acbf1cff"
      },
      "cell_type": "code",
      "source": [
        "# Tensor directly from data\n",
        "x = torch.tensor([2.71,3.14])\n",
        "print(x)"
      ],
      "execution_count": 10,
      "outputs": [
        {
          "output_type": "stream",
          "text": [
            "tensor([2.7100, 3.1400])\n"
          ],
          "name": "stdout"
        }
      ]
    },
    {
      "metadata": {
        "id": "zVtICdArT9bl",
        "colab_type": "code",
        "colab": {
          "base_uri": "https://localhost:8080/",
          "height": 187
        },
        "outputId": "4ae7816c-af70-4b68-d48f-bd3117e12fd8"
      },
      "cell_type": "code",
      "source": [
        "# Tensor based on existing tensor , \n",
        "# default dtype will be of original tensor unless specified\n",
        "\n",
        "# new_* method take in sizes\n",
        "x = x.new_ones(5,3,dtype=torch.long)\n",
        "print(x)\n",
        "\n",
        "# rand_like returns a tensor with the same size as argument \n",
        "# numbers b/w [0,1] \n",
        "y = torch.rand_like(x,dtype=torch.float)\n",
        "print(y)"
      ],
      "execution_count": 15,
      "outputs": [
        {
          "output_type": "stream",
          "text": [
            "tensor([[1, 1, 1],\n",
            "        [1, 1, 1],\n",
            "        [1, 1, 1],\n",
            "        [1, 1, 1],\n",
            "        [1, 1, 1]])\n",
            "tensor([[0.4342, 0.0408, 0.9736],\n",
            "        [0.0195, 0.3301, 0.1981],\n",
            "        [0.6793, 0.5342, 0.3215],\n",
            "        [0.6915, 0.4732, 0.1329],\n",
            "        [0.5752, 0.3141, 0.9770]])\n"
          ],
          "name": "stdout"
        }
      ]
    },
    {
      "metadata": {
        "id": "d88gE7CqUi_H",
        "colab_type": "code",
        "colab": {
          "base_uri": "https://localhost:8080/",
          "height": 34
        },
        "outputId": "5f47b98c-bf28-42e6-b180-b7aaadfe90dc"
      },
      "cell_type": "code",
      "source": [
        "# Size of the matrix\n",
        "print(x.size())"
      ],
      "execution_count": 16,
      "outputs": [
        {
          "output_type": "stream",
          "text": [
            "torch.Size([5, 3])\n"
          ],
          "name": "stdout"
        }
      ]
    },
    {
      "metadata": {
        "id": "oSn0U44IVc8_",
        "colab_type": "text"
      },
      "cell_type": "markdown",
      "source": [
        "### Operations "
      ]
    },
    {
      "metadata": {
        "id": "Lu4cRT0jVosp",
        "colab_type": "code",
        "colab": {
          "base_uri": "https://localhost:8080/",
          "height": 102
        },
        "outputId": "681a2666-75cb-4d65-f83c-9c5324a4fcdb"
      },
      "cell_type": "code",
      "source": [
        "# Addition \n",
        "x = x.new_ones(5,3,dtype=torch.float)\n",
        "print(x+y)"
      ],
      "execution_count": 19,
      "outputs": [
        {
          "output_type": "stream",
          "text": [
            "tensor([[1.4342, 1.0408, 1.9736],\n",
            "        [1.0195, 1.3301, 1.1981],\n",
            "        [1.6793, 1.5342, 1.3215],\n",
            "        [1.6915, 1.4732, 1.1329],\n",
            "        [1.5752, 1.3141, 1.9770]])\n"
          ],
          "name": "stdout"
        }
      ]
    },
    {
      "metadata": {
        "id": "3Enu4YZCVuLy",
        "colab_type": "code",
        "colab": {
          "base_uri": "https://localhost:8080/",
          "height": 102
        },
        "outputId": "67565767-f445-4a1c-9ec1-9ac30a1e9fe4"
      },
      "cell_type": "code",
      "source": [
        "# Addition using function\n",
        "torch.add(x,y)"
      ],
      "execution_count": 20,
      "outputs": [
        {
          "output_type": "execute_result",
          "data": {
            "text/plain": [
              "tensor([[1.4342, 1.0408, 1.9736],\n",
              "        [1.0195, 1.3301, 1.1981],\n",
              "        [1.6793, 1.5342, 1.3215],\n",
              "        [1.6915, 1.4732, 1.1329],\n",
              "        [1.5752, 1.3141, 1.9770]])"
            ]
          },
          "metadata": {
            "tags": []
          },
          "execution_count": 20
        }
      ]
    },
    {
      "metadata": {
        "id": "WvyY-hXMWQPb",
        "colab_type": "code",
        "colab": {
          "base_uri": "https://localhost:8080/",
          "height": 102
        },
        "outputId": "498c24eb-c480-4e2a-c769-f03776180fd1"
      },
      "cell_type": "code",
      "source": [
        "# Providing output tensor as an argument\n",
        "result = torch.empty(5,3)\n",
        "torch.add(x,y,out=result)\n",
        "print(result)"
      ],
      "execution_count": 21,
      "outputs": [
        {
          "output_type": "stream",
          "text": [
            "tensor([[1.4342, 1.0408, 1.9736],\n",
            "        [1.0195, 1.3301, 1.1981],\n",
            "        [1.6793, 1.5342, 1.3215],\n",
            "        [1.6915, 1.4732, 1.1329],\n",
            "        [1.5752, 1.3141, 1.9770]])\n"
          ],
          "name": "stdout"
        }
      ]
    },
    {
      "metadata": {
        "id": "LGW_w5sCWimc",
        "colab_type": "code",
        "colab": {
          "base_uri": "https://localhost:8080/",
          "height": 102
        },
        "outputId": "99314a9d-b640-468b-81f8-f73ef5f89d59"
      },
      "cell_type": "code",
      "source": [
        "# Use _ to perform action in place\n",
        "# Addition in place\n",
        "x.add_(y)\n",
        "print(x)"
      ],
      "execution_count": 22,
      "outputs": [
        {
          "output_type": "stream",
          "text": [
            "tensor([[1.4342, 1.0408, 1.9736],\n",
            "        [1.0195, 1.3301, 1.1981],\n",
            "        [1.6793, 1.5342, 1.3215],\n",
            "        [1.6915, 1.4732, 1.1329],\n",
            "        [1.5752, 1.3141, 1.9770]])\n"
          ],
          "name": "stdout"
        }
      ]
    },
    {
      "metadata": {
        "id": "mkXtSQUuWvd0",
        "colab_type": "code",
        "colab": {
          "base_uri": "https://localhost:8080/",
          "height": 51
        },
        "outputId": "0afce704-2443-4869-cd67-19c73605c8b1"
      },
      "cell_type": "code",
      "source": [
        "# Indexing is similar to numpy\n",
        "print(x[:,1]) \n",
        "print(x[1,:])"
      ],
      "execution_count": 23,
      "outputs": [
        {
          "output_type": "stream",
          "text": [
            "tensor([1.0408, 1.3301, 1.5342, 1.4732, 1.3141])\n",
            "tensor([1.0195, 1.3301, 1.1981])\n"
          ],
          "name": "stdout"
        }
      ]
    },
    {
      "metadata": {
        "id": "6Wuyr9RiXJ2o",
        "colab_type": "code",
        "colab": {
          "base_uri": "https://localhost:8080/",
          "height": 170
        },
        "outputId": "81665868-1d25-4508-f734-d7b33b3c9e30"
      },
      "cell_type": "code",
      "source": [
        "# Resizing and reshaping tensor\n",
        "# Use torch.view\n",
        "\n",
        "x = torch.randn(4,4)\n",
        "y = x.view(16)\n",
        "z = x.view(-1,8)\n",
        "\n",
        "print(x.size(),y.size(),z.size())\n",
        "print(x)\n",
        "print(y)\n",
        "print(z)"
      ],
      "execution_count": 24,
      "outputs": [
        {
          "output_type": "stream",
          "text": [
            "torch.Size([4, 4]) torch.Size([16]) torch.Size([2, 8])\n",
            "tensor([[ 0.8543,  0.3856, -0.1096,  0.3132],\n",
            "        [ 2.0602, -0.1836, -1.2454,  1.0989],\n",
            "        [-1.0749, -0.6557,  1.9572, -0.0810],\n",
            "        [ 0.6840, -1.2866,  0.5261,  2.3457]])\n",
            "tensor([ 0.8543,  0.3856, -0.1096,  0.3132,  2.0602, -0.1836, -1.2454,  1.0989,\n",
            "        -1.0749, -0.6557,  1.9572, -0.0810,  0.6840, -1.2866,  0.5261,  2.3457])\n",
            "tensor([[ 0.8543,  0.3856, -0.1096,  0.3132,  2.0602, -0.1836, -1.2454,  1.0989],\n",
            "        [-1.0749, -0.6557,  1.9572, -0.0810,  0.6840, -1.2866,  0.5261,  2.3457]])\n"
          ],
          "name": "stdout"
        }
      ]
    },
    {
      "metadata": {
        "id": "S3AsL0E7XmGu",
        "colab_type": "code",
        "colab": {
          "base_uri": "https://localhost:8080/",
          "height": 51
        },
        "outputId": "a4724ae5-31f9-4c32-bc26-87538dab2a07"
      },
      "cell_type": "code",
      "source": [
        "# For one element tensor use item to get the value as a number\n",
        "\n",
        "x = torch.randn(1)\n",
        "print(x)\n",
        "print(x.item())"
      ],
      "execution_count": 25,
      "outputs": [
        {
          "output_type": "stream",
          "text": [
            "tensor([-1.4802])\n",
            "-1.480163812637329\n"
          ],
          "name": "stdout"
        }
      ]
    },
    {
      "metadata": {
        "id": "wzsWm483X5kz",
        "colab_type": "text"
      },
      "cell_type": "markdown",
      "source": [
        "### Converting to Numpy and vice versa  \n",
        "\n",
        "Share the same memory location , changing one will change the other "
      ]
    },
    {
      "metadata": {
        "id": "SaW3G8IOYH8G",
        "colab_type": "code",
        "colab": {
          "base_uri": "https://localhost:8080/",
          "height": 34
        },
        "outputId": "3c1002f8-59e0-49df-caef-253e1dd49f58"
      },
      "cell_type": "code",
      "source": [
        "a = torch.ones(5)\n",
        "print(a)"
      ],
      "execution_count": 26,
      "outputs": [
        {
          "output_type": "stream",
          "text": [
            "tensor([1., 1., 1., 1., 1.])\n"
          ],
          "name": "stdout"
        }
      ]
    },
    {
      "metadata": {
        "id": "7VincvjlYOGL",
        "colab_type": "code",
        "colab": {
          "base_uri": "https://localhost:8080/",
          "height": 34
        },
        "outputId": "84dd9195-389d-43a7-fee9-6df33592a530"
      },
      "cell_type": "code",
      "source": [
        "b = a.numpy()\n",
        "print(b)"
      ],
      "execution_count": 27,
      "outputs": [
        {
          "output_type": "stream",
          "text": [
            "[1. 1. 1. 1. 1.]\n"
          ],
          "name": "stdout"
        }
      ]
    },
    {
      "metadata": {
        "id": "-vzee-PLYRVr",
        "colab_type": "code",
        "colab": {
          "base_uri": "https://localhost:8080/",
          "height": 51
        },
        "outputId": "5a2ffdf1-e442-4388-e6da-50891d087fad"
      },
      "cell_type": "code",
      "source": [
        "# same memory\n",
        "a.add_(1)\n",
        "print(a)\n",
        "print(b)"
      ],
      "execution_count": 28,
      "outputs": [
        {
          "output_type": "stream",
          "text": [
            "tensor([2., 2., 2., 2., 2.])\n",
            "[2. 2. 2. 2. 2.]\n"
          ],
          "name": "stdout"
        }
      ]
    },
    {
      "metadata": {
        "id": "H7_OY7Z8YaH9",
        "colab_type": "text"
      },
      "cell_type": "markdown",
      "source": [
        "### Converting Numpy Array to torch tensor"
      ]
    },
    {
      "metadata": {
        "id": "gar1RWSfYjOy",
        "colab_type": "code",
        "colab": {}
      },
      "cell_type": "code",
      "source": [
        "import numpy as np"
      ],
      "execution_count": 0,
      "outputs": []
    },
    {
      "metadata": {
        "id": "4rzeCTyDYltY",
        "colab_type": "code",
        "colab": {
          "base_uri": "https://localhost:8080/",
          "height": 51
        },
        "outputId": "baab5906-9c2f-45c9-a8c2-dac183c3a908"
      },
      "cell_type": "code",
      "source": [
        "a = np.ones(5)\n",
        "b = torch.from_numpy(a)\n",
        "print(a)\n",
        "print(b)"
      ],
      "execution_count": 31,
      "outputs": [
        {
          "output_type": "stream",
          "text": [
            "[1. 1. 1. 1. 1.]\n",
            "tensor([1., 1., 1., 1., 1.], dtype=torch.float64)\n"
          ],
          "name": "stdout"
        }
      ]
    },
    {
      "metadata": {
        "id": "cIuWODAAYsW3",
        "colab_type": "code",
        "colab": {
          "base_uri": "https://localhost:8080/",
          "height": 51
        },
        "outputId": "1f460f19-06a5-4cb3-ece7-262747a2b916"
      },
      "cell_type": "code",
      "source": [
        "# adding one and outputting to a \n",
        "np.add(a,1,out=a)\n",
        "# Same memory location\n",
        "print(a)\n",
        "print(b)"
      ],
      "execution_count": 32,
      "outputs": [
        {
          "output_type": "stream",
          "text": [
            "[2. 2. 2. 2. 2.]\n",
            "tensor([2., 2., 2., 2., 2.], dtype=torch.float64)\n"
          ],
          "name": "stdout"
        }
      ]
    },
    {
      "metadata": {
        "id": "Lya5zHm-Y8Va",
        "colab_type": "text"
      },
      "cell_type": "markdown",
      "source": [
        "### CUDA Tensors\n",
        "\n",
        "Tensors can be moved using to method"
      ]
    },
    {
      "metadata": {
        "id": "yUHbK-NkZMhN",
        "colab_type": "code",
        "colab": {
          "base_uri": "https://localhost:8080/",
          "height": 51
        },
        "outputId": "d3588f88-2e22-4421-cb76-c2155bbd2374"
      },
      "cell_type": "code",
      "source": [
        "if torch.cuda.is_available():\n",
        "  # create a cuda device object\n",
        "  device = torch.device(\"cuda\")\n",
        "  # Create a new tensor directly on GPU\n",
        "  y = torch.ones_like(x,device=device)\n",
        "  # Moving to GPU\n",
        "  # x = x.to(device)\n",
        "  x = x.to(\"cuda\")\n",
        "  z = x+y\n",
        "  print(z)\n",
        "  # Converting back to cpu\n",
        "  # can also change the dtype\n",
        "  print(z.to(\"cpu\",torch.double))"
      ],
      "execution_count": 33,
      "outputs": [
        {
          "output_type": "stream",
          "text": [
            "tensor([-0.4802], device='cuda:0')\n",
            "tensor([-0.4802], dtype=torch.float64)\n"
          ],
          "name": "stdout"
        }
      ]
    },
    {
      "metadata": {
        "id": "1JGm5pJraD9Y",
        "colab_type": "text"
      },
      "cell_type": "markdown",
      "source": [
        "## Autograd - Automatic Differnetiation \n",
        "\n",
        "Autograd package provides automatic differnetiation for all operations on Tensors. \n",
        "It is a define by run framework => backprop is defined by hoe your code is run and every single iteration can be different"
      ]
    },
    {
      "metadata": {
        "id": "BaIWGewpaSem",
        "colab_type": "text"
      },
      "cell_type": "markdown",
      "source": [
        "### Tensor \n",
        "\n",
        "torch.tensor is the central class of the package . Setting  **  .requires_grad() as True  **, it starts to track all operations on it . When the computation is finished , calling **backward()** computes all the gradients automatically . The gradient is accumulate in **grad** attribute."
      ]
    },
    {
      "metadata": {
        "id": "dkFITeWXhONe",
        "colab_type": "text"
      },
      "cell_type": "markdown",
      "source": [
        "To stop a tensor from tracking history **detach()** caa be called to detach it from the computation history and prevent future computaion from being tracked.\n",
        "\n",
        "To prevent tracking history ( and memory usage ), wrap the code block in **with torch.no_grad():** . Especially useful in model evaluation as model may have trainable parameters with **requires_grad=True** , but for which we don't need the gradients"
      ]
    },
    {
      "metadata": {
        "id": "AH-kgaXMiWst",
        "colab_type": "text"
      },
      "cell_type": "markdown",
      "source": [
        "** Function ** -Another class that is important for autograd implementation \n",
        "\n",
        "Tensor and Function are interconnected and build an ** acyclic graph **, that encodes a complete history of computation . Each tensor has a ** .grad_fn ** attribute that references a Function that has created the Tensor ( Tensors created by user - grad_fn is None)\n",
        "\n",
        "Derivatives can be computes using ** .backward() ** on a Tensor . If Tensor is a scalar (holds a one element data), no need to specify arguments to backward()\n",
        "\n",
        "However , need to specify a ** gradient ** argument that is a tensor of matching shape in case the Tensor has more elements"
      ]
    },
    {
      "metadata": {
        "id": "zVd92aNWkL1k",
        "colab_type": "code",
        "colab": {
          "base_uri": "https://localhost:8080/",
          "height": 51
        },
        "outputId": "f4adec41-a0d2-4cd8-c268-93caf58a74b6"
      },
      "cell_type": "code",
      "source": [
        "# Creating a tensor and setting requires_grad to track computation\n",
        "x = torch.ones(2,2,requires_grad=True)\n",
        "print(x)"
      ],
      "execution_count": 34,
      "outputs": [
        {
          "output_type": "stream",
          "text": [
            "tensor([[1., 1.],\n",
            "        [1., 1.]], requires_grad=True)\n"
          ],
          "name": "stdout"
        }
      ]
    },
    {
      "metadata": {
        "id": "72OwXyGnkafL",
        "colab_type": "code",
        "colab": {
          "base_uri": "https://localhost:8080/",
          "height": 51
        },
        "outputId": "31c83378-9ace-4afd-82a7-8894b0247ba7"
      },
      "cell_type": "code",
      "source": [
        "# Operation on the tensor\n",
        "y = x+3\n",
        "print(y)"
      ],
      "execution_count": 35,
      "outputs": [
        {
          "output_type": "stream",
          "text": [
            "tensor([[4., 4.],\n",
            "        [4., 4.]], grad_fn=<AddBackward>)\n"
          ],
          "name": "stdout"
        }
      ]
    },
    {
      "metadata": {
        "id": "2IHP4nMtkeVh",
        "colab_type": "code",
        "colab": {
          "base_uri": "https://localhost:8080/",
          "height": 34
        },
        "outputId": "866424fd-a8cd-41b4-ae9b-9b4fa8ee8f99"
      },
      "cell_type": "code",
      "source": [
        "# y is created as a result of an operation , so it has a grad_fn \n",
        "print(y.grad_fn)"
      ],
      "execution_count": 36,
      "outputs": [
        {
          "output_type": "stream",
          "text": [
            "<AddBackward object at 0x7ff09ebbfa20>\n"
          ],
          "name": "stdout"
        }
      ]
    },
    {
      "metadata": {
        "id": "TK8gzW3SktkM",
        "colab_type": "code",
        "colab": {
          "base_uri": "https://localhost:8080/",
          "height": 51
        },
        "outputId": "b8b15124-6682-43f0-da10-4f44ebe89ee2"
      },
      "cell_type": "code",
      "source": [
        "# More operations on y\n",
        "z = y*y*2\n",
        "\n",
        "out = z.mean()\n",
        "\n",
        "print(z,out)\n"
      ],
      "execution_count": 37,
      "outputs": [
        {
          "output_type": "stream",
          "text": [
            "tensor([[32., 32.],\n",
            "        [32., 32.]], grad_fn=<MulBackward>) tensor(32., grad_fn=<MeanBackward1>)\n"
          ],
          "name": "stdout"
        }
      ]
    },
    {
      "metadata": {
        "id": "nf_-yq3xk7Ez",
        "colab_type": "code",
        "colab": {
          "base_uri": "https://localhost:8080/",
          "height": 68
        },
        "outputId": "e60eb855-af05-4f78-fb60-647a93c770aa"
      },
      "cell_type": "code",
      "source": [
        "# Using requires_grad_() , the requires_grad flag can be changed in place\n",
        "# for a new tensor it defaults to False\n",
        "a = torch.randn(2,2)\n",
        "a =((a*2)/(a-1))\n",
        "\n",
        "print(a.requires_grad)\n",
        "# changing to true\n",
        "a.requires_grad_(True)\n",
        "print(a.requires_grad)\n",
        "\n",
        "b = (a**2).sum()\n",
        "print(b.grad_fn)"
      ],
      "execution_count": 40,
      "outputs": [
        {
          "output_type": "stream",
          "text": [
            "False\n",
            "True\n",
            "<SumBackward0 object at 0x7ff09eb4ec50>\n"
          ],
          "name": "stdout"
        }
      ]
    },
    {
      "metadata": {
        "id": "DHr7yH-alvCl",
        "colab_type": "text"
      },
      "cell_type": "markdown",
      "source": [
        "### Gradients "
      ]
    },
    {
      "metadata": {
        "id": "fwvh_zQfmVoR",
        "colab_type": "code",
        "colab": {}
      },
      "cell_type": "code",
      "source": [
        "# out = mean( 2(x+3)^2 )\n",
        "# Backproping , as out contains a single scalar ,\n",
        "# out.backward() is equivalent to out.backward(torch.tensor(1))\n",
        "\n",
        "out.backward()"
      ],
      "execution_count": 0,
      "outputs": []
    },
    {
      "metadata": {
        "id": "DpB1r7wlmvNE",
        "colab_type": "code",
        "colab": {
          "base_uri": "https://localhost:8080/",
          "height": 51
        },
        "outputId": "430eee86-e03e-4c3e-fe9e-90d55832dc73"
      },
      "cell_type": "code",
      "source": [
        "# printing the graadients d(out)/dx\n",
        "print(x.grad)"
      ],
      "execution_count": 42,
      "outputs": [
        {
          "output_type": "stream",
          "text": [
            "tensor([[4., 4.],\n",
            "        [4., 4.]])\n"
          ],
          "name": "stdout"
        }
      ]
    },
    {
      "metadata": {
        "id": "bTpKIPiart0u",
        "colab_type": "code",
        "colab": {
          "base_uri": "https://localhost:8080/",
          "height": 34
        },
        "outputId": "627c3092-d86b-49d0-c8da-9dbe45e86181"
      },
      "cell_type": "code",
      "source": [
        "# p norm = powroot(x1^pow+x2^pow+.....+xn^pow)\n",
        "# p - exponent value eg p=2 (default)\n",
        "# tensor with n elements\n",
        "# norm = sqrt(x1**2 + x2**2 +....+ xn**2)\n",
        "\n",
        "x.data.norm()"
      ],
      "execution_count": 43,
      "outputs": [
        {
          "output_type": "execute_result",
          "data": {
            "text/plain": [
              "tensor(2.)"
            ]
          },
          "metadata": {
            "tags": []
          },
          "execution_count": 43
        }
      ]
    },
    {
      "metadata": {
        "id": "L6xqFMrtm4hu",
        "colab_type": "code",
        "colab": {
          "base_uri": "https://localhost:8080/",
          "height": 34
        },
        "outputId": "8712d4c7-1c97-4ddb-92fc-e959eb80bfbf"
      },
      "cell_type": "code",
      "source": [
        "# another eg\n",
        "x = torch.randn(3,requires_grad=True)\n",
        "# y =2x\n",
        "y = x*2 \n",
        "\n",
        "i=1\n",
        "while y.data.norm() <1000:\n",
        "  # y = 2x *2* ....\n",
        "  y = y*2\n",
        "  i=i+1\n",
        "  \n",
        "print(y,i)"
      ],
      "execution_count": 50,
      "outputs": [
        {
          "output_type": "stream",
          "text": [
            "tensor([-296.1773, -692.9352, 1345.3654], grad_fn=<MulBackward>) 10\n"
          ],
          "name": "stdout"
        }
      ]
    },
    {
      "metadata": {
        "id": "l0TnhZpesz62",
        "colab_type": "code",
        "colab": {}
      },
      "cell_type": "code",
      "source": [
        "# i =10 => 2^10x\n",
        "# final gradients multiplied with the gradients tensor\n",
        "gradients = torch.tensor([0.1,1.0,0.001],dtype=torch.float)\n",
        "\n",
        "y.backward(gradients)"
      ],
      "execution_count": 0,
      "outputs": []
    },
    {
      "metadata": {
        "id": "Mm3ycmwltG4B",
        "colab_type": "code",
        "colab": {
          "base_uri": "https://localhost:8080/",
          "height": 34
        },
        "outputId": "a3802c33-268d-444b-99f7-287b094f2fed"
      },
      "cell_type": "code",
      "source": [
        "print(x.grad)"
      ],
      "execution_count": 48,
      "outputs": [
        {
          "output_type": "stream",
          "text": [
            "tensor([ 102.4000, 1024.0000,    1.0240])\n"
          ],
          "name": "stdout"
        }
      ]
    },
    {
      "metadata": {
        "id": "un8T7KfxtLCG",
        "colab_type": "code",
        "colab": {
          "base_uri": "https://localhost:8080/",
          "height": 68
        },
        "outputId": "1a9282bb-be39-4ce6-dbde-34326d0010cd"
      },
      "cell_type": "code",
      "source": [
        "# Stopping recording of gradients\n",
        "print(x.requires_grad)\n",
        "print((x**2).requires_grad)\n",
        "\n",
        "with torch.no_grad():\n",
        "  print((x**2).requires_grad)"
      ],
      "execution_count": 51,
      "outputs": [
        {
          "output_type": "stream",
          "text": [
            "True\n",
            "True\n",
            "False\n"
          ],
          "name": "stdout"
        }
      ]
    },
    {
      "metadata": {
        "id": "MdKXOTkauHqZ",
        "colab_type": "text"
      },
      "cell_type": "markdown",
      "source": [
        "## Neural Networks "
      ]
    },
    {
      "metadata": {
        "id": "ovaA52aY6BA4",
        "colab_type": "text"
      },
      "cell_type": "markdown",
      "source": [
        "Neural Networks can be created using **torch.nn** package \n",
        "\n",
        "nn depends on autograd to define models and differntiate them. A **nn.Module** contains layers and a method **forward(input)** that returns the output\n",
        "\n",
        "A typical traaining procedure is as follows : \n",
        "* Define the neural network that has some learnable parameters or weights \n",
        "* Iterate over a dataset of inputs \n",
        "* Process input through the network\n",
        "* Compute the loss\n",
        "* Propagate gradients back into the network's paraameters\n",
        "* Update the weights of the network ,typically using a simple rule ** weight = weight - learning_rate * gradient **\n"
      ]
    },
    {
      "metadata": {
        "id": "DzA_P-yP9sae",
        "colab_type": "text"
      },
      "cell_type": "markdown",
      "source": [
        "### Define the network"
      ]
    },
    {
      "metadata": {
        "id": "6Q_TuiHb-H_T",
        "colab_type": "code",
        "colab": {}
      },
      "cell_type": "code",
      "source": [
        "import torch.nn as nn\n",
        "import torch.nn.functional as F"
      ],
      "execution_count": 0,
      "outputs": []
    },
    {
      "metadata": {
        "id": "fhr0qDPk-Odm",
        "colab_type": "code",
        "colab": {
          "base_uri": "https://localhost:8080/",
          "height": 136
        },
        "outputId": "5c9d487d-2168-4f81-ca1d-6887e574df8f"
      },
      "cell_type": "code",
      "source": [
        "# Defining a CNN\n",
        "\n",
        "class NNet(nn.Module):\n",
        "  \n",
        "  def __init__(self):\n",
        "    super(NNet,self).__init__()\n",
        "    # 1 input channel , 6 output channel , 5x5 square convolution\n",
        "    # kernel\n",
        "    self.conv1 = nn.Conv2d(1,6,5)\n",
        "    self.conv2 = nn.Conv2d(6,16,5)\n",
        "    # affine operation y = Wx + b\n",
        "    # fully connected layers\n",
        "    self.fc1 = nn.Linear(16 * 5 * 5,120)\n",
        "    self.fc2 = nn.Linear(120, 84)\n",
        "    self.fc3 = nn.Linear(84,10)\n",
        "    \n",
        "   \n",
        "  def forward(self,x):\n",
        "    # Max Pooling over a 2x2 window\n",
        "    x = F.max_pool2d(F.relu(self.conv1(x)),(2,2))\n",
        "    # If the size is a square you can inly secify a single number\n",
        "    x = F.max_pool2d(F.relu(self.conv2(x)),2)\n",
        "    x = x.view(-1,self.num_flat_features(x))\n",
        "    x = F.relu(self.fc1(x))\n",
        "    x = F.relu(self.fc2(x))\n",
        "    x = self.fc3(x)\n",
        "    return x \n",
        "  \n",
        "  def num_flat_features(self,x):\n",
        "    # all dimensions except batch size\n",
        "    size = x.size()[1:]\n",
        "    num_features = 1 \n",
        "    for s in size:\n",
        "      num_features *=s\n",
        "    \n",
        "    return num_features\n",
        "\n",
        "\n",
        "  \n",
        "net = NNet()\n",
        "print(net)\n",
        "    "
      ],
      "execution_count": 54,
      "outputs": [
        {
          "output_type": "stream",
          "text": [
            "NNet(\n",
            "  (conv1): Conv2d(1, 6, kernel_size=(5, 5), stride=(1, 1))\n",
            "  (conv2): Conv2d(6, 16, kernel_size=(5, 5), stride=(1, 1))\n",
            "  (fc1): Linear(in_features=400, out_features=120, bias=True)\n",
            "  (fc2): Linear(in_features=120, out_features=84, bias=True)\n",
            "  (fc3): Linear(in_features=84, out_features=10, bias=True)\n",
            ")\n"
          ],
          "name": "stdout"
        }
      ]
    },
    {
      "metadata": {
        "id": "BzHkYvSwAqw1",
        "colab_type": "text"
      },
      "cell_type": "markdown",
      "source": [
        "Only forward function is to be defined , backward is implemented automaticallyusing autograd. Can use any tesnor operation in forward \n",
        "\n",
        "The learnable parameters are returned by **.parameters() ** function."
      ]
    },
    {
      "metadata": {
        "id": "AKvNV4BbB2XD",
        "colab_type": "code",
        "colab": {
          "base_uri": "https://localhost:8080/",
          "height": 34
        },
        "outputId": "c00f1a11-c1e3-42d3-e16f-eeb337c46974"
      },
      "cell_type": "code",
      "source": [
        "params = list(net.parameters())\n",
        "print(len(params))\n"
      ],
      "execution_count": 58,
      "outputs": [
        {
          "output_type": "stream",
          "text": [
            "10\n"
          ],
          "name": "stdout"
        }
      ]
    },
    {
      "metadata": {
        "id": "3rNtxeEoB9se",
        "colab_type": "code",
        "colab": {
          "base_uri": "https://localhost:8080/",
          "height": 34
        },
        "outputId": "7ed2f9ed-35f1-4b17-ea76-1e681fba5026"
      },
      "cell_type": "code",
      "source": [
        "params[2].size()"
      ],
      "execution_count": 60,
      "outputs": [
        {
          "output_type": "execute_result",
          "data": {
            "text/plain": [
              "torch.Size([16, 6, 5, 5])"
            ]
          },
          "metadata": {
            "tags": []
          },
          "execution_count": 60
        }
      ]
    },
    {
      "metadata": {
        "id": "g-w6kYyyCYaB",
        "colab_type": "code",
        "colab": {
          "base_uri": "https://localhost:8080/",
          "height": 51
        },
        "outputId": "a4d24a25-4d1f-412f-82cf-3c8d0ddac3b4"
      },
      "cell_type": "code",
      "source": [
        "## Trying on a random 32x32 input \n",
        "input = torch.randn(1,1,32,32)\n",
        "out = net(input)\n",
        "print(out)"
      ],
      "execution_count": 63,
      "outputs": [
        {
          "output_type": "stream",
          "text": [
            "tensor([[-0.0250,  0.0251, -0.0386,  0.0819,  0.1619, -0.0297,  0.0244, -0.0468,\n",
            "          0.0680,  0.0757]], grad_fn=<ThAddmmBackward>)\n"
          ],
          "name": "stdout"
        }
      ]
    },
    {
      "metadata": {
        "id": "KRZPUbQbCzDM",
        "colab_type": "code",
        "colab": {}
      },
      "cell_type": "code",
      "source": [
        "# Set gradients of all model parameters to zero and backprop using random gradients\n",
        "net.zero_grad()\n",
        "out.backward(torch.randn(1,10))"
      ],
      "execution_count": 0,
      "outputs": []
    },
    {
      "metadata": {
        "id": "7yaDT6fsDXAK",
        "colab_type": "text"
      },
      "cell_type": "markdown",
      "source": [
        "torch.nn only supports **mini-batches** . Entire torch.nn only supports mini-batch of samples and not a single sample\n",
        "\n",
        "Eg - **nn.Conv2d** takes a 4D Tensor ** nSamples x nChannels x Height x Width **\n",
        "\n",
        "For single input , use ** input.unsqueeze(0) ** to add  a fake mini batch"
      ]
    },
    {
      "metadata": {
        "id": "wnZZQiYXEBFP",
        "colab_type": "text"
      },
      "cell_type": "markdown",
      "source": [
        "### Loss Function "
      ]
    },
    {
      "metadata": {
        "id": "oO-IwuaREgsj",
        "colab_type": "text"
      },
      "cell_type": "markdown",
      "source": [
        "A loss function takes the output,target pair and computes a vlue that estimates hw far away the output is from the target\n",
        "\n",
        "Simple loss function **nn.MSE** Mean Squared Error "
      ]
    },
    {
      "metadata": {
        "id": "u508AcPJdi0H",
        "colab_type": "code",
        "colab": {
          "base_uri": "https://localhost:8080/",
          "height": 34
        },
        "outputId": "244944aa-cb68-430a-812f-99de3651b908"
      },
      "cell_type": "code",
      "source": [
        "output = net(input)\n",
        "# dummy target\n",
        "target = torch.randn(10)\n",
        "# reshaping to make it as the same shape as output\n",
        "target = target.view(1,-1)\n",
        "\n",
        "criterion = nn.MSELoss()\n",
        "\n",
        "loss = criterion(output,target)\n",
        "print(loss)"
      ],
      "execution_count": 66,
      "outputs": [
        {
          "output_type": "stream",
          "text": [
            "tensor(0.6263, grad_fn=<MseLossBackward>)\n"
          ],
          "name": "stdout"
        }
      ]
    },
    {
      "metadata": {
        "id": "pg9NMSvrd-sr",
        "colab_type": "code",
        "colab": {
          "base_uri": "https://localhost:8080/",
          "height": 34
        },
        "outputId": "444fb17b-9c25-451e-c1ff-6e1f0dd3b800"
      },
      "cell_type": "code",
      "source": [
        "loss.grad_fn"
      ],
      "execution_count": 67,
      "outputs": [
        {
          "output_type": "execute_result",
          "data": {
            "text/plain": [
              "<MseLossBackward at 0x7ff09ebcd828>"
            ]
          },
          "metadata": {
            "tags": []
          },
          "execution_count": 67
        }
      ]
    },
    {
      "metadata": {
        "id": "LF7lTtR8eHyS",
        "colab_type": "text"
      },
      "cell_type": "markdown",
      "source": [
        "N/W architecture\n",
        "\n",
        "input -> conv2d -> relu -> maxpool2d -> conv2d -> relu -> maxpool2d\n",
        "\n",
        "      -> view -> linear -> relu -> linear -> relu -> linear\n",
        "      \n",
        "      -> MSELoss\n",
        "      \n",
        "      -> loss\n",
        "  \n",
        "When we call loss.backward , entire graph is differentiated w.r.t the loss and all tesors in the graph that have requires_grad=True will have their **.grad tensor accumulated with the gradient**"
      ]
    },
    {
      "metadata": {
        "id": "2gSiQ3YsejwI",
        "colab_type": "code",
        "colab": {
          "base_uri": "https://localhost:8080/",
          "height": 68
        },
        "outputId": "720ec18f-8aba-44a0-f5a8-b497e4b4c877"
      },
      "cell_type": "code",
      "source": [
        "print(loss.grad_fn) # MSELoss\n",
        "print(loss.grad_fn.next_functions[0][0]) # Linear\n",
        "print(loss.grad_fn.next_functions[0][0].next_functions[0][0]) # RelU"
      ],
      "execution_count": 68,
      "outputs": [
        {
          "output_type": "stream",
          "text": [
            "<MseLossBackward object at 0x7ff09ebcd828>\n",
            "<ThAddmmBackward object at 0x7ff063a794e0>\n",
            "<ExpandBackward object at 0x7ff09ebef128>\n"
          ],
          "name": "stdout"
        }
      ]
    },
    {
      "metadata": {
        "id": "rVDK6CFDfVTF",
        "colab_type": "text"
      },
      "cell_type": "markdown",
      "source": [
        "### Backprop\n",
        "\n",
        "To backpropagate the error use loss.backward() . Need to clear the existing gradient , else gradients will be accumulated to existing gradient"
      ]
    },
    {
      "metadata": {
        "id": "S_MmtfgYgJiQ",
        "colab_type": "code",
        "colab": {
          "base_uri": "https://localhost:8080/",
          "height": 85
        },
        "outputId": "6b9105df-6997-4ebe-d1d0-17d16f5d9cf0"
      },
      "cell_type": "code",
      "source": [
        "# set zeros to the gradient buffers of all parameters\n",
        "net.zero_grad()\n",
        "\n",
        "# Conv1 bias gradients before and after backprop\n",
        "print(\"Before backprop\")\n",
        "print(net.conv1.bias.grad)\n",
        "\n",
        "loss.backward()\n",
        "\n",
        "print(\"After backprop\")\n",
        "print(net.conv1.bias.grad)"
      ],
      "execution_count": 69,
      "outputs": [
        {
          "output_type": "stream",
          "text": [
            "Before backprop\n",
            "tensor([0., 0., 0., 0., 0., 0.])\n",
            "After backprop\n",
            "tensor([-0.0090,  0.0019, -0.0025, -0.0022, -0.0072,  0.0044])\n"
          ],
          "name": "stdout"
        }
      ]
    },
    {
      "metadata": {
        "id": "s0VIsvCZgnJx",
        "colab_type": "text"
      },
      "cell_type": "markdown",
      "source": [
        "### Updating the weights \n",
        "\n",
        "simplest rule used in ** Stochastic Gradient Descent **\n",
        "\n",
        "** weight = weight - learning_rate x gradient **"
      ]
    },
    {
      "metadata": {
        "id": "bPufnNl9ha54",
        "colab_type": "code",
        "colab": {}
      },
      "cell_type": "code",
      "source": [
        ""
      ],
      "execution_count": 0,
      "outputs": []
    },
    {
      "metadata": {
        "id": "fxeXbTGDgwGB",
        "colab_type": "code",
        "colab": {
          "base_uri": "https://localhost:8080/",
          "height": 255
        },
        "outputId": "d7148e70-4462-471a-deb1-bb5e19542834"
      },
      "cell_type": "code",
      "source": [
        "# can be created usin a simple loop\n",
        "learning_rate = 0.01\n",
        "\n",
        "print(\"before updating weights\")\n",
        "print(net.conv1.weight[0])\n",
        "\n",
        "for f in net.parameters():\n",
        "  # subtract inplace \n",
        "  f.data.sub_(f.grad.data * learning_rate)\n",
        "  \n",
        "print(\"after updating weights\")\n",
        "print(net.conv1.weight[0])\n"
      ],
      "execution_count": 75,
      "outputs": [
        {
          "output_type": "stream",
          "text": [
            "before updating weights\n",
            "tensor([[[-0.0902, -0.0997, -0.0961, -0.0748, -0.0110],\n",
            "         [-0.1031,  0.0503,  0.0149,  0.1218, -0.1147],\n",
            "         [-0.0698,  0.1330, -0.1858,  0.0683,  0.1692],\n",
            "         [-0.1658,  0.0140,  0.0834,  0.0638,  0.1471],\n",
            "         [ 0.1974, -0.1663,  0.1693,  0.0531,  0.1356]]],\n",
            "       grad_fn=<SelectBackward>)\n",
            "after updating weights\n",
            "tensor([[[-0.0903, -0.0998, -0.0962, -0.0750, -0.0109],\n",
            "         [-0.1030,  0.0503,  0.0150,  0.1219, -0.1148],\n",
            "         [-0.0698,  0.1328, -0.1860,  0.0682,  0.1692],\n",
            "         [-0.1658,  0.0139,  0.0832,  0.0638,  0.1473],\n",
            "         [ 0.1973, -0.1662,  0.1694,  0.0531,  0.1356]]],\n",
            "       grad_fn=<SelectBackward>)\n"
          ],
          "name": "stdout"
        }
      ]
    },
    {
      "metadata": {
        "id": "otWGLJtyh_8P",
        "colab_type": "text"
      },
      "cell_type": "markdown",
      "source": [
        "SGD and other optimizers like ADAM , RMSProp etc can be found in ** torch.optim** package"
      ]
    },
    {
      "metadata": {
        "id": "nL5uBUH-ia0V",
        "colab_type": "code",
        "colab": {}
      },
      "cell_type": "code",
      "source": [
        "import torch.optim as optim"
      ],
      "execution_count": 0,
      "outputs": []
    },
    {
      "metadata": {
        "id": "hJTG7gibigbZ",
        "colab_type": "code",
        "colab": {}
      },
      "cell_type": "code",
      "source": [
        "# Create an optimizer \n",
        "optimizer = optim.SGD(net.parameters(),lr=0.01)\n",
        "\n",
        "\n",
        "# in the trining loop\n",
        "\n",
        "# zero the gradient buffers\n",
        "optimizer.zero_grad()\n",
        "output = net(input)\n",
        "loss = criterion(output,target)\n",
        "loss.backward()\n",
        "# does the update \n",
        "optimizer.step() "
      ],
      "execution_count": 0,
      "outputs": []
    },
    {
      "metadata": {
        "id": "9tu1W2RIjRLF",
        "colab_type": "text"
      },
      "cell_type": "markdown",
      "source": [
        "## Training a Classifier"
      ]
    },
    {
      "metadata": {
        "id": "SQcvFtfwjtBT",
        "colab_type": "text"
      },
      "cell_type": "markdown",
      "source": [
        "Data conversion packages \n",
        "\n",
        "For images, packages such as Pillow, OpenCV are useful\n",
        "\n",
        "For audio, packages such as scipy and librosa\n",
        "\n",
        "For text, either raw Python or Cython based loading, or NLTK and SpaCy are useful\n",
        "\n",
        "\n",
        "for vision use **torchvision**"
      ]
    },
    {
      "metadata": {
        "id": "l1KxINRFq1J4",
        "colab_type": "text"
      },
      "cell_type": "markdown",
      "source": [
        "** Steps for training an image classifier (CIFAR 10):**\n",
        "\n",
        "* Load and normalize the CIFAR10 training and test datasets using torchvision\n",
        "* Define a Convolutional Neural Network\n",
        "* Define a Loss Function\n",
        "* Train the network on taining data\n",
        "* Test the network on test data\n"
      ]
    },
    {
      "metadata": {
        "id": "ESJl6PSZrYeQ",
        "colab_type": "text"
      },
      "cell_type": "markdown",
      "source": [
        "### Loading and Normalizing CIFAR10"
      ]
    },
    {
      "metadata": {
        "id": "KVytgDmUrgLi",
        "colab_type": "code",
        "colab": {}
      },
      "cell_type": "code",
      "source": [
        "import torchvision\n",
        "import torchvision.transforms as transforms"
      ],
      "execution_count": 0,
      "outputs": []
    },
    {
      "metadata": {
        "id": "AF_lZ8P3roTE",
        "colab_type": "text"
      },
      "cell_type": "markdown",
      "source": [
        "The outputs of torchvision datasets are PILImages of range [0,1] . Transform them to Tensors of normalized range [-1,1]"
      ]
    },
    {
      "metadata": {
        "id": "zEDG3GcVr50X",
        "colab_type": "code",
        "colab": {}
      },
      "cell_type": "code",
      "source": [
        "transform = transforms.Compose([\n",
        "                              transforms.ToTensor(),\n",
        "                              transforms.Normalize((0.5,0.5,0.5,0.5),(0.5,0.5,0.5,0.5))\n",
        "                              ])"
      ],
      "execution_count": 0,
      "outputs": []
    },
    {
      "metadata": {
        "id": "GDcAW1kKsCGg",
        "colab_type": "code",
        "colab": {
          "base_uri": "https://localhost:8080/",
          "height": 34
        },
        "outputId": "fcaa6e47-8530-4736-aea9-9de9fb431844"
      },
      "cell_type": "code",
      "source": [
        "# training data\n",
        "trainset = torchvision.datasets.CIFAR10(root='./data',train=True,download=True,transform=transform)\n",
        "\n",
        "trainloader = torch.utils.data.DataLoader(trainset,batch_size=4,shuffle=True,num_workers=2)"
      ],
      "execution_count": 100,
      "outputs": [
        {
          "output_type": "stream",
          "text": [
            "Files already downloaded and verified\n"
          ],
          "name": "stdout"
        }
      ]
    },
    {
      "metadata": {
        "id": "wvUg6jgftXcr",
        "colab_type": "code",
        "colab": {
          "base_uri": "https://localhost:8080/",
          "height": 34
        },
        "outputId": "fdbcf12f-864c-4d5d-ddc8-f419bb618e17"
      },
      "cell_type": "code",
      "source": [
        "# Testing Data \n",
        "testset = torchvision.datasets.CIFAR10(root='./data',train=False,download=True,transform=transform)\n",
        "\n",
        "testloader = torch.utils.data.DataLoader(trainset,batch_size=4,shuffle=True,num_workers=2)"
      ],
      "execution_count": 101,
      "outputs": [
        {
          "output_type": "stream",
          "text": [
            "Files already downloaded and verified\n"
          ],
          "name": "stdout"
        }
      ]
    },
    {
      "metadata": {
        "id": "k0fJAe6ctyGi",
        "colab_type": "code",
        "colab": {}
      },
      "cell_type": "code",
      "source": [
        "# Number of classes \n",
        "classes = ('plane','car','bird','cat','deer','dog','frog','horse','ship','truck')"
      ],
      "execution_count": 0,
      "outputs": []
    },
    {
      "metadata": {
        "id": "DsK8LkUYuIuv",
        "colab_type": "code",
        "colab": {
          "base_uri": "https://localhost:8080/",
          "height": 184
        },
        "outputId": "5f48bcbe-cf94-4bfb-b104-6ed8aac72bed"
      },
      "cell_type": "code",
      "source": [
        "# Displaying images \n",
        "import matplotlib.pyplot as plt\n",
        "\n",
        "\n",
        "def imgshow(img):\n",
        "  # denormalizing\n",
        "  img = img/2 + 0.5\n",
        "  npimg = img.numpy()\n",
        "  plt.imshow(np.transpose(npimg,(1,2,0)))\n",
        "  \n",
        "\n",
        "# getting data from training set \n",
        "dataiter = iter(trainloader)\n",
        "# entire batch of size 4\n",
        "images , label = dataiter.next()\n",
        "\n",
        "\n",
        "# showing images \n",
        "imgshow(torchvision.utils.make_grid(images))\n",
        "# print labels\n",
        "print(''.join('%5s' %classes[label[j]] for j in range(4)))"
      ],
      "execution_count": 103,
      "outputs": [
        {
          "output_type": "stream",
          "text": [
            " deerplane  carhorse\n"
          ],
          "name": "stdout"
        },
        {
          "output_type": "display_data",
          "data": {
            "image/png": "[encoded data removed]",
            "text/plain": [
              "<matplotlib.figure.Figure at 0x7ff05c0f9550>"
            ]
          },
          "metadata": {
            "tags": []
          }
        }
      ]
    },
    {
      "metadata": {
        "id": "tFQdnNonvJIi",
        "colab_type": "text"
      },
      "cell_type": "markdown",
      "source": [
        "### Defining a Neural Network "
      ]
    },
    {
      "metadata": {
        "id": "Q7DdclpivY4L",
        "colab_type": "code",
        "colab": {}
      },
      "cell_type": "code",
      "source": [
        "class convNet(nn.Module):\n",
        "  def __init__(self):\n",
        "    super(convNet,self).__init__()\n",
        "    # 3 channel images \n",
        "    self.conv1 = nn.Conv2d(3,6,5)\n",
        "    self.pool = nn.MaxPool2d(2,2)\n",
        "    self.conv2 = nn.Conv2d(6,16,5)\n",
        "    self.fc1 = nn.Linear(16*5*5,120)\n",
        "    self.fc2 = nn.Linear(120,84)\n",
        "    self.fc3 = nn.Linear(84,10)\n",
        "    \n",
        "  def forward(self,x):\n",
        "    x = self.pool(F.relu(self.conv1(x)))\n",
        "    x = self.pool(F.relu(self.conv2(x)))\n",
        "    # changing the view\n",
        "    x = x.view(-1,16*5*5)\n",
        "    x = F.relu(self.fc1(x))\n",
        "    x = F.relu(self.fc2(x))\n",
        "    x = self.fc3(x)\n",
        "    return x \n",
        " \n"
      ],
      "execution_count": 0,
      "outputs": []
    },
    {
      "metadata": {
        "id": "foci8x8fwues",
        "colab_type": "code",
        "colab": {}
      },
      "cell_type": "code",
      "source": [
        "net = convNet()"
      ],
      "execution_count": 0,
      "outputs": []
    },
    {
      "metadata": {
        "id": "wGLG3EFLwxpR",
        "colab_type": "text"
      },
      "cell_type": "markdown",
      "source": [
        "###  Defining a loss function and an Optimizer "
      ]
    },
    {
      "metadata": {
        "id": "belWt8M0xUkL",
        "colab_type": "code",
        "colab": {}
      },
      "cell_type": "code",
      "source": [
        "criterion = nn.CrossEntropyLoss()\n",
        "optimizer = optim.SGD(net.parameters(),lr=0.001,momentum=0.9)"
      ],
      "execution_count": 0,
      "outputs": []
    },
    {
      "metadata": {
        "id": "2sUa62sDxjYs",
        "colab_type": "text"
      },
      "cell_type": "markdown",
      "source": [
        "### Training the Network"
      ]
    },
    {
      "metadata": {
        "id": "WO9reg0UxmLl",
        "colab_type": "code",
        "colab": {
          "base_uri": "https://localhost:8080/",
          "height": 727
        },
        "outputId": "67453066-3418-490c-e5d6-92bb561a937d"
      },
      "cell_type": "code",
      "source": [
        "# loop over entire dataset multiple times \n",
        "for epoch in range(2):\n",
        "  \n",
        "  running_loss =0.0\n",
        "  for i,data in enumerate(trainloader,0):\n",
        "    # get the inputs\n",
        "    inputs,labels = data\n",
        "    \n",
        "    ## if gpu present\n",
        "    if torch.cuda.is_available():\n",
        "      inputs , labels = inputs.to(\"cuda\"),labels.to(\"cuda\")\n",
        "    \n",
        "    # zero the gradients\n",
        "    optimizer.zero_grad()\n",
        "    \n",
        "    # forward pass\n",
        "    outputs = net(inputs)\n",
        "    # calculate the loss \n",
        "    loss = criterion(outputs,labels)\n",
        "    # backprop\n",
        "    loss.backward()\n",
        "    # update weights\n",
        "    optimizer.step()\n",
        "    \n",
        "    # Prining stats every 2000 mini batch\n",
        "    running_loss +=loss.item()\n",
        "    if i%2000 == 1999:\n",
        "      print('[%d,%5d] loss: %.3f'%\n",
        "            (epoch+1,i+1,running_loss/2000))\n",
        "      running_loss =0.0\n",
        "      \n",
        "      \n",
        "print('Finished')"
      ],
      "execution_count": 121,
      "outputs": [
        {
          "output_type": "error",
          "ename": "RuntimeError",
          "evalue": "ignored",
          "traceback": [
            "\u001b[0;31m---------------------------------------------------------------------------\u001b[0m",
            "\u001b[0;31mRuntimeError\u001b[0m                              Traceback (most recent call last)",
            "\u001b[0;32m<ipython-input-121-35e9d77e2be4>\u001b[0m in \u001b[0;36m<module>\u001b[0;34m()\u001b[0m\n\u001b[1;32m     14\u001b[0m \u001b[0;34m\u001b[0m\u001b[0m\n\u001b[1;32m     15\u001b[0m     \u001b[0;31m# forward pass\u001b[0m\u001b[0;34m\u001b[0m\u001b[0;34m\u001b[0m\u001b[0m\n\u001b[0;32m---> 16\u001b[0;31m     \u001b[0moutputs\u001b[0m \u001b[0;34m=\u001b[0m \u001b[0mnet\u001b[0m\u001b[0;34m(\u001b[0m\u001b[0minputs\u001b[0m\u001b[0;34m)\u001b[0m\u001b[0;34m\u001b[0m\u001b[0m\n\u001b[0m\u001b[1;32m     17\u001b[0m     \u001b[0;31m# calculate the loss\u001b[0m\u001b[0;34m\u001b[0m\u001b[0;34m\u001b[0m\u001b[0m\n\u001b[1;32m     18\u001b[0m     \u001b[0mloss\u001b[0m \u001b[0;34m=\u001b[0m \u001b[0mcriterion\u001b[0m\u001b[0;34m(\u001b[0m\u001b[0moutputs\u001b[0m\u001b[0;34m,\u001b[0m\u001b[0mlabels\u001b[0m\u001b[0;34m)\u001b[0m\u001b[0;34m\u001b[0m\u001b[0m\n",
            "\u001b[0;32m/usr/local/lib/python3.6/dist-packages/torch/nn/modules/module.py\u001b[0m in \u001b[0;36m__call__\u001b[0;34m(self, *input, **kwargs)\u001b[0m\n\u001b[1;32m    475\u001b[0m             \u001b[0mresult\u001b[0m \u001b[0;34m=\u001b[0m \u001b[0mself\u001b[0m\u001b[0;34m.\u001b[0m\u001b[0m_slow_forward\u001b[0m\u001b[0;34m(\u001b[0m\u001b[0;34m*\u001b[0m\u001b[0minput\u001b[0m\u001b[0;34m,\u001b[0m \u001b[0;34m**\u001b[0m\u001b[0mkwargs\u001b[0m\u001b[0;34m)\u001b[0m\u001b[0;34m\u001b[0m\u001b[0m\n\u001b[1;32m    476\u001b[0m         \u001b[0;32melse\u001b[0m\u001b[0;34m:\u001b[0m\u001b[0;34m\u001b[0m\u001b[0m\n\u001b[0;32m--> 477\u001b[0;31m             \u001b[0mresult\u001b[0m \u001b[0;34m=\u001b[0m \u001b[0mself\u001b[0m\u001b[0;34m.\u001b[0m\u001b[0mforward\u001b[0m\u001b[0;34m(\u001b[0m\u001b[0;34m*\u001b[0m\u001b[0minput\u001b[0m\u001b[0;34m,\u001b[0m \u001b[0;34m**\u001b[0m\u001b[0mkwargs\u001b[0m\u001b[0;34m)\u001b[0m\u001b[0;34m\u001b[0m\u001b[0m\n\u001b[0m\u001b[1;32m    478\u001b[0m         \u001b[0;32mfor\u001b[0m \u001b[0mhook\u001b[0m \u001b[0;32min\u001b[0m \u001b[0mself\u001b[0m\u001b[0;34m.\u001b[0m\u001b[0m_forward_hooks\u001b[0m\u001b[0;34m.\u001b[0m\u001b[0mvalues\u001b[0m\u001b[0;34m(\u001b[0m\u001b[0;34m)\u001b[0m\u001b[0;34m:\u001b[0m\u001b[0;34m\u001b[0m\u001b[0m\n\u001b[1;32m    479\u001b[0m             \u001b[0mhook_result\u001b[0m \u001b[0;34m=\u001b[0m \u001b[0mhook\u001b[0m\u001b[0;34m(\u001b[0m\u001b[0mself\u001b[0m\u001b[0;34m,\u001b[0m \u001b[0minput\u001b[0m\u001b[0;34m,\u001b[0m \u001b[0mresult\u001b[0m\u001b[0;34m)\u001b[0m\u001b[0;34m\u001b[0m\u001b[0m\n",
            "\u001b[0;32m<ipython-input-104-97dee00f777c>\u001b[0m in \u001b[0;36mforward\u001b[0;34m(self, x)\u001b[0m\n\u001b[1;32m     11\u001b[0m \u001b[0;34m\u001b[0m\u001b[0m\n\u001b[1;32m     12\u001b[0m   \u001b[0;32mdef\u001b[0m \u001b[0mforward\u001b[0m\u001b[0;34m(\u001b[0m\u001b[0mself\u001b[0m\u001b[0;34m,\u001b[0m\u001b[0mx\u001b[0m\u001b[0;34m)\u001b[0m\u001b[0;34m:\u001b[0m\u001b[0;34m\u001b[0m\u001b[0m\n\u001b[0;32m---> 13\u001b[0;31m     \u001b[0mx\u001b[0m \u001b[0;34m=\u001b[0m \u001b[0mself\u001b[0m\u001b[0;34m.\u001b[0m\u001b[0mpool\u001b[0m\u001b[0;34m(\u001b[0m\u001b[0mF\u001b[0m\u001b[0;34m.\u001b[0m\u001b[0mrelu\u001b[0m\u001b[0;34m(\u001b[0m\u001b[0mself\u001b[0m\u001b[0;34m.\u001b[0m\u001b[0mconv1\u001b[0m\u001b[0;34m(\u001b[0m\u001b[0mx\u001b[0m\u001b[0;34m)\u001b[0m\u001b[0;34m)\u001b[0m\u001b[0;34m)\u001b[0m\u001b[0;34m\u001b[0m\u001b[0m\n\u001b[0m\u001b[1;32m     14\u001b[0m     \u001b[0mx\u001b[0m \u001b[0;34m=\u001b[0m \u001b[0mself\u001b[0m\u001b[0;34m.\u001b[0m\u001b[0mpool\u001b[0m\u001b[0;34m(\u001b[0m\u001b[0mF\u001b[0m\u001b[0;34m.\u001b[0m\u001b[0mrelu\u001b[0m\u001b[0;34m(\u001b[0m\u001b[0mself\u001b[0m\u001b[0;34m.\u001b[0m\u001b[0mconv2\u001b[0m\u001b[0;34m(\u001b[0m\u001b[0mx\u001b[0m\u001b[0;34m)\u001b[0m\u001b[0;34m)\u001b[0m\u001b[0;34m)\u001b[0m\u001b[0;34m\u001b[0m\u001b[0m\n\u001b[1;32m     15\u001b[0m     \u001b[0;31m# changing the view\u001b[0m\u001b[0;34m\u001b[0m\u001b[0;34m\u001b[0m\u001b[0m\n",
            "\u001b[0;32m/usr/local/lib/python3.6/dist-packages/torch/nn/modules/module.py\u001b[0m in \u001b[0;36m__call__\u001b[0;34m(self, *input, **kwargs)\u001b[0m\n\u001b[1;32m    475\u001b[0m             \u001b[0mresult\u001b[0m \u001b[0;34m=\u001b[0m \u001b[0mself\u001b[0m\u001b[0;34m.\u001b[0m\u001b[0m_slow_forward\u001b[0m\u001b[0;34m(\u001b[0m\u001b[0;34m*\u001b[0m\u001b[0minput\u001b[0m\u001b[0;34m,\u001b[0m \u001b[0;34m**\u001b[0m\u001b[0mkwargs\u001b[0m\u001b[0;34m)\u001b[0m\u001b[0;34m\u001b[0m\u001b[0m\n\u001b[1;32m    476\u001b[0m         \u001b[0;32melse\u001b[0m\u001b[0;34m:\u001b[0m\u001b[0;34m\u001b[0m\u001b[0m\n\u001b[0;32m--> 477\u001b[0;31m             \u001b[0mresult\u001b[0m \u001b[0;34m=\u001b[0m \u001b[0mself\u001b[0m\u001b[0;34m.\u001b[0m\u001b[0mforward\u001b[0m\u001b[0;34m(\u001b[0m\u001b[0;34m*\u001b[0m\u001b[0minput\u001b[0m\u001b[0;34m,\u001b[0m \u001b[0;34m**\u001b[0m\u001b[0mkwargs\u001b[0m\u001b[0;34m)\u001b[0m\u001b[0;34m\u001b[0m\u001b[0m\n\u001b[0m\u001b[1;32m    478\u001b[0m         \u001b[0;32mfor\u001b[0m \u001b[0mhook\u001b[0m \u001b[0;32min\u001b[0m \u001b[0mself\u001b[0m\u001b[0;34m.\u001b[0m\u001b[0m_forward_hooks\u001b[0m\u001b[0;34m.\u001b[0m\u001b[0mvalues\u001b[0m\u001b[0;34m(\u001b[0m\u001b[0;34m)\u001b[0m\u001b[0;34m:\u001b[0m\u001b[0;34m\u001b[0m\u001b[0m\n\u001b[1;32m    479\u001b[0m             \u001b[0mhook_result\u001b[0m \u001b[0;34m=\u001b[0m \u001b[0mhook\u001b[0m\u001b[0;34m(\u001b[0m\u001b[0mself\u001b[0m\u001b[0;34m,\u001b[0m \u001b[0minput\u001b[0m\u001b[0;34m,\u001b[0m \u001b[0mresult\u001b[0m\u001b[0;34m)\u001b[0m\u001b[0;34m\u001b[0m\u001b[0m\n",
            "\u001b[0;32m/usr/local/lib/python3.6/dist-packages/torch/nn/modules/conv.py\u001b[0m in \u001b[0;36mforward\u001b[0;34m(self, input)\u001b[0m\n\u001b[1;32m    299\u001b[0m     \u001b[0;32mdef\u001b[0m \u001b[0mforward\u001b[0m\u001b[0;34m(\u001b[0m\u001b[0mself\u001b[0m\u001b[0;34m,\u001b[0m \u001b[0minput\u001b[0m\u001b[0;34m)\u001b[0m\u001b[0;34m:\u001b[0m\u001b[0;34m\u001b[0m\u001b[0m\n\u001b[1;32m    300\u001b[0m         return F.conv2d(input, self.weight, self.bias, self.stride,\n\u001b[0;32m--> 301\u001b[0;31m                         self.padding, self.dilation, self.groups)\n\u001b[0m\u001b[1;32m    302\u001b[0m \u001b[0;34m\u001b[0m\u001b[0m\n\u001b[1;32m    303\u001b[0m \u001b[0;34m\u001b[0m\u001b[0m\n",
            "\u001b[0;31mRuntimeError\u001b[0m: Input type (torch.cuda.FloatTensor) and weight type (torch.FloatTensor) should be the same"
          ]
        }
      ]
    },
    {
      "metadata": {
        "id": "PMkZEufaAZwn",
        "colab_type": "text"
      },
      "cell_type": "markdown",
      "source": [
        "### Testing the network on Test Data "
      ]
    },
    {
      "metadata": {
        "id": "JM0qh1EdAkZ5",
        "colab_type": "text"
      },
      "cell_type": "markdown",
      "source": [
        "Predicting the class label the neural network outputs , and checking it against actual labels "
      ]
    },
    {
      "metadata": {
        "id": "nxdN-m8GAzC2",
        "colab_type": "code",
        "colab": {
          "base_uri": "https://localhost:8080/",
          "height": 629
        },
        "outputId": "4e3e7e1a-c790-499a-ca00-75bad7df31ba"
      },
      "cell_type": "code",
      "source": [
        "# Displaying an image from test\n",
        "dataiter = iter(testloader)\n",
        "images,labels = dataiter.next()\n",
        "\n",
        "# print images\n",
        "imgshow(torchvision.utils.make_grid(images))\n",
        "print('Ground Truth :',' '.join('%5s'% classes[labels[j]] for j in range(4)))"
      ],
      "execution_count": 110,
      "outputs": [
        {
          "output_type": "stream",
          "text": [
            "Ground Truth :  ship truck  bird  ship\n"
          ],
          "name": "stdout"
        },
        {
          "output_type": "stream",
          "text": [
            "Exception ignored in: <bound method _DataLoaderIter.__del__ of <torch.utils.data.dataloader._DataLoaderIter object at 0x7ff04c598908>>\n",
            "Traceback (most recent call last):\n",
            "  File \"/usr/local/lib/python3.6/dist-packages/torch/utils/data/dataloader.py\", line 399, in __del__\n",
            "    self._shutdown_workers()\n",
            "  File \"/usr/local/lib/python3.6/dist-packages/torch/utils/data/dataloader.py\", line 378, in _shutdown_workers\n",
            "    self.worker_result_queue.get()\n",
            "  File \"/usr/lib/python3.6/multiprocessing/queues.py\", line 337, in get\n",
            "    return _ForkingPickler.loads(res)\n",
            "  File \"/usr/local/lib/python3.6/dist-packages/torch/multiprocessing/reductions.py\", line 151, in rebuild_storage_fd\n",
            "    fd = df.detach()\n",
            "  File \"/usr/lib/python3.6/multiprocessing/resource_sharer.py\", line 57, in detach\n",
            "    with _resource_sharer.get_connection(self._id) as conn:\n",
            "  File \"/usr/lib/python3.6/multiprocessing/resource_sharer.py\", line 87, in get_connection\n",
            "    c = Client(address, authkey=process.current_process().authkey)\n",
            "  File \"/usr/lib/python3.6/multiprocessing/connection.py\", line 493, in Client\n",
            "    answer_challenge(c, authkey)\n",
            "  File \"/usr/lib/python3.6/multiprocessing/connection.py\", line 737, in answer_challenge\n",
            "    response = connection.recv_bytes(256)        # reject large message\n",
            "  File \"/usr/lib/python3.6/multiprocessing/connection.py\", line 216, in recv_bytes\n",
            "    buf = self._recv_bytes(maxlength)\n",
            "  File \"/usr/lib/python3.6/multiprocessing/connection.py\", line 407, in _recv_bytes\n",
            "    buf = self._recv(4)\n",
            "  File \"/usr/lib/python3.6/multiprocessing/connection.py\", line 379, in _recv\n",
            "    chunk = read(handle, remaining)\n",
            "ConnectionResetError: [Errno 104] Connection reset by peer\n"
          ],
          "name": "stderr"
        },
        {
          "output_type": "display_data",
          "data": {
            "image/png": "[encoded data removed]",
            "text/plain": [
              "<matplotlib.figure.Figure at 0x7ff04d6581d0>"
            ]
          },
          "metadata": {
            "tags": []
          }
        }
      ]
    },
    {
      "metadata": {
        "id": "G_BlAGebBY_8",
        "colab_type": "text"
      },
      "cell_type": "markdown",
      "source": [
        "The predictions are probabilities for 10 classes . Higher the probability , more confidence \n",
        "\n",
        "Getting the index of class from predictions"
      ]
    },
    {
      "metadata": {
        "id": "xs1wnaWpB_Ei",
        "colab_type": "code",
        "colab": {}
      },
      "cell_type": "code",
      "source": [
        "# predictions\n",
        "outputs = net(inputs)"
      ],
      "execution_count": 0,
      "outputs": []
    },
    {
      "metadata": {
        "id": "DUJvJy_oCFhD",
        "colab_type": "code",
        "colab": {
          "base_uri": "https://localhost:8080/",
          "height": 51
        },
        "outputId": "01ca5fb3-105b-4455-ee2c-2c9ff17e0a8b"
      },
      "cell_type": "code",
      "source": [
        "_,predicted = torch.max(outputs,1)\n",
        "\n",
        "print('Predicted    :',' '.join('%5s'% classes[predicted[j]] for j in range(4)))\n",
        "print('Ground Truth :',' '.join('%5s'% classes[labels[j]] for j in range(4)))"
      ],
      "execution_count": 115,
      "outputs": [
        {
          "output_type": "stream",
          "text": [
            "Predicted    :   car  bird  bird  frog\n",
            "Ground Truth :  ship truck  bird  ship\n"
          ],
          "name": "stdout"
        }
      ]
    },
    {
      "metadata": {
        "id": "u8ssynWfCY7f",
        "colab_type": "text"
      },
      "cell_type": "markdown",
      "source": [
        "Performance on whole dataset"
      ]
    },
    {
      "metadata": {
        "id": "zwT_FrtZCozL",
        "colab_type": "code",
        "colab": {}
      },
      "cell_type": "code",
      "source": [
        "def accuracy():\n",
        "  correct = 0\n",
        "  total = 0\n",
        "  with torch.no_grad():\n",
        "    for data in testloader:\n",
        "      #getting data\n",
        "      images,labels = data\n",
        "      if torch.cuda.is_available():\n",
        "        images,labels = images.to(\"cuda\"),labels.to(\"cuda\")\n",
        "      # getting output\n",
        "      outputs = net(images)\n",
        "      # making predictions\n",
        "      _,predicted = torch.max(outputs.data,1)\n",
        "      # total number of images\n",
        "      total +=labels.size(0)\n",
        "      # correct ones\n",
        "      correct +=(predicted == labels).sum().item()\n",
        "      \n",
        "  print('Accuracy :: %d %%'%(100*correct/total))"
      ],
      "execution_count": 0,
      "outputs": []
    },
    {
      "metadata": {
        "id": "Y8xsoryzDilL",
        "colab_type": "code",
        "colab": {
          "base_uri": "https://localhost:8080/",
          "height": 34
        },
        "outputId": "a8574c4a-4af0-4afb-f12a-2e00ab0c1734"
      },
      "cell_type": "code",
      "source": [
        "accuracy()"
      ],
      "execution_count": 117,
      "outputs": [
        {
          "output_type": "stream",
          "text": [
            "Accuracy :: 55 %\n"
          ],
          "name": "stdout"
        }
      ]
    },
    {
      "metadata": {
        "id": "PP94Cg16Djze",
        "colab_type": "text"
      },
      "cell_type": "markdown",
      "source": [
        "Accuracy for each class "
      ]
    },
    {
      "metadata": {
        "id": "Zchcq9fiD1yt",
        "colab_type": "code",
        "colab": {}
      },
      "cell_type": "code",
      "source": [
        "def accuracy_class():\n",
        "  class_correct = list(0. for i in range(10))\n",
        "  class_total = list(0. for i in range(10))\n",
        "\n",
        "  with torch.no_grad():\n",
        "    for data in testloader:\n",
        "      images,labels = data\n",
        "      if torch.cuda.is_available():\n",
        "        images,labels = images.to(\"cuda\"),labels.to(\"cuda\")\n",
        "      outputs = net(images)\n",
        "      _,predicted = torch.max(outputs.data,1)\n",
        "      c = (predicted==labels).squeeze()\n",
        "      for i in range(4):\n",
        "        label = labels[i]\n",
        "        class_correct[label] +=c[i].item()\n",
        "        class_total[label] +=1\n",
        " \n",
        "  for i in range(10):\n",
        "    print('Accuracy of %5s : %2d %%'%(classes[i],\n",
        "          100*class_correct[i]/class_total[i]))\n",
        "      "
      ],
      "execution_count": 0,
      "outputs": []
    },
    {
      "metadata": {
        "id": "HvPtlllDFKwG",
        "colab_type": "code",
        "colab": {
          "base_uri": "https://localhost:8080/",
          "height": 187
        },
        "outputId": "5fbaf594-dc35-4aee-b94e-c793f2437905"
      },
      "cell_type": "code",
      "source": [
        "accuracy_class()"
      ],
      "execution_count": 120,
      "outputs": [
        {
          "output_type": "stream",
          "text": [
            "Accuracy of plane : 44 %\n",
            "Accuracy of   car : 81 %\n",
            "Accuracy of  bird : 45 %\n",
            "Accuracy of   cat : 30 %\n",
            "Accuracy of  deer : 43 %\n",
            "Accuracy of   dog : 43 %\n",
            "Accuracy of  frog : 73 %\n",
            "Accuracy of horse : 68 %\n",
            "Accuracy of  ship : 82 %\n",
            "Accuracy of truck : 45 %\n"
          ],
          "name": "stdout"
        }
      ]
    },
    {
      "metadata": {
        "id": "Jbui8hdUFQK8",
        "colab_type": "text"
      },
      "cell_type": "markdown",
      "source": [
        "** Training on GPU **"
      ]
    },
    {
      "metadata": {
        "id": "rHXT1MluGHeH",
        "colab_type": "code",
        "colab": {
          "base_uri": "https://localhost:8080/",
          "height": 173
        },
        "outputId": "cc9525fc-74f0-4f39-fe96-961dc64ec342"
      },
      "cell_type": "code",
      "source": [
        "net.to(\"cuda\")"
      ],
      "execution_count": 126,
      "outputs": [
        {
          "output_type": "execute_result",
          "data": {
            "text/plain": [
              "convNet(\n",
              "  (conv1): Conv2d(3, 6, kernel_size=(5, 5), stride=(1, 1))\n",
              "  (pool): MaxPool2d(kernel_size=2, stride=2, padding=0, dilation=1, ceil_mode=False)\n",
              "  (conv2): Conv2d(6, 16, kernel_size=(5, 5), stride=(1, 1))\n",
              "  (fc1): Linear(in_features=400, out_features=120, bias=True)\n",
              "  (fc2): Linear(in_features=120, out_features=84, bias=True)\n",
              "  (fc3): Linear(in_features=84, out_features=10, bias=True)\n",
              ")"
            ]
          },
          "metadata": {
            "tags": []
          },
          "execution_count": 126
        }
      ]
    },
    {
      "metadata": {
        "id": "h8q8kXb2GxTR",
        "colab_type": "code",
        "colab": {}
      },
      "cell_type": "code",
      "source": [
        "# Need to define criteria and optimizer again \n",
        "# as net has changed and optimizer will fail\n",
        "criterion = nn.CrossEntropyLoss()\n",
        "optimizer = optim.SGD(net.parameters(),lr=0.001,momentum=0.9)"
      ],
      "execution_count": 0,
      "outputs": []
    },
    {
      "metadata": {
        "id": "zaN-_818GJ-X",
        "colab_type": "code",
        "colab": {
          "base_uri": "https://localhost:8080/",
          "height": 340
        },
        "outputId": "f4a0e193-ff12-4b62-e396-e1788cdb317d"
      },
      "cell_type": "code",
      "source": [
        "# loop over entire dataset multiple times \n",
        "for epoch in range(3):\n",
        "  \n",
        "  running_loss =0.0\n",
        "  for i,data in enumerate(trainloader,0):\n",
        "    # get the inputs\n",
        "    inputs,labels = data\n",
        "    \n",
        "    ## if gpu present\n",
        "    inputs , labels = inputs.to(\"cuda\"),labels.to(\"cuda\")\n",
        "    \n",
        "    # zero the gradients\n",
        "    optimizer.zero_grad()\n",
        "    \n",
        "    # forward pass\n",
        "    outputs = net(inputs)\n",
        "    # calculate the loss \n",
        "    loss = criterion(outputs,labels)\n",
        "    # backprop\n",
        "    loss.backward()\n",
        "    # update weights\n",
        "    optimizer.step()\n",
        "    \n",
        "    # Prining stats every 2000 mini batch\n",
        "    running_loss +=loss.item()\n",
        "    if i%2000 == 1999:\n",
        "      print('[%d,%5d] loss: %.3f'%\n",
        "            (epoch+1,i+1,running_loss/2000))\n",
        "      running_loss =0.0\n",
        "      \n",
        "      \n",
        "print('Finished')"
      ],
      "execution_count": 129,
      "outputs": [
        {
          "output_type": "stream",
          "text": [
            "[1, 2000] loss: 1.226\n",
            "[1, 4000] loss: 1.206\n",
            "[1, 6000] loss: 1.200\n",
            "[1, 8000] loss: 1.186\n",
            "[1,10000] loss: 1.175\n",
            "[1,12000] loss: 1.180\n",
            "[2, 2000] loss: 1.090\n",
            "[2, 4000] loss: 1.104\n",
            "[2, 6000] loss: 1.107\n",
            "[2, 8000] loss: 1.104\n",
            "[2,10000] loss: 1.092\n",
            "[2,12000] loss: 1.106\n",
            "[3, 2000] loss: 1.001\n",
            "[3, 4000] loss: 1.028\n",
            "[3, 6000] loss: 1.034\n",
            "[3, 8000] loss: 1.038\n",
            "[3,10000] loss: 1.037\n",
            "[3,12000] loss: 1.043\n",
            "Finished\n"
          ],
          "name": "stdout"
        }
      ]
    },
    {
      "metadata": {
        "id": "MY9CM56iGRG7",
        "colab_type": "code",
        "colab": {
          "base_uri": "https://localhost:8080/",
          "height": 34
        },
        "outputId": "78477bcb-9ed9-4498-cde4-7b1844b035d5"
      },
      "cell_type": "code",
      "source": [
        "accuracy()"
      ],
      "execution_count": 132,
      "outputs": [
        {
          "output_type": "stream",
          "text": [
            "Accuracy :: 66 %\n"
          ],
          "name": "stdout"
        }
      ]
    },
    {
      "metadata": {
        "id": "sKfTZ0FVIrvq",
        "colab_type": "code",
        "colab": {
          "base_uri": "https://localhost:8080/",
          "height": 187
        },
        "outputId": "d764e7b8-2bae-4b24-ebd1-78cff7209b48"
      },
      "cell_type": "code",
      "source": [
        "accuracy_class()"
      ],
      "execution_count": 133,
      "outputs": [
        {
          "output_type": "stream",
          "text": [
            "Accuracy of plane : 73 %\n",
            "Accuracy of   car : 87 %\n",
            "Accuracy of  bird : 54 %\n",
            "Accuracy of   cat : 34 %\n",
            "Accuracy of  deer : 62 %\n",
            "Accuracy of   dog : 53 %\n",
            "Accuracy of  frog : 79 %\n",
            "Accuracy of horse : 81 %\n",
            "Accuracy of  ship : 68 %\n",
            "Accuracy of truck : 72 %\n"
          ],
          "name": "stdout"
        }
      ]
    },
    {
      "metadata": {
        "id": "WcIGNpbHIt0w",
        "colab_type": "code",
        "colab": {}
      },
      "cell_type": "code",
      "source": [
        ""
      ],
      "execution_count": 0,
      "outputs": []
    }
  ]
}